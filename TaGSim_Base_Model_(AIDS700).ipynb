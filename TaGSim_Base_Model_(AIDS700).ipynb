{
  "cells": [
    {
      "cell_type": "markdown",
      "metadata": {
        "id": "view-in-github",
        "colab_type": "text"
      },
      "source": [
        "<a href=\"https://colab.research.google.com/github/neuralresearch/CS39-6/blob/main/TaGSim_Base_Model_(AIDS700).ipynb\" target=\"_parent\"><img src=\"https://colab.research.google.com/assets/colab-badge.svg\" alt=\"Open In Colab\"/></a>"
      ]
    },
    {
      "cell_type": "markdown",
      "source": [
        "##Type-Aware Graph Embedding"
      ],
      "metadata": {
        "id": "zpCYVeyGVmNt"
      }
    },
    {
      "cell_type": "markdown",
      "source": [
        "### Loading New Dataset"
      ],
      "metadata": {
        "id": "OZaanozgDroV"
      }
    },
    {
      "cell_type": "code",
      "source": [
        "# Code to download file into Colaboratory:\n",
        "!pip install -U -q PyDrive\n",
        "from pydrive.auth import GoogleAuth\n",
        "from pydrive.drive import GoogleDrive\n",
        "from google.colab import auth\n",
        "from oauth2client.client import GoogleCredentials\n",
        "# Authenticate and create the PyDrive client.\n",
        "auth.authenticate_user()\n",
        "gauth = GoogleAuth()\n",
        "gauth.credentials = GoogleCredentials.get_application_default()\n",
        "drive = GoogleDrive(gauth)\n",
        "\n",
        "#---------- dataset with inconsistent GED length between 5 and 10\n",
        "#get the train data from the drive\n",
        "# id = '1s7ng3JypVvjtoUF8eUFPGroCTNtkxzIE'\n",
        "# downloaded = drive.CreateFile({'id':id}) \n",
        "# downloaded.GetContentFile('updated_train.zip')\n",
        "# #get the test data from the drive\n",
        "# id = '11FK00L91jajUW15hzjsskNkN0DRsS_yN'\n",
        "# downloaded = drive.CreateFile({'id':id}) \n",
        "# downloaded.GetContentFile('updated_test.zip')\n",
        "\n",
        "#get the AIDS700 dataset from the drive\n",
        "id = '1E07PMf68jMo-rULzHfE_q7chqgaYGsXp'\n",
        "downloaded = drive.CreateFile({'id':id}) \n",
        "downloaded.GetContentFile('AIDS700.zip')\n",
        "\n",
        "#get AIDS700 real GED pair info\n",
        "id = '1r6W2IzLvD4Fnu1GTBKQcdWGMdJe0SC7P'\n",
        "downloaded = drive.CreateFile({'id':id}) \n",
        "downloaded.GetContentFile('realGED.zip')\n",
        "\n",
        "#----------- dataset with consistent GED length 8\n",
        "#get the train data from the drive\n",
        "id = '1pq_whnIWaEePV8Q2y0dv7bsrySRfTzvu'\n",
        "downloaded = drive.CreateFile({'id':id}) \n",
        "downloaded.GetContentFile('train8.zip')\n",
        "#get the test data from the drive\n",
        "id = '1YVFaNJ2To7zdginIodMsJQrHD_he1fth'\n",
        "downloaded = drive.CreateFile({'id':id}) \n",
        "downloaded.GetContentFile('test8.zip')\n",
        "!ls"
      ],
      "metadata": {
        "colab": {
          "base_uri": "https://localhost:8080/"
        },
        "id": "KW7Vd3TpD0YV",
        "outputId": "828692a9-89ec-4d1c-8e73-9db84b5a52c2"
      },
      "execution_count": null,
      "outputs": [
        {
          "output_type": "stream",
          "name": "stdout",
          "text": [
            "AIDS700.zip  realGED.zip  sample_data  test8.zip  train8.zip\n"
          ]
        }
      ]
    },
    {
      "cell_type": "code",
      "source": [
        "#if train and test exist do not run this part\n",
        "#removing the dialog\n",
        "%%capture\n",
        "#unzip the file\n",
        "# updated_train\n",
        "# updated_test\n",
        "!unzip AIDS700.zip\n",
        "!unzip train8.zip\n",
        "!unzip test8.zip\n",
        "!unzip realGED.zip"
      ],
      "metadata": {
        "id": "2QmHYAa4KBhc"
      },
      "execution_count": null,
      "outputs": []
    },
    {
      "cell_type": "markdown",
      "source": [
        "### Data visualization"
      ],
      "metadata": {
        "id": "4zswRJSxV_aG"
      }
    },
    {
      "cell_type": "code",
      "source": [
        "# pick a pair graph\n",
        "import os\n",
        "import random\n",
        "import matplotlib.pyplot as plt\n",
        "import networkx as nx\n",
        "\n",
        "dirName = 'train8/' #updated_train\n",
        "filenames = os.listdir(dirName)\n",
        "\n",
        "#pick random pair\n",
        "pair_1 = random.choice(filenames)\n",
        "while '_' in pair_1:\n",
        "  pair_1 = random.choice(filenames)\n",
        "for filename in filenames:\n",
        "    if filename.endswith(\"_\"+pair_1):\n",
        "      pair_2 = filename\n",
        "      ged = pair_2.split('_', 1)[0]\n",
        "#read pair 1\n",
        "print(\"First graph: \"+pair_1)\n",
        "graph1 = nx.read_gexf(dirName+pair_1) #updated_train\n",
        "\n",
        "node_info = nx.get_node_attributes(graph1, 'type')\n",
        "edge_info = dict([((n1, n2), d['valence']) for n1, n2, d in graph1.edges(data=True)])\n",
        "\n",
        "#graph display\n",
        "pos = nx.spring_layout(graph1, scale=1.5)  \n",
        "plt.figure(1,figsize=(10,10)) \n",
        "nx.draw(graph1, pos, labels=node_info, font_color=\"white\")\n",
        "nx.draw_networkx_edge_labels(graph1, pos, edge_labels=edge_info, font_color=\"red\")\n",
        "plt.show()\n",
        "#read pair 2\n",
        "print(\"Second graph: \"+pair_2)\n",
        "graph2 = nx.read_gexf(dirName+pair_2) #updated_train\n",
        "\n",
        "node_info = nx.get_node_attributes(graph2, 'type')\n",
        "edge_info = dict([((n1, n2), d['valence']) for n1, n2, d in graph2.edges(data=True)])\n",
        "\n",
        "#graph display\n",
        "pos = nx.spring_layout(graph2, scale=1.5)  \n",
        "plt.figure(1,figsize=(10,10)) \n",
        "nx.draw(graph2, pos, labels=node_info, font_color=\"white\")\n",
        "nx.draw_networkx_edge_labels(graph2, pos, edge_labels=edge_info, font_color=\"red\")\n",
        "plt.show()\n",
        "print(\"Their GED: \"+ged)"
      ],
      "metadata": {
        "colab": {
          "base_uri": "https://localhost:8080/",
          "height": 1000
        },
        "id": "CXobnATwVOVH",
        "outputId": "0fc7cacf-ee5c-4b12-ffa4-ef59702e7d7c"
      },
      "execution_count": null,
      "outputs": [
        {
          "output_type": "stream",
          "name": "stdout",
          "text": [
            "First graph: 20477.gexf\n"
          ]
        },
        {
          "output_type": "display_data",
          "data": {
            "text/plain": [
              "<Figure size 720x720 with 1 Axes>"
            ],
            "image/png": "[encoded data removed]"
          },
          "metadata": {}
        },
        {
          "output_type": "stream",
          "name": "stdout",
          "text": [
            "Second graph: 34331343_20477.gexf\n"
          ]
        },
        {
          "output_type": "display_data",
          "data": {
            "text/plain": [
              "<Figure size 720x720 with 1 Axes>"
            ],
            "image/png": "[encoded data removed]"
          },
          "metadata": {}
        },
        {
          "output_type": "stream",
          "name": "stdout",
          "text": [
            "Their GED: 34331343\n"
          ]
        }
      ]
    },
    {
      "cell_type": "code",
      "source": [
        "#size of the train / test file after Graph Generation\n",
        "dirName = 'AIDS700nef/train/'\n",
        "filenames = os.listdir(dirName)\n",
        "count = 0\n",
        "for filename in filenames:\n",
        "    if filename.endswith(\".gexf\"):\n",
        "      count += 1\n",
        "print(count)\n",
        "dirName_test = 'AIDS700nef/test/'\n",
        "filenames = os.listdir(dirName_test)\n",
        "count = 0\n",
        "for filename in filenames:\n",
        "    if filename.endswith(\".gexf\"):\n",
        "      count += 1\n",
        "print(count)"
      ],
      "metadata": {
        "colab": {
          "base_uri": "https://localhost:8080/"
        },
        "id": "oAvzkFkxF-yi",
        "outputId": "345f679d-1b16-424e-c5f8-b9b4d304c450"
      },
      "execution_count": null,
      "outputs": [
        {
          "output_type": "stream",
          "name": "stdout",
          "text": [
            "560\n",
            "140\n"
          ]
        }
      ]
    },
    {
      "cell_type": "markdown",
      "source": [
        "### generating real-GED by Networkx"
      ],
      "metadata": {
        "id": "ZalAoWikG8lD"
      }
    },
    {
      "cell_type": "code",
      "source": [
        "# import pandas as pd\n",
        "# dirName = 'AIDS700nef/test/'\n",
        "# filenames = os.listdir(dirName)\n",
        "# count = 0\n",
        "# real_test_pair = []\n",
        "\n",
        "# random.shuffle(filenames)\n",
        "# filename1 = filenames[:int(len(filenames)/2)]\n",
        "# filename2 = filenames[int(len(filenames)/2):]\n",
        "# print(len(filename1))\n",
        "\n",
        "# for i in range(len(filename1)):\n",
        "#   graph1 = nx.read_gexf(dirName+filename1[i])\n",
        "#   graph2 = nx.read_gexf(dirName+filename2[i])\n",
        "#   paths, cost = nx.optimal_edit_paths(graph1, graph2)\n",
        "#   ged = cost\n",
        "#   real_test_pair.append([filename1[i], filename2[i], ged])\n",
        "#   count += 1\n",
        "#   print(count)"
      ],
      "metadata": {
        "id": "Uj98UfOxG6ne"
      },
      "execution_count": null,
      "outputs": []
    },
    {
      "cell_type": "code",
      "source": [
        "# df = pd.DataFrame(real_test_pair, columns=['graph1', 'graph2', 'ged'])\n",
        "# df\n",
        "# dirName = 'AIDS700nef/'\n",
        "# df.to_csv(dirName+'realGED.csv',index = False) "
      ],
      "metadata": {
        "id": "obIA-GLvR5LG"
      },
      "execution_count": null,
      "outputs": []
    },
    {
      "cell_type": "code",
      "source": [
        "# from google.colab import drive\n",
        "# drive.mount('/content/drive')\n",
        "\n",
        "# !cp -r '/content/AIDS700nef/realGED.csv' '/content/drive/MyDrive/Sydney Uni/COMP5703 _Capstone Project/Implementation/'"
      ],
      "metadata": {
        "id": "vBq9G3pHct57"
      },
      "execution_count": null,
      "outputs": []
    },
    {
      "cell_type": "code",
      "source": [
        "import pandas as pd\n",
        "df = pd.read_csv('realGED.csv')\n",
        "realGED_info = df.values.tolist()\n",
        "print(realGED_info)\n",
        "print(int(realGED_info[0][2]))"
      ],
      "metadata": {
        "colab": {
          "base_uri": "https://localhost:8080/"
        },
        "id": "NO4HZe3epnvU",
        "outputId": "d566a0a9-dfeb-40b0-d1ce-a010e48843fb"
      },
      "execution_count": null,
      "outputs": [
        {
          "output_type": "stream",
          "name": "stdout",
          "text": [
            "[['3700.gexf', '1014.gexf', 4.0], ['12435.gexf', '34208.gexf', 5.0], ['13339.gexf', '27583.gexf', 1.0], ['1540.gexf', '9366.gexf', 8.0], ['2817.gexf', '23509.gexf', 4.0], ['30.gexf', '986.gexf', 9.0], ['10121.gexf', '9102.gexf', 6.0], ['21828.gexf', '11423.gexf', 4.0], ['91.gexf', '769.gexf', 4.0], ['940.gexf', '6260.gexf', 2.0], ['31112.gexf', '15697.gexf', 8.0], ['6998.gexf', '36305.gexf', 4.0], ['2590.gexf', '3323.gexf', 6.0], ['1693.gexf', '20701.gexf', 2.0], ['41087.gexf', '1101.gexf', 6.0], ['12261.gexf', '65.gexf', 6.0], ['3577.gexf', '1436.gexf', 5.0], ['32362.gexf', '1029.gexf', 4.0], ['19264.gexf', '3179.gexf', 5.0], ['559.gexf', '52.gexf', 14.0], ['4463.gexf', '2790.gexf', 4.0], ['1136.gexf', '170.gexf', 3.0], ['1888.gexf', '11572.gexf', 4.0], ['24933.gexf', '23532.gexf', 6.0], ['152.gexf', '245.gexf', 6.0], ['1939.gexf', '2486.gexf', 6.0], ['7909.gexf', '8913.gexf', 10.0], ['35995.gexf', '5670.gexf', 4.0], ['4335.gexf', '20680.gexf', 2.0], ['990.gexf', '244.gexf', 7.0], ['1635.gexf', '39567.gexf', 3.0], ['27325.gexf', '68.gexf', 3.0], ['15841.gexf', '830.gexf', 4.0], ['28914.gexf', '5320.gexf', 5.0], ['40648.gexf', '602.gexf', 4.0], ['4263.gexf', '6.gexf', 4.0], ['7280.gexf', '15414.gexf', 4.0], ['15223.gexf', '13238.gexf', 4.0], ['9833.gexf', '9275.gexf', 4.0], ['3180.gexf', '6004.gexf', 5.0], ['6786.gexf', '2966.gexf', 6.0], ['642.gexf', '5306.gexf', 7.0], ['6756.gexf', '4797.gexf', 4.0], ['1987.gexf', '2127.gexf', 4.0], ['1011.gexf', '2024.gexf', 3.0], ['3009.gexf', '9344.gexf', 4.0], ['1079.gexf', '25947.gexf', 3.0], ['6216.gexf', '1047.gexf', 2.0], ['35403.gexf', '37899.gexf', 4.0], ['2592.gexf', '5640.gexf', 5.0], ['20705.gexf', '2413.gexf', 5.0], ['10303.gexf', '5343.gexf', 6.0], ['13479.gexf', '350.gexf', 6.0], ['906.gexf', '15378.gexf', 3.0], ['12325.gexf', '6484.gexf', 6.0], ['28589.gexf', '7766.gexf', 6.0], ['2355.gexf', '6389.gexf', 10.0], ['34410.gexf', '6080.gexf', 7.0], ['35343.gexf', '2855.gexf', 7.0], ['4935.gexf', '34844.gexf', 3.0], ['6072.gexf', '1322.gexf', 10.0], ['6265.gexf', '2622.gexf', 3.0], ['3758.gexf', '13232.gexf', 4.0], ['6396.gexf', '14314.gexf', 5.0], ['37632.gexf', '19748.gexf', 3.0], ['1743.gexf', '3950.gexf', 5.0], ['34254.gexf', '2547.gexf', 3.0], ['2467.gexf', '7833.gexf', 5.0], ['1074.gexf', '31025.gexf', 2.0], ['1033.gexf', '8124.gexf', 5.0]]\n",
            "4\n"
          ]
        }
      ]
    },
    {
      "cell_type": "markdown",
      "source": [
        "###TaGSim Base-Model"
      ],
      "metadata": {
        "id": "BLt9wC1reG_S"
      }
    },
    {
      "cell_type": "code",
      "source": [
        "# import pprint\n",
        "# label_multiset = transform_label_multiset(graph1, graph2, ged)\n",
        "# pprint.pprint(label_multiset)"
      ],
      "metadata": {
        "id": "oJBoYC6w7O1V"
      },
      "execution_count": null,
      "outputs": []
    },
    {
      "cell_type": "code",
      "source": [
        "import torch\n",
        "import numpy as np\n",
        "class TensorNetworkModule(torch.nn.Module):\n",
        "  def __init__(self, tensor_neurons, input_dim):\n",
        "    super(TensorNetworkModule, self).__init__()\n",
        "    self.input_dim = input_dim\n",
        "    self.tensor_neurons = tensor_neurons\n",
        "    self.setup_weights()\n",
        "    self.init_parameters()\n",
        "\n",
        "  def setup_weights(self):\n",
        "    self.weight_matrix = torch.nn.Parameter(torch.Tensor(self.input_dim, self.input_dim, self.tensor_neurons))\n",
        "    self.weight_matrix_block = torch.nn.Parameter(torch.Tensor(self.tensor_neurons, 2*self.input_dim))\n",
        "    self.bias = torch.nn.Parameter(torch.Tensor(self.tensor_neurons, 1))\n",
        "\n",
        "  def init_parameters(self):\n",
        "    torch.nn.init.xavier_uniform_(self.weight_matrix)\n",
        "    torch.nn.init.xavier_uniform_(self.weight_matrix_block)\n",
        "    torch.nn.init.xavier_uniform_(self.bias)\n",
        "\n",
        "  def forward(self, embedding_1, embedding_2):\n",
        "    scoring = torch.mm(torch.t(embedding_1), self.weight_matrix.view(self.input_dim, -1))\n",
        "    scoring = scoring.view(self.input_dim, self.tensor_neurons)\n",
        "    scoring = torch.mm(torch.t(scoring), embedding_2)\n",
        "    combined_representation = torch.cat((embedding_1, embedding_2))\n",
        "    block_scoring = torch.mm(self.weight_matrix_block, combined_representation)\n",
        "    scores = torch.nn.functional.relu(scoring + block_scoring + self.bias)\n",
        "    return scores\n",
        "\n",
        "def graph_aggregation_layer(input, adj):\n",
        "    result = torch.mm(adj, input)\n",
        "    return result\n",
        "\n",
        "class TaGSim(torch.nn.Module):\n",
        "  def __init__(self, number_of_node_labels, number_of_edge_labels, tensor_neurons, bottle_neck_neurons):\n",
        "    super(TaGSim, self).__init__()\n",
        "    self.number_of_node_labels = len(number_of_node_labels)\n",
        "    self.number_of_edge_labels = len(number_of_edge_labels)\n",
        "    self.node_type = number_of_node_labels\n",
        "    self.edge_type = number_of_edge_labels\n",
        "    self.tensor_neurons = tensor_neurons\n",
        "    self.bottle_neck_neurons = bottle_neck_neurons\n",
        "    self.setup_layers()\n",
        "  \n",
        "  def setup_layers(self):\n",
        "    self.feature_count = self.tensor_neurons\n",
        "\n",
        "    self.tensor_network_nc = TensorNetworkModule(self.tensor_neurons, 2*self.number_of_node_labels)\n",
        "    self.tensor_network_in = TensorNetworkModule(self.tensor_neurons, 2*self.number_of_node_labels)\n",
        "    self.tensor_network_ie = TensorNetworkModule(self.tensor_neurons, 2*self.number_of_node_labels)\n",
        "    self.tensor_network_ec = TensorNetworkModule(self.tensor_neurons, 2*self.number_of_edge_labels)\n",
        "\n",
        "    self.fully_connected_first_nc = torch.nn.Linear(self.feature_count, self.bottle_neck_neurons)\n",
        "    self.fully_connected_second_nc = torch.nn.Linear(self.bottle_neck_neurons, 8)\n",
        "    self.fully_connected_third_nc = torch.nn.Linear(8, 4)\n",
        "    self.scoring_layer_nc = torch.nn.Linear(4, 1)\n",
        "\n",
        "    self.fully_connected_first_in = torch.nn.Linear(self.feature_count, self.bottle_neck_neurons)\n",
        "    self.fully_connected_second_in = torch.nn.Linear(self.bottle_neck_neurons, 8)\n",
        "    self.fully_connected_third_in = torch.nn.Linear(8, 4)\n",
        "    self.scoring_layer_in = torch.nn.Linear(4, 1)\n",
        "\n",
        "    self.fully_connected_first_ie = torch.nn.Linear(self.feature_count, self.bottle_neck_neurons)\n",
        "    self.fully_connected_second_ie = torch.nn.Linear(self.bottle_neck_neurons, 8)\n",
        "    self.fully_connected_third_ie = torch.nn.Linear(8, 4)\n",
        "    self.scoring_layer_ie = torch.nn.Linear(4, 1)\n",
        "\n",
        "    self.fully_connected_first_ec = torch.nn.Linear(self.feature_count, self.bottle_neck_neurons)\n",
        "    self.fully_connected_second_ec = torch.nn.Linear(self.bottle_neck_neurons, 8)\n",
        "    self.fully_connected_third_ec = torch.nn.Linear(8, 4)\n",
        "    self.scoring_layer_ec = torch.nn.Linear(4, 1)\n",
        "\n",
        "\n",
        "  def gal_pass(self, edge_index, features):\n",
        "    hidden1 = graph_aggregation_layer(features, edge_index)\n",
        "    hidden2 = graph_aggregation_layer(hidden1, edge_index)\n",
        "\n",
        "    return hidden1, hidden2\n",
        "  \n",
        "  def forward(self, label_multiset):\n",
        "    adj_1, adj_2 = torch.FloatTensor(np.array(label_multiset[\"node_index_1\"].todense())), torch.FloatTensor(np.array(label_multiset[\"node_index_2\"].todense()))\n",
        "    edge_adj_1, edge_adj_2 =  label_multiset[\"edge_adj_1\"], label_multiset[\"edge_adj_2\"]\n",
        "    node_features_1, node_features_2 = label_multiset[\"node_features_1\"], label_multiset[\"node_features_2\"]\n",
        "    edge_features_1, edge_features_2 = label_multiset[\"edge_features_1\"], label_multiset[\"edge_features_2\"]\n",
        "\n",
        "    #gal\n",
        "    graph1_hidden1, graph1_hidden2 = self.gal_pass(adj_1, node_features_1)#original graph node\n",
        "    graph2_hidden1, graph2_hidden2 = self.gal_pass(adj_2, node_features_2)#generated graph node\n",
        "    edge1_hidden1, edge1_hidden2 = self.gal_pass(edge_adj_1, edge_features_1)#original edge node\n",
        "    edge2_hidden1, edge2_hidden2 = self.gal_pass(edge_adj_2, edge_features_2)#generated graph edge\n",
        "    #node level embedding Concatenation\n",
        "    graph1_01concat = torch.cat([node_features_1, graph1_hidden1], dim=1)\n",
        "    graph2_01concat = torch.cat([node_features_2, graph2_hidden1], dim=1)\n",
        "    graph1_12concat = torch.cat([graph1_hidden1, graph1_hidden2], dim=1)\n",
        "    graph2_12concat = torch.cat([graph2_hidden1, graph2_hidden2], dim=1)\n",
        "    #graph pooling: node Sum\n",
        "    graph1_01pooled = torch.sum(graph1_01concat, dim=0).unsqueeze(1)\n",
        "    graph2_01pooled = torch.sum(graph2_01concat, dim=0).unsqueeze(1)\n",
        "    graph1_12pooled = torch.sum(graph1_12concat, dim=0).unsqueeze(1)\n",
        "    graph2_12pooled = torch.sum(graph2_12concat, dim=0).unsqueeze(1)\n",
        "    #edge level embedding Concatenation\n",
        "    edge1_01concat = torch.cat([edge_features_1, edge1_hidden1], dim=1)\n",
        "    edge2_01concat = torch.cat([edge_features_2, edge2_hidden1], dim=1)\n",
        "    #graph pooling: edge Sum\n",
        "    edge1_01pooled = torch.sum(edge1_01concat, dim=0).unsqueeze(1)\n",
        "    edge2_01pooled = torch.sum(edge2_01concat, dim=0).unsqueeze(1)\n",
        "\n",
        "    scores_nc = self.tensor_network_nc(graph1_01pooled, graph2_01pooled)\n",
        "    scores_nc = torch.t(scores_nc)\n",
        "\n",
        "    scores_nc = torch.nn.functional.relu(self.fully_connected_first_nc(scores_nc))\n",
        "    scores_nc = torch.nn.functional.relu(self.fully_connected_second_nc(scores_nc))\n",
        "    scores_nc = torch.nn.functional.relu(self.fully_connected_third_nc(scores_nc))\n",
        "    score_nc = torch.sigmoid(self.scoring_layer_nc(scores_nc))\n",
        "\n",
        "    scores_in = self.tensor_network_in(graph1_01pooled, graph2_01pooled)\n",
        "    scores_in = torch.t(scores_in)\n",
        "\n",
        "    scores_in = torch.nn.functional.relu(self.fully_connected_first_in(scores_in))\n",
        "    scores_in = torch.nn.functional.relu(self.fully_connected_second_in(scores_in))\n",
        "    scores_in = torch.nn.functional.relu(self.fully_connected_third_in(scores_in))\n",
        "    score_in = torch.sigmoid(self.scoring_layer_in(scores_in))\n",
        "\n",
        "    scores_ie = self.tensor_network_ie(graph1_12pooled, graph2_12pooled)\n",
        "    scores_ie = torch.t(scores_ie)\n",
        "\n",
        "    scores_ie = torch.nn.functional.relu(self.fully_connected_first_ie(scores_ie))\n",
        "    scores_ie = torch.nn.functional.relu(self.fully_connected_second_ie(scores_ie))\n",
        "    scores_ie = torch.nn.functional.relu(self.fully_connected_third_ie(scores_ie))\n",
        "    score_ie = torch.sigmoid(self.scoring_layer_ie(scores_ie))\n",
        "\n",
        "    scores_ec = self.tensor_network_ec(edge1_01pooled, edge2_01pooled)\n",
        "    scores_ec = torch.t(scores_ec)\n",
        "\n",
        "    scores_ec = torch.nn.functional.relu(self.fully_connected_first_ec(scores_ec))\n",
        "    scores_ec = torch.nn.functional.relu(self.fully_connected_second_ec(scores_ec))\n",
        "    scores_ec = torch.nn.functional.relu(self.fully_connected_third_ec(scores_ec))\n",
        "    score_ec = torch.sigmoid(self.scoring_layer_ec(scores_ec))\n",
        "\n",
        "    return torch.cat([score_nc, score_in, score_ie, score_ec], dim=1)\n",
        "\n",
        "  def transform_label_multiset(self, graph_pair, type_specified=True):\n",
        "    graph1 = graph_pair['graph_pair'][0]\n",
        "    graph2 = graph_pair['graph_pair'][1]\n",
        "    ged = graph_pair['ged']\n",
        "    #node and edge info of pair graph\n",
        "    node_info1 = nx.get_node_attributes(graph1, 'type')\n",
        "    node_info2 = nx.get_node_attributes(graph2, 'type')\n",
        "    edge_info1 = nx.get_edge_attributes(graph1, 'valence')\n",
        "    edge_info2 = nx.get_edge_attributes(graph2, 'valence')\n",
        "    nodes1 = list(graph1.nodes())\n",
        "    nodes2 = list(graph2.nodes())\n",
        "    edges1 = list(graph1.edges())\n",
        "    edges2 = list(graph2.edges())\n",
        "\n",
        "    label_multiset  = dict()\n",
        "    node_features_1, node_features_2, edge_features_1, edge_features_2, edge_adj_1, edge_adj_2 = [], [], [], [], [], []\n",
        "\n",
        "    for i in graph1.nodes():\n",
        "      node_features_1.append([1.0 if node_info1[i] == node else 0.0 for node in self.node_type])\n",
        "    for i in graph2.nodes():\n",
        "      node_features_2.append([1.0 if node_info2[i] == node else 0.0 for node in self.node_type])\n",
        "    node_features_1, node_features_2 = torch.FloatTensor(np.array(node_features_1)), torch.FloatTensor(np.array(node_features_2))\n",
        "\n",
        "    for i in edges1:\n",
        "      edge_features_1.append([1.0 if edge_info1[i] == edge else 0.0 for edge in self.edge_type])\n",
        "      adj_row = []\n",
        "      for d in edges1:\n",
        "          if(i == d):\n",
        "              adj_row.append(0.0)\n",
        "              continue\n",
        "          if((i[0] in d) | (i[1] in d)):\n",
        "              adj_row.append(1.0)\n",
        "          else:\n",
        "              adj_row.append(0.0)\n",
        "      edge_adj_1.append(adj_row)\n",
        "    for i in edges2:\n",
        "      edge_features_2.append([1.0 if edge_info2[i] == edge else 0.0 for edge in self.edge_type])\n",
        "      adj_row = []\n",
        "      for d in edges2:\n",
        "          if(i == d):\n",
        "              adj_row.append(0.0)\n",
        "              continue\n",
        "          if((i[0] in d) | (i[1] in d)):\n",
        "              adj_row.append(1.0)\n",
        "          else:\n",
        "              adj_row.append(0.0)\n",
        "      edge_adj_2.append(adj_row)\n",
        "    edge_features_1, edge_features_2 = torch.FloatTensor(np.array(edge_features_1)), torch.FloatTensor(np.array(edge_features_2))\n",
        "    edge_adj_1, edge_adj_2 = torch.FloatTensor(np.array(edge_adj_1)), torch.FloatTensor(np.array(edge_adj_2))\n",
        "\n",
        "    label_multiset[\"node_index_1\"], label_multiset[\"node_index_2\"] = nx.adjacency_matrix(graph1), nx.adjacency_matrix(graph2)\n",
        "    label_multiset[\"node_features_1\"], label_multiset[\"node_features_2\"] = node_features_1, node_features_2\n",
        "    label_multiset[\"edge_features_1\"], label_multiset[\"edge_features_2\"] = edge_features_1, edge_features_2\n",
        "    label_multiset[\"edge_adj_1\"], label_multiset[\"edge_adj_2\"] = edge_adj_1, edge_adj_2\n",
        "\n",
        "    #ged normalisation\n",
        "    if(type_specified):# for training\n",
        "      norm_ged = [ged.count(key) / (0.5 * (graph1.number_of_nodes() + graph2.number_of_nodes())) for key in ['1', '2', '3', '4']]\n",
        "      norm_ged = np.array(norm_ged)\n",
        "      label_multiset[\"target\"] = torch.from_numpy(np.exp(-norm_ged)).view(1,-1).float()\n",
        "      \n",
        "      norm_gt_ged = (len(ged)) / (0.5 * (graph1.number_of_nodes() + graph2.number_of_nodes()))\n",
        "      label_multiset[\"gt_ged\"] = torch.from_numpy(np.exp(-norm_gt_ged).reshape(1, 1)).view(1, -1).float()\n",
        "    else:# for testing\n",
        "      norm_gt_ged = (ged) / (0.5 * (graph1.number_of_nodes() + graph2.number_of_nodes()))\n",
        "      label_multiset[\"gt_ged\"] = torch.from_numpy(np.exp(-norm_gt_ged).reshape(1, 1)).view(1, -1).float()\n",
        "\n",
        "    return label_multiset"
      ],
      "metadata": {
        "id": "eONlGL5DyGGT"
      },
      "execution_count": null,
      "outputs": []
    },
    {
      "cell_type": "code",
      "source": [
        "import matplotlib.pyplot as plt\n",
        "epochs = 10\n",
        "tensor_neurons = 16\n",
        "bottle_neck_neurons = 16\n",
        "batch_size = 128\n",
        "dropout = 0.0\n",
        "lr = 0.001\n",
        "weight_decay = 0.0\n",
        "\n",
        "dirName = 'train8/' #updated_train\n",
        "filenames = os.listdir(dirName)\n",
        "dirName_test = 'test8/' #updated_test\n",
        "filenames_test = os.listdir(dirName_test)\n",
        "Node_Types = []\n",
        "Edge_Types = []\n",
        "#collection global node label and edge label info\n",
        "for filename in filenames:\n",
        "    if filename.endswith(\".gexf\"):\n",
        "        #print(filename)\n",
        "        temp =  nx.read_gexf(path=dirName+filename)\n",
        "        for node in temp.nodes:\n",
        "            temp_type = temp.nodes[node]['type']\n",
        "            if temp_type not in Node_Types:\n",
        "                Node_Types.append(temp_type)\n",
        "        for edge in temp.edges:\n",
        "            temp_type = temp.edges[edge]['valence']\n",
        "            if temp_type not in Edge_Types:\n",
        "                Edge_Types.append(temp_type)\n",
        "for filename in filenames_test:\n",
        "    if filename.endswith(\".gexf\"):\n",
        "        #print(filename)\n",
        "        temp =  nx.read_gexf(path=dirName_test+filename)\n",
        "        for node in temp.nodes:\n",
        "            temp_type = temp.nodes[node]['type']\n",
        "            if temp_type not in Node_Types:\n",
        "                Node_Types.append(temp_type)\n",
        "        for edge in temp.edges:\n",
        "            temp_type = temp.edges[edge]['valence']\n",
        "            if temp_type not in Edge_Types:\n",
        "                Edge_Types.append(temp_type)\n",
        "print(Node_Types)\n",
        "print(Edge_Types)\n",
        "globel_node_number = len(Node_Types)\n",
        "globel_edge_number = len(Edge_Types)\n",
        "print(\"\\n-------Model training---------.\\n\")\n",
        "\n",
        "model = TaGSim(Node_Types, Edge_Types, tensor_neurons, bottle_neck_neurons)\n",
        "optimizer = torch.optim.Adam(model.parameters(), lr=lr, weight_decay=weight_decay)\n",
        "iteration = 0\n",
        "\n",
        "visual_loss_train = []\n",
        "test_scores = []\n",
        "visual_loss_test = []\n",
        "train_pair = []\n",
        "test_pair = []\n",
        "epo = []\n",
        "\n",
        "#training pair collection\n",
        "for graph in range(0, int(len(filenames)/2)):\n",
        "  pair_1 = random.choice(filenames)\n",
        "  while '_' in pair_1:\n",
        "    pair_1 = random.choice(filenames)\n",
        "  for filename in filenames:\n",
        "    if filename.endswith(\"_\"+pair_1):\n",
        "      pair_2 = filename\n",
        "      ged = pair_2.split('_', 1)[0]\n",
        "  graph1 = nx.read_gexf(dirName+pair_1) #updated_train\n",
        "  graph2 = nx.read_gexf(dirName+pair_2) #updated_train\n",
        "  train_pair.append({\"graph_pair\":[graph1,graph2],\"ged\":ged})\n",
        "#testing pair collection\n",
        "for graph in range(0, int(len(filenames_test)/2)):\n",
        "  pair_1_test = random.choice(filenames_test)\n",
        "  while '_' in pair_1_test:\n",
        "    pair_1_test = random.choice(filenames_test)\n",
        "  for filename in filenames_test:\n",
        "      if filename.endswith(\"_\"+pair_1_test):\n",
        "        pair_2_test = filename\n",
        "        ged = pair_2_test.split('_', 1)[0]\n",
        "  graph1 = nx.read_gexf(dirName_test+pair_1_test) #updated_test\n",
        "  graph2 = nx.read_gexf(dirName_test+pair_2_test) #updated_test\n",
        "  test_pair.append({\"graph_pair\":[graph1,graph2],\"ged\":ged})\n",
        "#model training\n",
        "for epoch in range(epochs):\n",
        "  random.shuffle(train_pair)\n",
        "  batches = []\n",
        "  for graph in range(0, len(train_pair), batch_size):\n",
        "    batches.append(train_pair[graph:graph+batch_size])\n",
        "\n",
        "  for batch in batches:\n",
        "    model.train()\n",
        "    optimizer.zero_grad()\n",
        "    losses = 0\n",
        "    for graph_pair in batch:\n",
        "      data = model.transform_label_multiset(graph_pair)\n",
        "      prediction = model(data)\n",
        "      losses += torch.nn.functional.mse_loss(data[\"target\"], prediction)\n",
        "\n",
        "    losses.backward(retain_graph=True)\n",
        "    optimizer.step()\n",
        "    loss = losses.item()\n",
        "    print('Iteration', iteration, 'loss: ', loss/len(batch))\n",
        "    iteration += 1\n",
        "\n",
        "  visual_loss_train.append(loss/len(batch))\n",
        "  # testing\n",
        "  model.eval()\n",
        "  for graph_pair in realGED_info:\n",
        "    graph1 = nx.read_gexf(dirName_test+graph_pair[0]) #updated_test\n",
        "    graph2 = nx.read_gexf(dirName_test+graph_pair[1]) #updated_test\n",
        "    ged = int(graph_pair[2])\n",
        "    tem_data = {\"graph_pair\":[graph1,graph2],\"ged\":ged}\n",
        "    data = model.transform_label_multiset(tem_data, type_specified=False)\n",
        "    prediction = model(data)\n",
        "    prediction = torch.exp(torch.sum(torch.log(prediction))).view(1, -1)\n",
        "    current_error = torch.nn.functional.mse_loss(prediction, data[\"gt_ged\"])\n",
        "    test_scores.append(current_error.data.item())\n",
        "  visual_loss_test.append(sum(test_scores) / len(test_scores))\n",
        "  epo.append(epoch+1)\n",
        "\n",
        "#visualization of traning and testing loss\n",
        "plt.plot(epo, visual_loss_train, 'g', label='Training Loss')\n",
        "plt.plot(epo, visual_loss_test, 'b', label='Validation Loss')\n",
        "plt.title('Evaluation of TaGSim Base Model (AIDS700)')\n",
        "plt.xlabel('Epoch')\n",
        "plt.ylabel('Loss')\n",
        "plt.legend()\n",
        "plt.show()"
      ],
      "metadata": {
        "colab": {
          "base_uri": "https://localhost:8080/",
          "height": 1000
        },
        "id": "XFwzImVjy8EI",
        "outputId": "2467f757-b026-4813-8cf8-8dc6551ce18b"
      },
      "execution_count": null,
      "outputs": [
        {
          "output_type": "stream",
          "name": "stdout",
          "text": [
            "['S', 'C', 'Pb', 'O', 'Cu', 'Sn', 'Br', 'Ru', 'P', 'N', 'Cl', 'Li', 'Tb', 'Ho', 'Te', 'Co', 'Pd', 'Ga', 'Si', 'I', 'B', 'Pt', 'F', 'As', 'Hg', 'Sb', 'Se', 'Ni', 'Bi']\n",
            "[1, 2, 3]\n",
            "\n",
            "-------Model training---------.\n",
            "\n",
            "Iteration 0 loss:  0.1990976184606552\n",
            "Iteration 1 loss:  0.18039986491203308\n",
            "Iteration 2 loss:  0.15565556287765503\n",
            "Iteration 3 loss:  0.14048102498054504\n",
            "Iteration 4 loss:  0.11343802014986674\n",
            "Iteration 5 loss:  0.10865834355354309\n",
            "Iteration 6 loss:  0.10350611805915833\n",
            "Iteration 7 loss:  0.0974416583776474\n",
            "Iteration 8 loss:  0.09115391224622726\n",
            "Iteration 9 loss:  0.09082705775896709\n",
            "Iteration 10 loss:  0.08380533009767532\n",
            "Iteration 11 loss:  0.08033080399036407\n",
            "Iteration 12 loss:  0.08019953966140747\n",
            "Iteration 13 loss:  0.07243777066469193\n",
            "Iteration 14 loss:  0.07018810013930003\n",
            "Iteration 15 loss:  0.06506867706775665\n",
            "Iteration 16 loss:  0.05961455777287483\n",
            "Iteration 17 loss:  0.05785712972283363\n",
            "Iteration 18 loss:  0.05446341261267662\n",
            "Iteration 19 loss:  0.04622247318426768\n",
            "Iteration 20 loss:  0.044894855469465256\n",
            "Iteration 21 loss:  0.04595065861940384\n",
            "Iteration 22 loss:  0.038660112768411636\n",
            "Iteration 23 loss:  0.0383397676050663\n",
            "Iteration 24 loss:  0.03724603603283564\n",
            "Iteration 25 loss:  0.03343428671360016\n",
            "Iteration 26 loss:  0.0344981774687767\n",
            "Iteration 27 loss:  0.03068574331700802\n",
            "Iteration 28 loss:  0.028717318549752235\n",
            "Iteration 29 loss:  0.02949720372756322\n",
            "Iteration 30 loss:  0.030373169109225273\n",
            "Iteration 31 loss:  0.02694324590265751\n",
            "Iteration 32 loss:  0.028382577002048492\n",
            "Iteration 33 loss:  0.024331068620085716\n",
            "Iteration 34 loss:  0.02875921626885732\n",
            "Iteration 35 loss:  0.024599414318799973\n",
            "Iteration 36 loss:  0.027150485664606094\n",
            "Iteration 37 loss:  0.026401164010167122\n",
            "Iteration 38 loss:  0.023842602968215942\n",
            "Iteration 39 loss:  0.026563736299673717\n",
            "Iteration 40 loss:  0.02354186587035656\n",
            "Iteration 41 loss:  0.022266637533903122\n",
            "Iteration 42 loss:  0.019490303471684456\n",
            "Iteration 43 loss:  0.017732981592416763\n",
            "Iteration 44 loss:  0.013680713872114817\n",
            "Iteration 45 loss:  0.019030755385756493\n",
            "Iteration 46 loss:  0.015949396416544914\n",
            "Iteration 47 loss:  0.01449264120310545\n",
            "Iteration 48 loss:  0.016694040969014168\n",
            "Iteration 49 loss:  0.014287862926721573\n"
          ]
        },
        {
          "output_type": "display_data",
          "data": {
            "text/plain": [
              "<Figure size 432x288 with 1 Axes>"
            ],
            "image/png": "[encoded data removed]"
          },
          "metadata": {
            "needs_background": "light"
          }
        }
      ]
    },
    {
      "cell_type": "code",
      "source": [
        "print(\"\\n-------Model testing---------.\\n\")\n",
        "       \n",
        "model.eval()\n",
        "test_scores = []\n",
        "test_pair = []\n",
        "\n",
        "for graph_pair in realGED_info:\n",
        "  graph1 = nx.read_gexf(dirName_test+graph_pair[0]) #updated_test\n",
        "  graph2 = nx.read_gexf(dirName_test+graph_pair[1]) #updated_test\n",
        "  ged = int(graph_pair[2])\n",
        "  tem_data = {\"graph_pair\":[graph1,graph2],\"ged\":ged}\n",
        "\n",
        "  data = model.transform_label_multiset(tem_data, type_specified=False)\n",
        "  prediction = model(data)\n",
        "  prediction = torch.exp(torch.sum(torch.log(prediction))).view(1, -1)\n",
        "  current_error = torch.nn.functional.mse_loss(prediction, data[\"gt_ged\"])\n",
        "  test_scores.append(current_error.data.item())\n",
        "\n",
        "model_error = sum(test_scores) / len(test_scores)\n",
        "print(\"\\nModel test error: \" + str(model_error))"
      ],
      "metadata": {
        "colab": {
          "base_uri": "https://localhost:8080/"
        },
        "id": "4eejdNknZmjw",
        "outputId": "eb449cf9-6c35-4eb2-c66a-803f3d353e99"
      },
      "execution_count": null,
      "outputs": [
        {
          "output_type": "stream",
          "name": "stdout",
          "text": [
            "\n",
            "-------Model testing---------.\n",
            "\n",
            "\n",
            "Model test error: 0.02472776227912326\n"
          ]
        }
      ]
    }
  ],
  "metadata": {
    "colab": {
      "collapsed_sections": [],
      "provenance": [],
      "authorship_tag": "ABX9TyP6TPov5TexbL9xgVcjeIuJ",
      "include_colab_link": true
    },
    "kernelspec": {
      "display_name": "Python 3",
      "name": "python3"
    },
    "language_info": {
      "name": "python"
    }
  },
  "nbformat": 4,
  "nbformat_minor": 0
}