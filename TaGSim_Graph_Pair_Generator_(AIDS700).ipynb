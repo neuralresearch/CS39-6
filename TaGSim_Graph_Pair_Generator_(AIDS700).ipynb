{
  "cells": [
    {
      "cell_type": "markdown",
      "metadata": {
        "id": "view-in-github",
        "colab_type": "text"
      },
      "source": [
        "<a href=\"https://colab.research.google.com/github/neuralresearch/CS39-6/blob/main/TaGSim_Graph_Pair_Generator_(AIDS700).ipynb\" target=\"_parent\"><img src=\"https://colab.research.google.com/assets/colab-badge.svg\" alt=\"Open In Colab\"/></a>"
      ]
    },
    {
      "cell_type": "markdown",
      "metadata": {
        "id": "jRRSjhuZSmgD"
      },
      "source": [
        "##Data Preparation"
      ]
    },
    {
      "cell_type": "markdown",
      "metadata": {
        "id": "ZS4-44nXSegf"
      },
      "source": [
        "###Data Loading and observation"
      ]
    },
    {
      "cell_type": "code",
      "execution_count": null,
      "metadata": {
        "id": "WjTxrSZ2wvrS"
      },
      "outputs": [],
      "source": [
        "# Code to download file into Colaboratory:\n",
        "!pip install -U -q PyDrive\n",
        "from pydrive.auth import GoogleAuth\n",
        "from pydrive.drive import GoogleDrive\n",
        "from google.colab import auth\n",
        "from oauth2client.client import GoogleCredentials\n",
        "# Authenticate and create the PyDrive client.\n",
        "auth.authenticate_user()\n",
        "gauth = GoogleAuth()\n",
        "gauth.credentials = GoogleCredentials.get_application_default()\n",
        "drive = GoogleDrive(gauth)\n",
        "\n",
        "#get the data from the drive\n",
        "id = '1E07PMf68jMo-rULzHfE_q7chqgaYGsXp'\n",
        "downloaded = drive.CreateFile({'id':id}) \n",
        "downloaded.GetContentFile('AIDS700.zip')\n",
        "!ls"
      ]
    },
    {
      "cell_type": "code",
      "execution_count": null,
      "metadata": {
        "id": "netxDcJYTc4W"
      },
      "outputs": [],
      "source": [
        "#if AIDS700nef exist do not run this part\n",
        "#removing the dialog\n",
        "%%capture\n",
        "#unzip the file\n",
        "!unzip AIDS700.zip"
      ]
    },
    {
      "cell_type": "code",
      "execution_count": null,
      "metadata": {
        "id": "Hu9tOdm_Ztn-"
      },
      "outputs": [],
      "source": [
        "# collecting all the Node types and Edge types from entire AIDS700 dataset\n",
        "import os\n",
        "import networkx as nx\n",
        "\n",
        "dirName = 'AIDS700nef/train/'\n",
        "filenames = os.listdir(dirName)\n",
        "dirName_test = 'AIDS700nef/test/'\n",
        "filenames_test = os.listdir(dirName_test)\n",
        "Node_Types = []\n",
        "Edge_Types = []\n",
        "for filename in filenames:\n",
        "    if filename.endswith(\".gexf\"):\n",
        "        #print(filename)\n",
        "        temp =  nx.read_gexf(path=dirName+\"/\"+filename)\n",
        "        for node in temp.nodes:\n",
        "            temp_type = temp.nodes[node]['type']\n",
        "            if temp_type not in Node_Types:\n",
        "                Node_Types.append(temp_type)\n",
        "        for edge in temp.edges:\n",
        "            temp_type = temp.edges[edge]['valence']\n",
        "            if temp_type not in Edge_Types:\n",
        "                Edge_Types.append(temp_type)\n",
        "for filename in filenames_test:\n",
        "    if filename.endswith(\".gexf\"):\n",
        "        #print(filename)\n",
        "        temp =  nx.read_gexf(path=dirName_test+\"/\"+filename)\n",
        "        for node in temp.nodes:\n",
        "            temp_type = temp.nodes[node]['type']\n",
        "            if temp_type not in Node_Types:\n",
        "                Node_Types.append(temp_type)\n",
        "        for edge in temp.edges:\n",
        "            temp_type = temp.edges[edge]['valence']\n",
        "            if temp_type not in Edge_Types:\n",
        "                Edge_Types.append(temp_type)\n",
        "print(Node_Types)\n",
        "print(Edge_Types)"
      ]
    },
    {
      "cell_type": "code",
      "execution_count": null,
      "metadata": {
        "id": "07srOEuJUbaH"
      },
      "outputs": [],
      "source": [
        "#visualise the first network data: 1011.gexf\n",
        "import matplotlib.pyplot as plt\n",
        "\n",
        "#read the 1011.gexf\n",
        "Graph = nx.read_gexf('AIDS700nef/train/4.gexf',version='1.2draft')\n",
        "\n",
        "node_info = nx.get_node_attributes(Graph, 'type')\n",
        "edge_info = dict([((n1, n2), d['valence']) for n1, n2, d in Graph.edges(data=True)])\n",
        "\n",
        "#graph display\n",
        "pos = nx.spring_layout(Graph, scale=1.5)  \n",
        "plt.figure(1,figsize=(10,10)) \n",
        "nx.draw(Graph, pos, labels=node_info, font_color=\"white\")\n",
        "nx.draw_networkx_edge_labels(Graph, pos, edge_labels=edge_info, font_color=\"red\")\n",
        "plt.show()\n",
        "\n",
        "#info display\n",
        "print(\"Node Info: \",node_info)\n",
        "print(\"Edge Info: \",edge_info)\n",
        "# numpy_graph = nx.to_numpy_array(Graph, nodelist = node_info)\n",
        "# print(numpy_graph)\n",
        "# adjacency representation of graph as a dictionary of dictionaries\n",
        "adj_graph = nx.to_dict_of_dicts(Graph)\n",
        "for key, value in adj_graph.items():\n",
        "    print(key, ' : ', value)"
      ]
    },
    {
      "cell_type": "markdown",
      "metadata": {
        "id": "rX-L6lKloVqk"
      },
      "source": [
        "### Graph Pair Generator"
      ]
    },
    {
      "cell_type": "code",
      "execution_count": null,
      "metadata": {
        "id": "1CZylsUiogGj"
      },
      "outputs": [],
      "source": [
        "#input of the generator contains origial Graph and target GEV(four types)\n",
        "#testing one graph first: 1011.gexf\n",
        "import random\n",
        "import numpy as np\n",
        "\n",
        "def graph_pair_generator(graph, ground_GEV):\n",
        "  target_graph = graph\n",
        "  node_id = list(target_graph.nodes)\n",
        "  edge_id = list(target_graph.edges)\n",
        "  print(node_id)\n",
        "  print(edge_id)\n",
        "\n",
        "  node_info = nx.get_node_attributes(target_graph, 'type')\n",
        "  edge_info = dict([((n1, n2), d['valence']) for n1, n2, d in target_graph.edges(data=True)])\n",
        "\n",
        "  print(\"Node info: \", node_info)\n",
        "  print(\"Edge info: \", edge_info)\n",
        "  print(\"The GEV: \",ground_GEV)\n",
        "  \n",
        "  #index of the ground GEV in for loop\n",
        "  gev_index = 0\n",
        "  #make sure not to relabel the relabeled node\n",
        "  relabel_node = []\n",
        "  #make sure not to relabel the relabeled edge\n",
        "  relabel_edge = []\n",
        "  #store the delete edge\n",
        "  delete_edge = []\n",
        "  #for fixing the GEV if all nodes or edges are relabeled\n",
        "  relabel_fix_gev = []\n",
        "\n",
        "  for edit_type in ground_GEV:\n",
        "    # print(\"Relabeled node: \",relabel_node)\n",
        "    \n",
        "    node_id = list(target_graph.nodes)\n",
        "    edge_id = list(target_graph.edges)\n",
        "\n",
        "    node_info = nx.get_node_attributes(target_graph, 'type')\n",
        "    edge_info = dict([((n1, n2), d['valence']) for n1, n2, d in target_graph.edges(data=True)])\n",
        "\n",
        "    if edit_type == 1: #Node Relabeling\n",
        "      if len(relabel_node) == len(node_id):#when all the nodes are relabeled\n",
        "        #add another edit operation or remove the edit operation\n",
        "        new_operation_type = random.choice([2,3,4])\n",
        "        ground_GEV.append(new_operation_type)\n",
        "        print(\"Add new operation type: \",new_operation_type)\n",
        "        relabel_fix_gev.append(gev_index)\n",
        "        gev_index += 1\n",
        "        pass\n",
        "      else:\n",
        "        #not choosing the relabed nodes\n",
        "        random_node = random.choice(node_id)\n",
        "        while random_node in relabel_node:\n",
        "          random_node = random.choice(node_id)\n",
        "        relabel_node.append(str(random_node))\n",
        "        # update with the selected node and make sure not the same type\n",
        "        remove_self_type = node_info[str(random_node)]\n",
        "        Node_Types.remove(remove_self_type)\n",
        "        new_node_attr = random.choice(Node_Types)\n",
        "        Node_Types.append(remove_self_type)\n",
        "        print(\"Select Node \"+random_node+\" and its label \"+remove_self_type+\" to relabel with \"+new_node_attr)\n",
        "        nx.set_node_attributes(target_graph, {str(random_node): {'type': new_node_attr, 'label': str(random_node)}})\n",
        "        gev_index += 1\n",
        "\n",
        "    elif edit_type == 2: #Node Insertion / Deletion\n",
        "      #we are not considering Node Deletion based on the TaGSim Paper\n",
        "      new_node_type = random.choice(Node_Types)\n",
        "      new_node_id = str(len(node_id)) #increametal 1 from original ID list\n",
        "      print(\"Adding a new node ID: \"+new_node_id+\" and Type: \"+ new_node_type)\n",
        "      target_graph.add_node(new_node_id, type = new_node_type, label = new_node_id)\n",
        "      # nx.set_node_attributes(target_graph, {new_node_id: {'type': new_node_type, 'label': new_node_id}})\n",
        "      gev_index += 1\n",
        "\n",
        "    elif edit_type == 3: #Edge Relabeling\n",
        "      if len(relabel_edge) == len(edge_id) or len(edge_id) == 0:#when all the edges are relabeled or no edges\n",
        "        #add another edit operation or remove the edit operation\n",
        "        new_operation_type = random.choice([1,2,4])\n",
        "        ground_GEV.append(new_operation_type)\n",
        "        print(\"Add new operation type: \",new_operation_type)\n",
        "        relabel_fix_gev.append(gev_index)\n",
        "        gev_index += 1\n",
        "        pass\n",
        "      else:\n",
        "        #not choosing the relabed nodes\n",
        "        random_edge = random.choice(edge_id)\n",
        "        while random_edge in relabel_edge:\n",
        "          random_edge = random.choice(edge_id)\n",
        "        relabel_edge.append(random_edge)\n",
        "        # update with the selected edge and make sure not the same type\n",
        "        remove_self_type = edge_info[random_edge]\n",
        "        Edge_Types.remove(remove_self_type)\n",
        "        new_edge_attr = random.choice(Edge_Types)\n",
        "        Edge_Types.append(remove_self_type)\n",
        "        selected_edge_id = target_graph.edges[random_edge]['id']\n",
        "        print(\"Select Edge(\"+random_edge[0]+\", \"+random_edge[1]\n",
        "              +\") and its label \"+str(remove_self_type)+\" to relabel with \"+str(new_edge_attr))\n",
        "        nx.set_edge_attributes(target_graph, {random_edge: {'valence': new_edge_attr, 'id': selected_edge_id}})\n",
        "        gev_index += 1\n",
        "\n",
        "    elif edit_type == 4: #Edge Deletion / Insertion\n",
        "      #when apply EDI we can randomly chose one of the opreation\n",
        "      random_choice = random.choice([0,1])\n",
        "      if random_choice == 0:\n",
        "        if len(edge_id) == 0:#when no edges then no edge deletion\n",
        "          #add another edit operation or remove the edit operation\n",
        "          new_operation_type = random.choice([1,2,3])\n",
        "          ground_GEV.append(new_operation_type)\n",
        "          print(\"Add new operation type: \",new_operation_type)\n",
        "          relabel_fix_gev.append(gev_index)\n",
        "          gev_index += 1\n",
        "          pass\n",
        "        else:\n",
        "          #Edge Deletion\n",
        "          random_edge = random.choice(edge_id)\n",
        "          delete_edge.append(random_edge) #store the delete edge\n",
        "          target_graph.remove_edge(random_edge[0], random_edge[1])\n",
        "          print(\"Edge between label \"+random_edge[0]+\" and label \"+random_edge[1]+\" is removed\")\n",
        "          print(delete_edge)\n",
        "      else:\n",
        "        #Edge Insertion\n",
        "        ram_node1 = str(random.choice(node_id))\n",
        "        ram_node2 = str(random.choice(node_id))\n",
        "        print(\"Select Node \"+ram_node1+\" and Node \"+ ram_node2+\" for new Edge\")\n",
        "        #making sure two nodes does not have existing connection and not existing in delete edge list\n",
        "        if (ram_node1,ram_node2) in edge_info or (ram_node1,ram_node2) in delete_edge:\n",
        "          #add another edit operation or remove the edit operation\n",
        "          new_operation_type = random.choice([1,2])\n",
        "          ground_GEV.append(new_operation_type)\n",
        "          print(\"Add new operation type: \",new_operation_type)\n",
        "          relabel_fix_gev.append(gev_index)\n",
        "          gev_index += 1\n",
        "          pass\n",
        "        else:\n",
        "          #perform Edge Insertion\n",
        "          target_graph.add_edge(ram_node1, ram_node2)\n",
        "          #assigned edge label\n",
        "          new_edge_type = random.choice(Edge_Types)\n",
        "          new_edge_id = str(len(edge_id))\n",
        "          edge_label = {'valence': new_edge_type, 'id':new_edge_id}\n",
        "          nx.set_edge_attributes(target_graph, {(ram_node1, ram_node2) : edge_label})\n",
        "          gev_index += 1\n",
        "        \n",
        "\n",
        "  #fixing gev from over relabel after all nodes or edges are relabeled\n",
        "  counter_node = 1\n",
        "  for x in relabel_fix_gev:\n",
        "    del ground_GEV[x-counter_node]\n",
        "    counter_node += 1\n",
        "    print(\"Delete :\",x)\n",
        "    print(ground_GEV)\n",
        "\n",
        "  print(\"Graph display after the transformation:\")\n",
        "  node_info = nx.get_node_attributes(target_graph, 'type')\n",
        "  edge_info = dict([((n1, n2), d['valence']) for n1, n2, d in target_graph.edges(data=True)])\n",
        "  print(\"Transformed Node info: \", node_info)\n",
        "  print(\"Transformed Edge info: \", edge_info)\n",
        "  print(\"Transformed GEV: \", ground_GEV)\n",
        "  pos = nx.spring_layout(target_graph, scale=1.5)  \n",
        "  plt.figure(1,figsize=(10,10)) \n",
        "  nx.draw(target_graph, pos, labels=node_info, font_color=\"white\")\n",
        "  nx.draw_networkx_edge_labels(target_graph, pos, edge_labels=edge_info, font_color=\"red\")\n",
        "  plt.show()\n",
        "\n",
        "  return graph, target_graph, ground_GEV\n",
        "\n",
        "#randomly form the gev\n",
        "#first ram the number of edit operation between 5 to 10\n",
        "# random.choice([5,10])\n",
        "num_operation = 8\n",
        "GEV = []\n",
        "for i in range(num_operation):\n",
        "  #ram the opreation type NR:1, NID:2, ER:3, EID:4\n",
        "  GEV.append(random.choice(range(1,5)))\n",
        "\n",
        "# call the graph_pair_generator function with testing graph 4.gexf\n",
        "# [3,3,3,3,3,3,2,2,2,2,3,3,4,4,4,4,4,4,3,3 ,1,1,1,1,1,1,1,1,1,1 ,3,3,1,1,2]\n",
        "graph, target_graph, GEV =graph_pair_generator(Graph, GEV)\n",
        "# adjacency representation of graph as a dictionary of dictionaries\n",
        "adj_graph = nx.to_dict_of_dicts(target_graph)\n",
        "for key, value in adj_graph.items():\n",
        "    print(key, ' : ', value)"
      ]
    },
    {
      "cell_type": "code",
      "execution_count": null,
      "metadata": {
        "id": "-1gC4Jlke2bT"
      },
      "outputs": [],
      "source": [
        "# for line in nx.generate_gexf(target_graph):  \n",
        "#     print(line)"
      ]
    },
    {
      "cell_type": "markdown",
      "metadata": {
        "id": "0rQZoLl4TQfY"
      },
      "source": [
        "### Generating Dataset"
      ]
    },
    {
      "cell_type": "code",
      "execution_count": null,
      "metadata": {
        "id": "Qqbus6CaTfoF"
      },
      "outputs": [],
      "source": [
        "#AIDS700nef contains 700 graph\n",
        "#using the Generator to replicate the dataset with result of 1400 graph\n",
        "#1120 for training, 280 for testing\n",
        "dirName_train = 'AIDS700nef/train/'\n",
        "filenames = os.listdir(dirName_train)\n",
        "\n",
        "for filename in filenames:\n",
        "    if filename.endswith(\".gexf\"):\n",
        "      #randomly form the gev\n",
        "      #4,8,12,16\n",
        "      num_operation = 8\n",
        "      # random.choice(range(5,11))\n",
        "      GEV = []\n",
        "      for i in range(num_operation):\n",
        "        GEV.append(random.choice(range(1,5)))\n",
        "      \n",
        "      temp =  nx.read_gexf(path=dirName_train+\"/\"+filename)#get the original graph\n",
        "      graph, target_graph, GEV = graph_pair_generator(temp, GEV)#form generated graph and ground_true gev\n",
        "      generated_temp = nx.generate_gexf(target_graph)#convert generated graph into gexf representation\n",
        "      gev_name = ''.join(map(str,GEV))\n",
        "      generated_fileName = gev_name+'_'+filename#form file name with (GEV Info|orignialFileName.gexf)\n",
        "      print(generated_fileName)\n",
        "      #create the file and add generated graph gexf content\n",
        "      ge = os.path.join(dirName_train, generated_fileName)\n",
        "      file = open(ge, \"w\")\n",
        "      for line in generated_temp:  \n",
        "        file.write(line)\n",
        "      file.close()"
      ]
    },
    {
      "cell_type": "code",
      "execution_count": null,
      "metadata": {
        "id": "75ut7_kUpa-X"
      },
      "outputs": [],
      "source": [
        "dirName_test = 'AIDS700nef/test/'\n",
        "filenames = os.listdir(dirName_test)\n",
        "for filename in filenames:\n",
        "    if filename.endswith(\".gexf\"):\n",
        "      #randomly form the gev\n",
        "      #4,8,12,16\n",
        "      num_operation = 8\n",
        "      # random.choice(range(5,11))\n",
        "      GEV = []\n",
        "      for i in range(num_operation):\n",
        "        GEV.append(random.choice(range(1,5)))\n",
        "      \n",
        "      temp =  nx.read_gexf(path=dirName_test+\"/\"+filename)#get the original graph\n",
        "      graph, target_graph, GEV = graph_pair_generator(temp, GEV)#form generated graph and ground_true gev\n",
        "      generated_temp = nx.generate_gexf(target_graph)#convert generated graph into gexf representation\n",
        "      gev_name = ''.join(map(str,GEV))\n",
        "      generated_fileName = gev_name+'_'+filename#form file name with (GEV Info|orignialFileName.gexf)\n",
        "      print(generated_fileName)\n",
        "      #create the file and add generated graph gexf content\n",
        "      ge = os.path.join(dirName_test, generated_fileName)\n",
        "      file = open(ge, \"w\")\n",
        "      for line in generated_temp:  \n",
        "        file.write(line)\n",
        "      file.close()"
      ]
    },
    {
      "cell_type": "code",
      "execution_count": null,
      "metadata": {
        "id": "0hNok1-YpFaU"
      },
      "outputs": [],
      "source": [
        "#size of the train / test file after Graph Generation\n",
        "dirName_test = 'AIDS700nef/train/'\n",
        "filenames = os.listdir(dirName_test)\n",
        "count = 0\n",
        "for filename in filenames:\n",
        "    if filename.endswith(\".gexf\"):\n",
        "      count += 1\n",
        "print(count)\n",
        "dirName_test = 'AIDS700nef/test/'\n",
        "filenames = os.listdir(dirName_test)\n",
        "count = 0\n",
        "for filename in filenames:\n",
        "    if filename.endswith(\".gexf\"):\n",
        "      count += 1\n",
        "print(count)"
      ]
    },
    {
      "cell_type": "code",
      "execution_count": null,
      "metadata": {
        "id": "PlZe5XBarfxV"
      },
      "outputs": [],
      "source": [
        "#Save the updated train / test file back to google drive\n",
        "from google.colab import drive\n",
        "drive.mount('/content/drive')"
      ]
    },
    {
      "cell_type": "code",
      "execution_count": null,
      "metadata": {
        "id": "zu3DCGleAPjZ"
      },
      "outputs": [],
      "source": [
        "!cp -r '/content/AIDS700nef/train' '/content/drive/MyDrive/Sydney Uni/COMP5703 _Capstone Project/Implementation/'"
      ]
    },
    {
      "cell_type": "code",
      "execution_count": null,
      "metadata": {
        "id": "RnX_tDNfIqJB"
      },
      "outputs": [],
      "source": [
        "!cp -r '/content/AIDS700nef/test' '/content/drive/MyDrive/Sydney Uni/COMP5703 _Capstone Project/Implementation/'"
      ]
    }
  ],
  "metadata": {
    "colab": {
      "collapsed_sections": [],
      "provenance": [],
      "authorship_tag": "ABX9TyPCHKaJV5/Bt2d5V48EAkBz",
      "include_colab_link": true
    },
    "kernelspec": {
      "display_name": "Python 3",
      "name": "python3"
    },
    "language_info": {
      "name": "python"
    }
  },
  "nbformat": 4,
  "nbformat_minor": 0
}