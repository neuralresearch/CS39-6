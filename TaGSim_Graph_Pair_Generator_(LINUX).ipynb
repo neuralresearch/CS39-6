{
  "cells": [
    {
      "cell_type": "markdown",
      "metadata": {
        "id": "view-in-github",
        "colab_type": "text"
      },
      "source": [
        "<a href=\"https://colab.research.google.com/github/neuralresearch/CS39-6/blob/henry/TaGSim_Graph_Pair_Generator_(LINUX).ipynb\" target=\"_parent\"><img src=\"https://colab.research.google.com/assets/colab-badge.svg\" alt=\"Open In Colab\"/></a>"
      ]
    },
    {
      "cell_type": "code",
      "source": [
        "# Code to download file into Colaboratory:\n",
        "!pip install -U -q PyDrive\n",
        "from pydrive.auth import GoogleAuth\n",
        "from pydrive.drive import GoogleDrive\n",
        "from google.colab import auth\n",
        "from oauth2client.client import GoogleCredentials\n",
        "# Authenticate and create the PyDrive client.\n",
        "auth.authenticate_user()\n",
        "gauth = GoogleAuth()\n",
        "gauth.credentials = GoogleCredentials.get_application_default()\n",
        "drive = GoogleDrive(gauth)\n",
        "\n",
        "#get the data from the drive https://drive.google.com/file/d/1yodobqsy6a8Kh-IiinxNEkHmAj_v7rMm/view?usp=share_link\n",
        "id = '1yodobqsy6a8Kh-IiinxNEkHmAj_v7rMm'\n",
        "downloaded = drive.CreateFile({'id':id}) \n",
        "downloaded.GetContentFile('LINUXFull')\n",
        "!ls\n"
      ],
      "metadata": {
        "colab": {
          "base_uri": "https://localhost:8080/"
        },
        "id": "dzAjBTEA_NoU",
        "outputId": "564d1382-65d3-478d-ae7b-db71c469ae9a"
      },
      "execution_count": null,
      "outputs": [
        {
          "output_type": "stream",
          "name": "stdout",
          "text": [
            "LINUXFull  sample_data\n"
          ]
        }
      ]
    },
    {
      "cell_type": "code",
      "source": [
        "from random import random\n",
        "import matplotlib.pyplot as plt\n",
        "import networkx as nx\n",
        "import os\n",
        "# Prints random item\n",
        "print(random())\n",
        "\n",
        "dirNameNew='LINUX/'\n",
        "dirNameTrainNew='LINUX/train/'\n",
        "dirNameTestNew='LINUX/test/'\n",
        "try: \n",
        "  os.mkdir(dirNameNew) \n",
        "except OSError as error: \n",
        "  r=1\n",
        "try: \n",
        "  os.mkdir(dirNameTrainNew) \n",
        "except OSError as error: \n",
        "  r=1\n",
        "try: \n",
        "  os.mkdir(dirNameTestNew) \n",
        "except OSError as error: \n",
        "  r=1\n",
        "\n",
        "testFileCount=0\n",
        "trainFileCount=0\n",
        "\n",
        "with open('LINUXFull') as f:\n",
        "  anyG=False\n",
        "  for line in f.readlines():\n",
        "    nodeList=[]\n",
        "    edgeList=[()]\n",
        "\n",
        "    nodeCount=0\n",
        "    if 't # ' == line[0:4]:\n",
        "      if anyG:\n",
        "        if testFileCount<200 and random()<0.1:\n",
        "          nx.write_gexf(G , dirNameTestNew+ID.rjust(5, '0')+'.gexf' )\n",
        "          testFileCount=testFileCount+1\n",
        "        else:\n",
        "          nx.write_gexf(G , dirNameTrainNew+ID.rjust(5, '0')+'.gexf' )\n",
        "          trainFileCount=trainFileCount+1\n",
        "      if trainFileCount>2000:\n",
        "        break\n",
        "      Gline=line.split()\n",
        "      ID=Gline[2]\n",
        "      G = nx.Graph()\n",
        "      anyG=True\n",
        "      #break \n",
        "    if 'v ' == line[0:2]:\n",
        "      node=line.split()\n",
        "      nodeID=node[1]\n",
        "      G.add_node(nodeID)\n",
        "    if 'e ' == line[0:2]:\n",
        "      edge=line.split()\n",
        "      eNode1=edge[1]\n",
        "      eNode2=edge[2]\n",
        "      G.add_edge(eNode1, eNode2)\n",
        "\n",
        "\n",
        "import shutil\n",
        "shutil.make_archive(dirNameNew, 'zip', dirNameNew)"
      ],
      "metadata": {
        "colab": {
          "base_uri": "https://localhost:8080/",
          "height": 54
        },
        "id": "RjylffIgDUIm",
        "outputId": "359da42d-a1a0-4b52-cc0d-c8a3520971c4"
      },
      "execution_count": null,
      "outputs": [
        {
          "output_type": "stream",
          "name": "stdout",
          "text": [
            "0.7648713945676628\n"
          ]
        },
        {
          "output_type": "execute_result",
          "data": {
            "text/plain": [
              "'/content/LINUX.zip'"
            ],
            "application/vnd.google.colaboratory.intrinsic+json": {
              "type": "string"
            }
          },
          "metadata": {},
          "execution_count": 10
        }
      ]
    },
    {
      "cell_type": "code",
      "source": [
        "ID.rjust(5, '0')"
      ],
      "metadata": {
        "colab": {
          "base_uri": "https://localhost:8080/",
          "height": 36
        },
        "id": "LkXt0shmM4ux",
        "outputId": "ccf90667-027a-42ec-f1ce-855496b91148"
      },
      "execution_count": null,
      "outputs": [
        {
          "output_type": "execute_result",
          "data": {
            "text/plain": [
              "'00000'"
            ],
            "application/vnd.google.colaboratory.intrinsic+json": {
              "type": "string"
            }
          },
          "metadata": {},
          "execution_count": 8
        }
      ]
    },
    {
      "cell_type": "code",
      "source": [
        "ID"
      ],
      "metadata": {
        "colab": {
          "base_uri": "https://localhost:8080/",
          "height": 36
        },
        "id": "_b-OT1HwNQK6",
        "outputId": "fd9af75f-cf20-4ea7-af6b-625d8fb2ecdf"
      },
      "execution_count": null,
      "outputs": [
        {
          "output_type": "execute_result",
          "data": {
            "text/plain": [
              "'0'"
            ],
            "application/vnd.google.colaboratory.intrinsic+json": {
              "type": "string"
            }
          },
          "metadata": {},
          "execution_count": 9
        }
      ]
    },
    {
      "cell_type": "code",
      "source": [
        "random()"
      ],
      "metadata": {
        "colab": {
          "base_uri": "https://localhost:8080/"
        },
        "id": "mb21Qz6nHFfp",
        "outputId": "d404f929-10fe-4716-ba21-4a00591180ad"
      },
      "execution_count": null,
      "outputs": [
        {
          "output_type": "execute_result",
          "data": {
            "text/plain": [
              "0.415882212848265"
            ]
          },
          "metadata": {},
          "execution_count": 62
        }
      ]
    },
    {
      "cell_type": "markdown",
      "metadata": {
        "id": "jRRSjhuZSmgD"
      },
      "source": [
        "##Data Preparation"
      ]
    },
    {
      "cell_type": "markdown",
      "metadata": {
        "id": "ZS4-44nXSegf"
      },
      "source": [
        "###Data Loading and observation"
      ]
    },
    {
      "cell_type": "code",
      "execution_count": null,
      "metadata": {
        "colab": {
          "base_uri": "https://localhost:8080/"
        },
        "id": "WjTxrSZ2wvrS",
        "outputId": "15e76a17-4234-45fe-dba3-5f02584c17dc"
      },
      "outputs": [
        {
          "output_type": "stream",
          "name": "stdout",
          "text": [
            "LINUX.zip  sample_data\n"
          ]
        }
      ],
      "source": [
        "# Code to download file into Colaboratory:\n",
        "!pip install -U -q PyDrive\n",
        "from pydrive.auth import GoogleAuth\n",
        "from pydrive.drive import GoogleDrive\n",
        "from google.colab import auth\n",
        "from oauth2client.client import GoogleCredentials\n",
        "# Authenticate and create the PyDrive client.\n",
        "auth.authenticate_user()\n",
        "gauth = GoogleAuth()\n",
        "gauth.credentials = GoogleCredentials.get_application_default()\n",
        "drive = GoogleDrive(gauth)\n",
        "\n",
        "#get the data from the drive\n",
        "id = '1RRhSLOuRe0RCtBu-nzX32Bkaa23SYEFQ'\n",
        "downloaded = drive.CreateFile({'id':id}) \n",
        "downloaded.GetContentFile('LINUX.zip')\n",
        "!ls"
      ]
    },
    {
      "cell_type": "code",
      "execution_count": null,
      "metadata": {
        "id": "netxDcJYTc4W"
      },
      "outputs": [],
      "source": [
        "#if AIDS700nef exist do not run this part\n",
        "#removing the dialog\n",
        "%%capture\n",
        "#unzip the file\n",
        "!unzip LINUX.zip"
      ]
    },
    {
      "cell_type": "code",
      "execution_count": null,
      "metadata": {
        "id": "YjFBUfyvaHor"
      },
      "outputs": [],
      "source": []
    },
    {
      "cell_type": "code",
      "execution_count": null,
      "metadata": {
        "id": "trsi9aizaHtr"
      },
      "outputs": [],
      "source": []
    },
    {
      "cell_type": "code",
      "execution_count": null,
      "metadata": {
        "id": "07srOEuJUbaH"
      },
      "outputs": [],
      "source": [
        "#visualise the first network data: 1011.gexf\n",
        "import networkx as nx\n",
        "import matplotlib.pyplot as plt\n",
        "import random\n",
        "\n",
        "#read the 1011.gexf\n",
        "Graph = nx.read_gexf('LINUX/train/00001.gexf',version='1.2draft')\n"
      ]
    },
    {
      "cell_type": "code",
      "execution_count": null,
      "metadata": {
        "id": "kk6JGQbRvXo6"
      },
      "outputs": [],
      "source": []
    },
    {
      "cell_type": "code",
      "execution_count": null,
      "metadata": {
        "colab": {
          "base_uri": "https://localhost:8080/",
          "height": 248
        },
        "id": "BLh7VuZxv2yO",
        "outputId": "20e2d8d6-115d-4dc5-d8cd-004d2db3f82a"
      },
      "outputs": [
        {
          "output_type": "display_data",
          "data": {
            "text/plain": [
              "<Figure size 432x288 with 1 Axes>"
            ],
            "image/png": "[encoded data removed]"
          },
          "metadata": {}
        }
      ],
      "source": [
        "import matplotlib.pyplot as plt\n",
        "import networkx as nx\n",
        "\n",
        "G=Graph\n",
        "def draw_graph(G):\n",
        "  pos=nx.spring_layout(G ,seed=42,scale=2)\n",
        "  edgelist=G.edges\n",
        "  edge_labels = nx.get_edge_attributes(G, \"valence\")\n",
        "  node_labels = nx.get_node_attributes(G, \"type\")\n",
        "\n",
        "  nx.draw_networkx_nodes(G, pos, node_size=700)\n",
        "  nx.draw_networkx_edges(G, pos, edgelist=edgelist, width=6)\n",
        "  nx.draw_networkx_labels(G, pos,labels=node_labels, font_size=20, font_family=\"sans-serif\")\n",
        "  nx.draw_networkx_edge_labels(G, pos, edge_labels)\n",
        "def draw_graph_id(G):\n",
        "  pos=nx.spring_layout(G ,seed=42,scale=2)\n",
        "  edgelist=G.edges\n",
        "  edge_labels = nx.get_edge_attributes(G, \"valence\")\n",
        "\n",
        "  nx.draw_networkx_nodes(G, pos, node_size=700)\n",
        "  nx.draw_networkx_edges(G, pos, edgelist=edgelist, width=6)\n",
        "  nx.draw_networkx_labels(G, pos,  font_size=20, font_family=\"sans-serif\")\n",
        "  nx.draw_networkx_edge_labels(G, pos, edge_labels)\n",
        "\n",
        "G=Graph\n",
        "def assignNodeLabel(G):\n",
        "  nodeLabels=['a']\n",
        "  relabelDict={}\n",
        "  for nodeToBeRebel in G.nodes:\n",
        "    relabelDict[nodeToBeRebel]={}\n",
        "    newLabel=random.choice(list(nodeLabels))\n",
        "    relabelDict[nodeToBeRebel]['type']=newLabel\n",
        "  nx.set_node_attributes(G, relabelDict)\n",
        "  return G\n",
        "\n",
        "\n",
        "def assignEdgeLabel(G):\n",
        "  edgeLabels=['1']\n",
        "  relabelDict={}\n",
        "  for edgeToBeRebel in G.edges:\n",
        "    relabelDict[edgeToBeRebel]={}\n",
        "    newLabel=random.choice(list(edgeLabels))\n",
        "    relabelDict[edgeToBeRebel]['valence']=newLabel\n",
        "  nx.set_edge_attributes(G, relabelDict)\n",
        "  return G\n",
        "\n",
        "\n",
        "\n",
        "draw_graph(G)"
      ]
    },
    {
      "cell_type": "code",
      "execution_count": null,
      "metadata": {
        "colab": {
          "base_uri": "https://localhost:8080/",
          "height": 248
        },
        "id": "Xrw9STJoPef4",
        "outputId": "bb2b450d-c5ae-4992-ebac-144fda4add29"
      },
      "outputs": [
        {
          "output_type": "display_data",
          "data": {
            "text/plain": [
              "<Figure size 432x288 with 1 Axes>"
            ],
            "image/png": "[encoded data removed]"
          },
          "metadata": {}
        }
      ],
      "source": [
        "draw_graph(G)"
      ]
    },
    {
      "cell_type": "code",
      "execution_count": null,
      "metadata": {
        "colab": {
          "base_uri": "https://localhost:8080/",
          "height": 248
        },
        "id": "YCkZH46z2Igo",
        "outputId": "3568f296-016d-49be-a211-a5ad1b794562"
      },
      "outputs": [
        {
          "output_type": "display_data",
          "data": {
            "text/plain": [
              "<Figure size 432x288 with 1 Axes>"
            ],
            "image/png": "[encoded data removed]"
          },
          "metadata": {}
        }
      ],
      "source": [
        "draw_graph_id(G)"
      ]
    },
    {
      "cell_type": "markdown",
      "metadata": {
        "id": "rX-L6lKloVqk"
      },
      "source": [
        "### Graph Pair Generator"
      ]
    },
    {
      "cell_type": "code",
      "execution_count": null,
      "metadata": {
        "id": "1CZylsUiogGj"
      },
      "outputs": [],
      "source": [
        "\n",
        "\n",
        "def graphPairGenerator(Graph,targetGEV):\n",
        "  NR=targetGEV['NR']\n",
        "  NID=targetGEV['NID']\n",
        "  ER=targetGEV['ER']\n",
        "  EID=targetGEV['EID']\n",
        "  \n",
        "  GEVsum=NR+NID+ER+EID\n",
        "\n",
        "  def assignNodeLabel(G):\n",
        "    nodeLabels=['a' ]\n",
        "    relabelDict={}\n",
        "    for nodeToBeRebel in G.nodes:\n",
        "      relabelDict[nodeToBeRebel]={}\n",
        "      newLabel=random.choice(list(nodeLabels))\n",
        "      relabelDict[nodeToBeRebel]['type']=newLabel\n",
        "    nx.set_node_attributes(G, relabelDict)\n",
        "    return G\n",
        "\n",
        "\n",
        "  def assignEdgeLabel(G):\n",
        "    edgeLabels=['1' ]\n",
        "    relabelDict={}\n",
        "    for edgeToBeRebel in G.edges:\n",
        "      relabelDict[edgeToBeRebel]={}\n",
        "      newLabel=random.choice(list(edgeLabels))\n",
        "      relabelDict[edgeToBeRebel]['valence']=newLabel\n",
        "    nx.set_edge_attributes(G, relabelDict)\n",
        "    return G\n",
        "  \n",
        "  nodeLabels=set(nx.get_node_attributes(Graph, \"type\").values())\n",
        "\n",
        "  edgeLabels=set(nx.get_edge_attributes(Graph, \"valence\").values())\n",
        "\n",
        "  nodeList= list(Graph.nodes)\n",
        "  edgeList= list(Graph.edges)\n",
        "\n",
        "  # set limit of relabeling\n",
        "  NodeDataView=Graph.nodes.data()\n",
        "  if NR>len(nodeList):\n",
        "    NR=len(nodeList)\n",
        "  EdgeView=Graph.edges \n",
        "  if ER>len(edgeList):\n",
        "    ER=len(edgeList)\n",
        "\n",
        "\n",
        "\n",
        "\n",
        "  newGraph=Graph.copy()\n",
        "\n",
        "  nodeLabels=set(nx.get_node_attributes(newGraph, \"type\").values())\n",
        "  #if len(nodeLabels)==1:\n",
        "  #  nodeLabels.add('C')\n",
        "  #  nodeLabels.add('S')\n",
        "\n",
        "\n",
        "  edgeLabels=set(nx.get_edge_attributes(newGraph, \"valence\").values())\n",
        "  #if len(edgeLabels)==1:\n",
        "  #  edgeLabels.add('1')\n",
        "  #  edgeLabels.add('2')\n",
        "  retryLimit=100\n",
        "  def NodeRelabel(newGraph,NR):\n",
        "    relabedNode=[]\n",
        "    \n",
        "    relabelDict={}\n",
        "\n",
        "    if len(list(newGraph.nodes))==0:\n",
        "      return newGraph,0\n",
        "\n",
        "    for i in range(NR):\n",
        "      nodeToBeRebel=random.choice(list(newGraph.nodes))\n",
        "      retry=0\n",
        "      while(nodeToBeRebel in relabedNode ):\n",
        "        nodeToBeRebel=random.choice(list(newGraph.nodes))\n",
        "        retry=retry+1\n",
        "        if (retry>retryLimit):\n",
        "          return  newGraph,i\n",
        "      relabedNode.append(nodeToBeRebel)\n",
        "\n",
        "      relabelDict[nodeToBeRebel]={}\n",
        "      newLabel=random.choice(list(nodeLabels))\n",
        "      retry=0\n",
        "      while(newLabel ==NodeDataView[nodeToBeRebel][\"type\"] ):\n",
        "        newLabel=random.choice(list(nodeLabels))\n",
        "        retry=retry+1\n",
        "        if (retry>retryLimit):\n",
        "          return  newGraph,i\n",
        "      relabelDict[nodeToBeRebel]['type']=newLabel\n",
        "    nx.set_node_attributes(newGraph, relabelDict)\n",
        "    #print('Relabel node list:',relabelDict)\n",
        "    return newGraph,NR\n",
        "\n",
        "  def NodeInserted(newGraph,NID):\n",
        "    newNode=[]\n",
        "    for i in range(NID):\n",
        "      newGraph.add_node(i+len(nodeList))\n",
        "      newNode.append(i+len(nodeList))\n",
        "    #print(newNode)\n",
        "    return newGraph,NID\n",
        "\n",
        "  def EdgeDelete(newGraph,EID):\n",
        "    toDel=0\n",
        "    if EID>0:\n",
        "      toDel=random.choice(list(range(EID)))\n",
        "    if EID>len(list(newGraph.edges)):\n",
        "      toDel=len(list(newGraph.edges))\n",
        "    deletedEdge=[]\n",
        "    for i in range(toDel):\n",
        "      e=random.choice(list(newGraph.edges))\n",
        "      newGraph.remove_edge(*e)\n",
        "      deletedEdge.append(e)\n",
        "    #print('Delete edge:',deletedEdge)\n",
        "    return newGraph,deletedEdge,toDel\n",
        "\n",
        "  def EdgeRelabel(newGraph,ER):\n",
        "    relabedEdge=[]\n",
        "    \n",
        "\n",
        "    relabelDict={}\n",
        "    if len(list(newGraph.edges))==0:\n",
        "      return newGraph,0\n",
        "\n",
        "    for i in range(ER):\n",
        "      edgeToBeRebel=random.choice(list(newGraph.edges))\n",
        "      retry=0\n",
        "      while(edgeToBeRebel in relabedEdge ):\n",
        "        edgeToBeRebel=random.choice(list(newGraph.edges))\n",
        "        retry=retry+1\n",
        "        if (retry>retryLimit):\n",
        "          return  newGraph,i\n",
        "      relabedEdge.append(edgeToBeRebel)\n",
        "\n",
        "      relabelDict[edgeToBeRebel]={}\n",
        "      newLabel=random.choice(list(edgeLabels)) \n",
        "      retry=0\n",
        "      while(newLabel ==nx.get_edge_attributes(newGraph,'valence')[edgeToBeRebel] ):\n",
        "        newLabel=random.choice(list(edgeLabels))\n",
        "        retry=retry+1\n",
        "        if (retry>retryLimit):\n",
        "          return  newGraph,i\n",
        "      relabelDict[edgeToBeRebel]['valence']=newLabel\n",
        "    nx.set_edge_attributes(newGraph, relabelDict)\n",
        "    #print('Relable edge:',relabelDict)\n",
        "    return newGraph,ER\n",
        "\n",
        "  def EdgeInsert(newGraph,EID,toDel,deletedEdge): \n",
        "    newEdges=[]\n",
        "    toInsert=EID-toDel\n",
        "    for i in range(toInsert):\n",
        "\n",
        "      n1,n2=random.choice(list(newGraph.nodes)),random.choice(list(newGraph.nodes))\n",
        "\n",
        "      \n",
        "      retry=0\n",
        "      #random select 2 node agian if edge has already existed/the edge is deleted in delete rpocess\n",
        "      while(n1==n2 or (n1,n2) in list(Graph.edges) or (n2,n1) in list(Graph.edges)or (n1,n2) in deletedEdge or (n2,n1) in deletedEdge):\n",
        "        n1,n2=random.choice(list(newGraph.nodes)),random.choice(list(newGraph.nodes))\n",
        "        retry=retry+1\n",
        "        if (retry>retryLimit):\n",
        "          return  newGraph,i\n",
        "      newGraph.add_edge(n1,n2)\n",
        "      newEdges.append((n1,n2))\n",
        "    #print('Add edge:',newEdges)\n",
        "    return newGraph \n",
        "\n",
        "  newGraph,NR = NodeRelabel(newGraph,NR)\n",
        "  newGraph,NID = NodeInserted(newGraph,NID)\n",
        "  newGraph,deletedEdge,toDel = EdgeDelete(newGraph,EID) \n",
        "  newGraph,ER = EdgeRelabel(newGraph,ER) \n",
        "  newGraph = EdgeInsert(newGraph,EID,toDel,deletedEdge) \n",
        "\n",
        "  #make the sum of operation fill the target\n",
        "  moreNID=GEVsum-(NR+NID+ER+EID)\n",
        "  if moreNID>0:\n",
        "    newGraph,moreNID = NodeInserted(newGraph,moreNID)\n",
        "    NID=NID+moreNID\n",
        "  finalGEV={'NR':NR,'NID':NID,'ER':ER,'EID':EID}\n",
        "  return Graph,newGraph,finalGEV"
      ]
    },
    {
      "cell_type": "code",
      "source": [
        "\n",
        "import os\n",
        "import random\n",
        "import matplotlib.pyplot as plt\n",
        "import networkx as nx\n",
        "import random\n",
        "import pandas as pd\n",
        "def constrained_sum_sample_pos(n, total):\n",
        "    \"\"\"Return a randomly chosen list of n positive integers summing to total.\n",
        "    Each such list is equally likely to occur.\"\"\"\n",
        "\n",
        "    dividers = sorted(random.sample(range(1, total), n - 1))\n",
        "    return [a - b for a, b in zip(dividers + [total], [0] + dividers)]\n",
        "\n"
      ],
      "metadata": {
        "id": "1OYpLrn2XUH9"
      },
      "execution_count": null,
      "outputs": []
    },
    {
      "cell_type": "code",
      "execution_count": null,
      "metadata": {
        "colab": {
          "base_uri": "https://localhost:8080/",
          "height": 72
        },
        "id": "vf9B7viQaHpg",
        "outputId": "8fc26eea-f913-44c4-8bfb-dbbde615f148"
      },
      "outputs": [
        {
          "output_type": "stream",
          "name": "stdout",
          "text": [
            "LINUXNew/train/Data.csv\n",
            "LINUXNew/test/Data.csv\n"
          ]
        },
        {
          "output_type": "execute_result",
          "data": {
            "text/plain": [
              "'/content/NEW_LINUX.zip'"
            ],
            "application/vnd.google.colaboratory.intrinsic+json": {
              "type": "string"
            }
          },
          "metadata": {},
          "execution_count": 43
        }
      ],
      "source": [
        "\n",
        "maxNodeLabelList=[]\n",
        "maxEdgeLabelList=[]\n",
        "\n",
        "dirNameTrain = 'LINUX/train/'\n",
        "dirNameTest = 'LINUX/test/'\n",
        "dirNameTrainNew = 'LINUXNew/train/'\n",
        "dirNameTestNew = 'LINUXNew/test/'\n",
        "try: \n",
        "  os.mkdir('LINUXNew') \n",
        "except OSError as error: \n",
        "  r=1\n",
        "try: \n",
        "  os.mkdir(dirNameTrainNew) \n",
        "except OSError as error: \n",
        "  r=1\n",
        "try: \n",
        "  os.mkdir(dirNameTestNew) \n",
        "except OSError as error: \n",
        "  r=1\n",
        "trainSet=[]\n",
        "testSet=[]\n",
        "dirName=dirNameTrain\n",
        "dirNameNew=dirNameTrainNew\n",
        "filenames = os.listdir(dirName)\n",
        "df = pd.DataFrame(columns = [\"G1\", \"G2\", \"GED\",\"gt_ged\" ])\n",
        "j=0\n",
        "for file in filenames:\n",
        "  if not file.split('.')[1] =='gexf':\n",
        "    continue\n",
        "  Graph = nx.read_gexf(dirName+file,version='1.2draft')\n",
        "  \n",
        "  #GEVtargetsum=random.randrange(4,16)\n",
        "  #GEVList=constrained_sum_sample_pos(4,GEVtargetsum)\n",
        "  #targetGEV={'NR':GEVList[0],'NID':GEVList[1],'ER':GEVList[2],'EID':GEVList[3]}\n",
        "  GEVtargetsum=8\n",
        "  GEVList=constrained_sum_sample_pos(2,GEVtargetsum)\n",
        "  targetGEV={'NR':0,'NID':GEVList[0],'ER':0,'EID':GEVList[1]}\n",
        "  (Graph,newGraph,GEV)=graphPairGenerator(Graph,targetGEV)\n",
        "\n",
        "\n",
        "\n",
        "  fileName=file.split('.')[0]+'_NR_'+str(GEV['NR'])+'_NID_'+str(GEV['NID'])+'_ER_'+str(GEV['ER'])+'_EID_'+str(GEV['EID'])+'.'+file.split('.')[1]\n",
        "  nx.write_gexf(newGraph ,dirNameNew+ fileName )\n",
        "  new_row = pd.Series({\"G1\":file, \"G2\":fileName,\"GED\":[0,GEVList[0],0,GEVList[1]], \"gt_ged\":GEV['NR']+GEV['NID']+GEV['ER']+GEV['EID']})\n",
        "  df.loc[j] = new_row\n",
        "  j=j+1\n",
        "df.to_csv(dirNameNew+'Data.csv',index = False) \n",
        "print(dirNameNew+'Data.csv')\n",
        "\n",
        "\n",
        "\n",
        "dirName=dirNameTest\n",
        "dirNameNew=dirNameTestNew\n",
        "filenames = os.listdir(dirName)\n",
        "df = pd.DataFrame(columns = [\"G1\", \"G2\", \"GED\",\"gt_ged\" ])\n",
        "j=0\n",
        "for file in filenames:\n",
        "  if not file.split('.')[1] =='gexf':\n",
        "    continue\n",
        "  Graph = nx.read_gexf(dirName+file,version='1.2draft')\n",
        "  #GEVtargetsum=random.randrange(4,16)\n",
        "  #GEVList=constrained_sum_sample_pos(4,GEVtargetsum)\n",
        "  #targetGEV={'NR':GEVList[0],'NID':GEVList[1],'ER':GEVList[2],'EID':GEVList[3]}\n",
        "  GEVtargetsum=8\n",
        "  GEVList=constrained_sum_sample_pos(2,GEVtargetsum)\n",
        "  targetGEV={'NR':0,'NID':GEVList[0],'ER':0,'EID':GEVList[1]}\n",
        "  (Graph,newGraph,GEV)=graphPairGenerator(Graph,targetGEV)\n",
        "  \n",
        "#_NR_0_NID_5_ER_0_EID_3\n",
        "  fileName=file.split('.')[0]+'_NR_'+str(GEV['NR'])+'_NID_'+str(GEV['NID'])+'_ER_'+str(GEV['ER'])+'_EID_'+str(GEV['EID'])+'.'+file.split('.')[1]\n",
        "  nx.write_gexf(newGraph , dirNameNew+fileName )\n",
        "  new_row = pd.Series({\"G1\":file, \"G2\":fileName,\"GED\":[0,GEVList[0],0,GEVList[1]], \"gt_ged\":GEV['NR']+GEV['NID']+GEV['ER']+GEV['EID']})\n",
        "  df.loc[j] = new_row\n",
        "  j=j+1\n",
        "df.to_csv(dirNameNew+'Data.csv',index = False) \n",
        "print(dirNameNew+'Data.csv')\n",
        "\n",
        "\n",
        "import shutil\n",
        "shutil.make_archive('NEW_LINUX', 'zip', 'LINUXNew')"
      ]
    },
    {
      "cell_type": "code",
      "source": [
        "df"
      ],
      "metadata": {
        "colab": {
          "base_uri": "https://localhost:8080/",
          "height": 424
        },
        "id": "Eeqkf5OvZzw4",
        "outputId": "d0ec7931-0452-4c61-f871-0c87f64186ce"
      },
      "execution_count": null,
      "outputs": [
        {
          "output_type": "execute_result",
          "data": {
            "text/plain": [
              "    oldGraph newGraph GEVSum   NR  NID   ER  EID\n",
              "0        NaN      NaN    NaN  NaN  NaN  NaN  NaN\n",
              "1        NaN      NaN    NaN  NaN  NaN  NaN  NaN\n",
              "2        NaN      NaN    NaN  NaN  NaN  NaN  NaN\n",
              "3        NaN      NaN    NaN  NaN  NaN  NaN  NaN\n",
              "4        NaN      NaN    NaN  NaN  NaN  NaN  NaN\n",
              "..       ...      ...    ...  ...  ...  ...  ...\n",
              "191      NaN      NaN    NaN  NaN  NaN  NaN  NaN\n",
              "192      NaN      NaN    NaN  NaN  NaN  NaN  NaN\n",
              "193      NaN      NaN    NaN  NaN  NaN  NaN  NaN\n",
              "194      NaN      NaN    NaN  NaN  NaN  NaN  NaN\n",
              "195      NaN      NaN    NaN  NaN  NaN  NaN  NaN\n",
              "\n",
              "[196 rows x 7 columns]"
            ],
            "text/html": [
              "\n",
              "  <div id=\"df-5bec59d3-9cb0-4167-8d81-7d499349a850\">\n",
              "    <div class=\"colab-df-container\">\n",
              "      <div>\n",
              "<style scoped>\n",
              "    .dataframe tbody tr th:only-of-type {\n",
              "        vertical-align: middle;\n",
              "    }\n",
              "\n",
              "    .dataframe tbody tr th {\n",
              "        vertical-align: top;\n",
              "    }\n",
              "\n",
              "    .dataframe thead th {\n",
              "        text-align: right;\n",
              "    }\n",
              "</style>\n",
              "<table border=\"1\" class=\"dataframe\">\n",
              "  <thead>\n",
              "    <tr style=\"text-align: right;\">\n",
              "      <th></th>\n",
              "      <th>oldGraph</th>\n",
              "      <th>newGraph</th>\n",
              "      <th>GEVSum</th>\n",
              "      <th>NR</th>\n",
              "      <th>NID</th>\n",
              "      <th>ER</th>\n",
              "      <th>EID</th>\n",
              "    </tr>\n",
              "  </thead>\n",
              "  <tbody>\n",
              "    <tr>\n",
              "      <th>0</th>\n",
              "      <td>NaN</td>\n",
              "      <td>NaN</td>\n",
              "      <td>NaN</td>\n",
              "      <td>NaN</td>\n",
              "      <td>NaN</td>\n",
              "      <td>NaN</td>\n",
              "      <td>NaN</td>\n",
              "    </tr>\n",
              "    <tr>\n",
              "      <th>1</th>\n",
              "      <td>NaN</td>\n",
              "      <td>NaN</td>\n",
              "      <td>NaN</td>\n",
              "      <td>NaN</td>\n",
              "      <td>NaN</td>\n",
              "      <td>NaN</td>\n",
              "      <td>NaN</td>\n",
              "    </tr>\n",
              "    <tr>\n",
              "      <th>2</th>\n",
              "      <td>NaN</td>\n",
              "      <td>NaN</td>\n",
              "      <td>NaN</td>\n",
              "      <td>NaN</td>\n",
              "      <td>NaN</td>\n",
              "      <td>NaN</td>\n",
              "      <td>NaN</td>\n",
              "    </tr>\n",
              "    <tr>\n",
              "      <th>3</th>\n",
              "      <td>NaN</td>\n",
              "      <td>NaN</td>\n",
              "      <td>NaN</td>\n",
              "      <td>NaN</td>\n",
              "      <td>NaN</td>\n",
              "      <td>NaN</td>\n",
              "      <td>NaN</td>\n",
              "    </tr>\n",
              "    <tr>\n",
              "      <th>4</th>\n",
              "      <td>NaN</td>\n",
              "      <td>NaN</td>\n",
              "      <td>NaN</td>\n",
              "      <td>NaN</td>\n",
              "      <td>NaN</td>\n",
              "      <td>NaN</td>\n",
              "      <td>NaN</td>\n",
              "    </tr>\n",
              "    <tr>\n",
              "      <th>...</th>\n",
              "      <td>...</td>\n",
              "      <td>...</td>\n",
              "      <td>...</td>\n",
              "      <td>...</td>\n",
              "      <td>...</td>\n",
              "      <td>...</td>\n",
              "      <td>...</td>\n",
              "    </tr>\n",
              "    <tr>\n",
              "      <th>191</th>\n",
              "      <td>NaN</td>\n",
              "      <td>NaN</td>\n",
              "      <td>NaN</td>\n",
              "      <td>NaN</td>\n",
              "      <td>NaN</td>\n",
              "      <td>NaN</td>\n",
              "      <td>NaN</td>\n",
              "    </tr>\n",
              "    <tr>\n",
              "      <th>192</th>\n",
              "      <td>NaN</td>\n",
              "      <td>NaN</td>\n",
              "      <td>NaN</td>\n",
              "      <td>NaN</td>\n",
              "      <td>NaN</td>\n",
              "      <td>NaN</td>\n",
              "      <td>NaN</td>\n",
              "    </tr>\n",
              "    <tr>\n",
              "      <th>193</th>\n",
              "      <td>NaN</td>\n",
              "      <td>NaN</td>\n",
              "      <td>NaN</td>\n",
              "      <td>NaN</td>\n",
              "      <td>NaN</td>\n",
              "      <td>NaN</td>\n",
              "      <td>NaN</td>\n",
              "    </tr>\n",
              "    <tr>\n",
              "      <th>194</th>\n",
              "      <td>NaN</td>\n",
              "      <td>NaN</td>\n",
              "      <td>NaN</td>\n",
              "      <td>NaN</td>\n",
              "      <td>NaN</td>\n",
              "      <td>NaN</td>\n",
              "      <td>NaN</td>\n",
              "    </tr>\n",
              "    <tr>\n",
              "      <th>195</th>\n",
              "      <td>NaN</td>\n",
              "      <td>NaN</td>\n",
              "      <td>NaN</td>\n",
              "      <td>NaN</td>\n",
              "      <td>NaN</td>\n",
              "      <td>NaN</td>\n",
              "      <td>NaN</td>\n",
              "    </tr>\n",
              "  </tbody>\n",
              "</table>\n",
              "<p>196 rows × 7 columns</p>\n",
              "</div>\n",
              "      <button class=\"colab-df-convert\" onclick=\"convertToInteractive('df-5bec59d3-9cb0-4167-8d81-7d499349a850')\"\n",
              "              title=\"Convert this dataframe to an interactive table.\"\n",
              "              style=\"display:none;\">\n",
              "        \n",
              "  <svg xmlns=\"http://www.w3.org/2000/svg\" height=\"24px\"viewBox=\"0 0 24 24\"\n",
              "       width=\"24px\">\n",
              "    <path d=\"M0 0h24v24H0V0z\" fill=\"none\"/>\n",
              "    <path d=\"M18.56 5.44l.94 2.06.94-2.06 2.06-.94-2.06-.94-.94-2.06-.94 2.06-2.06.94zm-11 1L8.5 8.5l.94-2.06 2.06-.94-2.06-.94L8.5 2.5l-.94 2.06-2.06.94zm10 10l.94 2.06.94-2.06 2.06-.94-2.06-.94-.94-2.06-.94 2.06-2.06.94z\"/><path d=\"M17.41 7.96l-1.37-1.37c-.4-.4-.92-.59-1.43-.59-.52 0-1.04.2-1.43.59L10.3 9.45l-7.72 7.72c-.78.78-.78 2.05 0 2.83L4 21.41c.39.39.9.59 1.41.59.51 0 1.02-.2 1.41-.59l7.78-7.78 2.81-2.81c.8-.78.8-2.07 0-2.86zM5.41 20L4 18.59l7.72-7.72 1.47 1.35L5.41 20z\"/>\n",
              "  </svg>\n",
              "      </button>\n",
              "      \n",
              "  <style>\n",
              "    .colab-df-container {\n",
              "      display:flex;\n",
              "      flex-wrap:wrap;\n",
              "      gap: 12px;\n",
              "    }\n",
              "\n",
              "    .colab-df-convert {\n",
              "      background-color: #E8F0FE;\n",
              "      border: none;\n",
              "      border-radius: 50%;\n",
              "      cursor: pointer;\n",
              "      display: none;\n",
              "      fill: #1967D2;\n",
              "      height: 32px;\n",
              "      padding: 0 0 0 0;\n",
              "      width: 32px;\n",
              "    }\n",
              "\n",
              "    .colab-df-convert:hover {\n",
              "      background-color: #E2EBFA;\n",
              "      box-shadow: 0px 1px 2px rgba(60, 64, 67, 0.3), 0px 1px 3px 1px rgba(60, 64, 67, 0.15);\n",
              "      fill: #174EA6;\n",
              "    }\n",
              "\n",
              "    [theme=dark] .colab-df-convert {\n",
              "      background-color: #3B4455;\n",
              "      fill: #D2E3FC;\n",
              "    }\n",
              "\n",
              "    [theme=dark] .colab-df-convert:hover {\n",
              "      background-color: #434B5C;\n",
              "      box-shadow: 0px 1px 3px 1px rgba(0, 0, 0, 0.15);\n",
              "      filter: drop-shadow(0px 1px 2px rgba(0, 0, 0, 0.3));\n",
              "      fill: #FFFFFF;\n",
              "    }\n",
              "  </style>\n",
              "\n",
              "      <script>\n",
              "        const buttonEl =\n",
              "          document.querySelector('#df-5bec59d3-9cb0-4167-8d81-7d499349a850 button.colab-df-convert');\n",
              "        buttonEl.style.display =\n",
              "          google.colab.kernel.accessAllowed ? 'block' : 'none';\n",
              "\n",
              "        async function convertToInteractive(key) {\n",
              "          const element = document.querySelector('#df-5bec59d3-9cb0-4167-8d81-7d499349a850');\n",
              "          const dataTable =\n",
              "            await google.colab.kernel.invokeFunction('convertToInteractive',\n",
              "                                                     [key], {});\n",
              "          if (!dataTable) return;\n",
              "\n",
              "          const docLinkHtml = 'Like what you see? Visit the ' +\n",
              "            '<a target=\"_blank\" href=https://colab.research.google.com/notebooks/data_table.ipynb>data table notebook</a>'\n",
              "            + ' to learn more about interactive tables.';\n",
              "          element.innerHTML = '';\n",
              "          dataTable['output_type'] = 'display_data';\n",
              "          await google.colab.output.renderOutput(dataTable, element);\n",
              "          const docLink = document.createElement('div');\n",
              "          docLink.innerHTML = docLinkHtml;\n",
              "          element.appendChild(docLink);\n",
              "        }\n",
              "      </script>\n",
              "    </div>\n",
              "  </div>\n",
              "  "
            ]
          },
          "metadata": {},
          "execution_count": 42
        }
      ]
    },
    {
      "cell_type": "code",
      "execution_count": null,
      "metadata": {
        "id": "fVimaqRJbdbA"
      },
      "outputs": [],
      "source": [
        "\n",
        "import shutil\n",
        "shutil.make_archive('NEW_LINUX', 'zip', 'LINUX')"
      ]
    },
    {
      "cell_type": "code",
      "execution_count": null,
      "metadata": {
        "id": "RZDtbHXWlkB5",
        "colab": {
          "base_uri": "https://localhost:8080/",
          "height": 36
        },
        "outputId": "6a86c9ba-7263-4e29-c52d-67c1b17a1bf2"
      },
      "outputs": [
        {
          "output_type": "execute_result",
          "data": {
            "text/plain": [
              "'00000_NR_0_NID_3_ER_0_EID_5.gexf'"
            ],
            "application/vnd.google.colaboratory.intrinsic+json": {
              "type": "string"
            }
          },
          "metadata": {},
          "execution_count": 38
        }
      ],
      "source": [
        "dirName='LINUX/train/'\n",
        "file='00000.gexf'\n",
        "\n",
        "Graph = nx.read_gexf(dirName+file,version='1.2draft')\n",
        "\n",
        "#GEVtargetsum=random.randrange(4,16)\n",
        "#GEVList=constrained_sum_sample_pos(4,GEVtargetsum)\n",
        "#targetGEV={'NR':GEVList[0],'NID':GEVList[1],'ER':GEVList[2],'EID':GEVList[3]}\n",
        "GEVtargetsum=8\n",
        "GEVList=constrained_sum_sample_pos(2,GEVtargetsum)\n",
        "targetGEV={'NR':0,'NID':GEVList[0],'ER':0,'EID':GEVList[1]}\n",
        "(Graph,newGraph,GEV)=graphPairGenerator(Graph,targetGEV)\n",
        "fileName=file.split('.')[0]+'_NR_'+str(GEV['NR'])+'_NID_'+str(GEV['NID'])+'_ER_'+str(GEV['ER'])+'_EID_'+str(GEV['EID'])+'.'+file.split('.')[1]\n",
        "fileName"
      ]
    },
    {
      "cell_type": "code",
      "source": [
        "\n",
        "draw_graph(Graph)"
      ],
      "metadata": {
        "colab": {
          "base_uri": "https://localhost:8080/",
          "height": 248
        },
        "id": "7ZP2baRUX1wF",
        "outputId": "75b9d653-82e1-4e25-8cec-5771c51b4a57"
      },
      "execution_count": null,
      "outputs": [
        {
          "output_type": "display_data",
          "data": {
            "text/plain": [
              "<Figure size 432x288 with 1 Axes>"
            ],
            "image/png": "[encoded data removed]"
          },
          "metadata": {}
        }
      ]
    },
    {
      "cell_type": "code",
      "execution_count": null,
      "metadata": {
        "id": "yYmmNlS4qUB5",
        "colab": {
          "base_uri": "https://localhost:8080/",
          "height": 248
        },
        "outputId": "51b85796-9fef-4a62-fbd7-b8052afede89"
      },
      "outputs": [
        {
          "output_type": "display_data",
          "data": {
            "text/plain": [
              "<Figure size 432x288 with 1 Axes>"
            ],
            "image/png": "[encoded data removed]"
          },
          "metadata": {}
        }
      ],
      "source": [
        "\n",
        "draw_graph(newGraph)"
      ]
    },
    {
      "cell_type": "code",
      "execution_count": null,
      "metadata": {
        "id": "b3z7eJ65qqCq"
      },
      "outputs": [],
      "source": [
        "\n",
        "Graph = nx.read_gexf('LINUXNew/train/1002_new.gexf',version='1.2draft')\n",
        "draw_graph(Graph)"
      ]
    },
    {
      "cell_type": "code",
      "source": [
        "\n",
        "Graph = nx.read_gexf('LINUXNew/train/1002.gexf',version='1.2draft')\n",
        "draw_graph(Graph)"
      ],
      "metadata": {
        "id": "X85bk2TFvthS"
      },
      "execution_count": null,
      "outputs": []
    },
    {
      "cell_type": "code",
      "source": [
        "\n",
        "\n",
        "#get the data from the drive https://drive.google.com/file/d/13s96Ka0gMMaVaeRxoBUiBJ22QDu28xiS/view?usp=share_link\n",
        "id = '13s96Ka0gMMaVaeRxoBUiBJ22QDu28xiS'\n",
        "downloaded = drive.CreateFile({'id':id}) \n",
        "downloaded.GetContentFile('LINUX.zip')\n",
        "!ls"
      ],
      "metadata": {
        "colab": {
          "base_uri": "https://localhost:8080/"
        },
        "id": "OGj3d1rN1c64",
        "outputId": "ed6143a9-96e5-4fb9-c4fb-4ce2cec5abab"
      },
      "execution_count": null,
      "outputs": [
        {
          "output_type": "stream",
          "name": "stdout",
          "text": [
            "LINUX  LINUX.zip  sample_data\n"
          ]
        }
      ]
    },
    {
      "cell_type": "code",
      "source": [
        "#if train and test exist do not run this part\n",
        "#removing the dialog\n",
        "%%capture\n",
        "#unzip the file\n",
        "# updated_train\n",
        "# updated_test\n",
        "!unzip LINUX.zip"
      ],
      "metadata": {
        "id": "StBttQey1iFg"
      },
      "execution_count": null,
      "outputs": []
    },
    {
      "cell_type": "code",
      "source": [
        "# pick a pair graph\n",
        "import os\n",
        "import random\n",
        "import matplotlib.pyplot as plt\n",
        "import networkx as nx\n",
        "\n",
        "import pandas as pd\n",
        "dirName = 'test/' #updated_train\n",
        "filenames = os.listdir(dirName)\n",
        "test_df = pd.read_csv(dirName+'Data.csv', sep=',')\n",
        "test_df = test_df.reset_index() \n",
        "\n",
        "test_df.iloc[0]"
      ],
      "metadata": {
        "colab": {
          "base_uri": "https://localhost:8080/"
        },
        "id": "jhatqR7G1mth",
        "outputId": "30fb22f4-dc43-4847-c0b2-3529a394bfb0"
      },
      "execution_count": null,
      "outputs": [
        {
          "output_type": "execute_result",
          "data": {
            "text/plain": [
              "index                   0\n",
              "oldGraph        4488.gexf\n",
              "newGraph    4488_new.gexf\n",
              "GEVSum                  8\n",
              "NR                      0\n",
              "NID                     2\n",
              "ER                      0\n",
              "EID                     6\n",
              "Name: 0, dtype: object"
            ]
          },
          "metadata": {},
          "execution_count": 9
        }
      ]
    },
    {
      "cell_type": "code",
      "source": [
        "test_df[['networkX_DEG']]=0"
      ],
      "metadata": {
        "id": "2IxVKza22F2k"
      },
      "execution_count": null,
      "outputs": []
    },
    {
      "cell_type": "code",
      "source": [
        "test_df"
      ],
      "metadata": {
        "colab": {
          "base_uri": "https://localhost:8080/",
          "height": 424
        },
        "id": "EtGYQ3zr2N2b",
        "outputId": "bf02d771-c289-4050-bc0e-a25a9f29ca99"
      },
      "execution_count": null,
      "outputs": [
        {
          "output_type": "execute_result",
          "data": {
            "text/plain": [
              "             G1                                G2           GED gt_ged\n",
              "0    01650.gexf  01650_NR_0_NID_7_ER_0_EID_1.gexf  [0, 7, 0, 1]      8\n",
              "1    00029.gexf  00029_NR_0_NID_5_ER_0_EID_3.gexf  [0, 5, 0, 3]      8\n",
              "2    02052.gexf  02052_NR_0_NID_1_ER_0_EID_7.gexf  [0, 1, 0, 7]      8\n",
              "3    01095.gexf  01095_NR_0_NID_7_ER_0_EID_1.gexf  [0, 7, 0, 1]      8\n",
              "4    00672.gexf  00672_NR_0_NID_2_ER_0_EID_6.gexf  [0, 2, 0, 6]      8\n",
              "..          ...                               ...           ...    ...\n",
              "191  02022.gexf  02022_NR_0_NID_3_ER_0_EID_5.gexf  [0, 3, 0, 5]      8\n",
              "192  01328.gexf  01328_NR_0_NID_1_ER_0_EID_7.gexf  [0, 1, 0, 7]      8\n",
              "193  01603.gexf  01603_NR_0_NID_5_ER_0_EID_3.gexf  [0, 5, 0, 3]      8\n",
              "194  00904.gexf  00904_NR_0_NID_7_ER_0_EID_1.gexf  [0, 7, 0, 1]      8\n",
              "195  01296.gexf  01296_NR_0_NID_7_ER_0_EID_1.gexf  [0, 7, 0, 1]      8\n",
              "\n",
              "[196 rows x 4 columns]"
            ],
            "text/html": [
              "\n",
              "  <div id=\"df-1af48a6d-d443-4c66-bb89-e568ef181fdc\">\n",
              "    <div class=\"colab-df-container\">\n",
              "      <div>\n",
              "<style scoped>\n",
              "    .dataframe tbody tr th:only-of-type {\n",
              "        vertical-align: middle;\n",
              "    }\n",
              "\n",
              "    .dataframe tbody tr th {\n",
              "        vertical-align: top;\n",
              "    }\n",
              "\n",
              "    .dataframe thead th {\n",
              "        text-align: right;\n",
              "    }\n",
              "</style>\n",
              "<table border=\"1\" class=\"dataframe\">\n",
              "  <thead>\n",
              "    <tr style=\"text-align: right;\">\n",
              "      <th></th>\n",
              "      <th>G1</th>\n",
              "      <th>G2</th>\n",
              "      <th>GED</th>\n",
              "      <th>gt_ged</th>\n",
              "    </tr>\n",
              "  </thead>\n",
              "  <tbody>\n",
              "    <tr>\n",
              "      <th>0</th>\n",
              "      <td>01650.gexf</td>\n",
              "      <td>01650_NR_0_NID_7_ER_0_EID_1.gexf</td>\n",
              "      <td>[0, 7, 0, 1]</td>\n",
              "      <td>8</td>\n",
              "    </tr>\n",
              "    <tr>\n",
              "      <th>1</th>\n",
              "      <td>00029.gexf</td>\n",
              "      <td>00029_NR_0_NID_5_ER_0_EID_3.gexf</td>\n",
              "      <td>[0, 5, 0, 3]</td>\n",
              "      <td>8</td>\n",
              "    </tr>\n",
              "    <tr>\n",
              "      <th>2</th>\n",
              "      <td>02052.gexf</td>\n",
              "      <td>02052_NR_0_NID_1_ER_0_EID_7.gexf</td>\n",
              "      <td>[0, 1, 0, 7]</td>\n",
              "      <td>8</td>\n",
              "    </tr>\n",
              "    <tr>\n",
              "      <th>3</th>\n",
              "      <td>01095.gexf</td>\n",
              "      <td>01095_NR_0_NID_7_ER_0_EID_1.gexf</td>\n",
              "      <td>[0, 7, 0, 1]</td>\n",
              "      <td>8</td>\n",
              "    </tr>\n",
              "    <tr>\n",
              "      <th>4</th>\n",
              "      <td>00672.gexf</td>\n",
              "      <td>00672_NR_0_NID_2_ER_0_EID_6.gexf</td>\n",
              "      <td>[0, 2, 0, 6]</td>\n",
              "      <td>8</td>\n",
              "    </tr>\n",
              "    <tr>\n",
              "      <th>...</th>\n",
              "      <td>...</td>\n",
              "      <td>...</td>\n",
              "      <td>...</td>\n",
              "      <td>...</td>\n",
              "    </tr>\n",
              "    <tr>\n",
              "      <th>191</th>\n",
              "      <td>02022.gexf</td>\n",
              "      <td>02022_NR_0_NID_3_ER_0_EID_5.gexf</td>\n",
              "      <td>[0, 3, 0, 5]</td>\n",
              "      <td>8</td>\n",
              "    </tr>\n",
              "    <tr>\n",
              "      <th>192</th>\n",
              "      <td>01328.gexf</td>\n",
              "      <td>01328_NR_0_NID_1_ER_0_EID_7.gexf</td>\n",
              "      <td>[0, 1, 0, 7]</td>\n",
              "      <td>8</td>\n",
              "    </tr>\n",
              "    <tr>\n",
              "      <th>193</th>\n",
              "      <td>01603.gexf</td>\n",
              "      <td>01603_NR_0_NID_5_ER_0_EID_3.gexf</td>\n",
              "      <td>[0, 5, 0, 3]</td>\n",
              "      <td>8</td>\n",
              "    </tr>\n",
              "    <tr>\n",
              "      <th>194</th>\n",
              "      <td>00904.gexf</td>\n",
              "      <td>00904_NR_0_NID_7_ER_0_EID_1.gexf</td>\n",
              "      <td>[0, 7, 0, 1]</td>\n",
              "      <td>8</td>\n",
              "    </tr>\n",
              "    <tr>\n",
              "      <th>195</th>\n",
              "      <td>01296.gexf</td>\n",
              "      <td>01296_NR_0_NID_7_ER_0_EID_1.gexf</td>\n",
              "      <td>[0, 7, 0, 1]</td>\n",
              "      <td>8</td>\n",
              "    </tr>\n",
              "  </tbody>\n",
              "</table>\n",
              "<p>196 rows × 4 columns</p>\n",
              "</div>\n",
              "      <button class=\"colab-df-convert\" onclick=\"convertToInteractive('df-1af48a6d-d443-4c66-bb89-e568ef181fdc')\"\n",
              "              title=\"Convert this dataframe to an interactive table.\"\n",
              "              style=\"display:none;\">\n",
              "        \n",
              "  <svg xmlns=\"http://www.w3.org/2000/svg\" height=\"24px\"viewBox=\"0 0 24 24\"\n",
              "       width=\"24px\">\n",
              "    <path d=\"M0 0h24v24H0V0z\" fill=\"none\"/>\n",
              "    <path d=\"M18.56 5.44l.94 2.06.94-2.06 2.06-.94-2.06-.94-.94-2.06-.94 2.06-2.06.94zm-11 1L8.5 8.5l.94-2.06 2.06-.94-2.06-.94L8.5 2.5l-.94 2.06-2.06.94zm10 10l.94 2.06.94-2.06 2.06-.94-2.06-.94-.94-2.06-.94 2.06-2.06.94z\"/><path d=\"M17.41 7.96l-1.37-1.37c-.4-.4-.92-.59-1.43-.59-.52 0-1.04.2-1.43.59L10.3 9.45l-7.72 7.72c-.78.78-.78 2.05 0 2.83L4 21.41c.39.39.9.59 1.41.59.51 0 1.02-.2 1.41-.59l7.78-7.78 2.81-2.81c.8-.78.8-2.07 0-2.86zM5.41 20L4 18.59l7.72-7.72 1.47 1.35L5.41 20z\"/>\n",
              "  </svg>\n",
              "      </button>\n",
              "      \n",
              "  <style>\n",
              "    .colab-df-container {\n",
              "      display:flex;\n",
              "      flex-wrap:wrap;\n",
              "      gap: 12px;\n",
              "    }\n",
              "\n",
              "    .colab-df-convert {\n",
              "      background-color: #E8F0FE;\n",
              "      border: none;\n",
              "      border-radius: 50%;\n",
              "      cursor: pointer;\n",
              "      display: none;\n",
              "      fill: #1967D2;\n",
              "      height: 32px;\n",
              "      padding: 0 0 0 0;\n",
              "      width: 32px;\n",
              "    }\n",
              "\n",
              "    .colab-df-convert:hover {\n",
              "      background-color: #E2EBFA;\n",
              "      box-shadow: 0px 1px 2px rgba(60, 64, 67, 0.3), 0px 1px 3px 1px rgba(60, 64, 67, 0.15);\n",
              "      fill: #174EA6;\n",
              "    }\n",
              "\n",
              "    [theme=dark] .colab-df-convert {\n",
              "      background-color: #3B4455;\n",
              "      fill: #D2E3FC;\n",
              "    }\n",
              "\n",
              "    [theme=dark] .colab-df-convert:hover {\n",
              "      background-color: #434B5C;\n",
              "      box-shadow: 0px 1px 3px 1px rgba(0, 0, 0, 0.15);\n",
              "      filter: drop-shadow(0px 1px 2px rgba(0, 0, 0, 0.3));\n",
              "      fill: #FFFFFF;\n",
              "    }\n",
              "  </style>\n",
              "\n",
              "      <script>\n",
              "        const buttonEl =\n",
              "          document.querySelector('#df-1af48a6d-d443-4c66-bb89-e568ef181fdc button.colab-df-convert');\n",
              "        buttonEl.style.display =\n",
              "          google.colab.kernel.accessAllowed ? 'block' : 'none';\n",
              "\n",
              "        async function convertToInteractive(key) {\n",
              "          const element = document.querySelector('#df-1af48a6d-d443-4c66-bb89-e568ef181fdc');\n",
              "          const dataTable =\n",
              "            await google.colab.kernel.invokeFunction('convertToInteractive',\n",
              "                                                     [key], {});\n",
              "          if (!dataTable) return;\n",
              "\n",
              "          const docLinkHtml = 'Like what you see? Visit the ' +\n",
              "            '<a target=\"_blank\" href=https://colab.research.google.com/notebooks/data_table.ipynb>data table notebook</a>'\n",
              "            + ' to learn more about interactive tables.';\n",
              "          element.innerHTML = '';\n",
              "          dataTable['output_type'] = 'display_data';\n",
              "          await google.colab.output.renderOutput(dataTable, element);\n",
              "          const docLink = document.createElement('div');\n",
              "          docLink.innerHTML = docLinkHtml;\n",
              "          element.appendChild(docLink);\n",
              "        }\n",
              "      </script>\n",
              "    </div>\n",
              "  </div>\n",
              "  "
            ]
          },
          "metadata": {},
          "execution_count": 51
        }
      ]
    },
    {
      "cell_type": "code",
      "source": [
        "# Code to download file into Colaboratory:\n",
        "!pip install -U -q PyDrive\n",
        "from pydrive.auth import GoogleAuth\n",
        "from pydrive.drive import GoogleDrive\n",
        "from google.colab import auth\n",
        "from oauth2client.client import GoogleCredentials\n",
        "# Authenticate and create the PyDrive client.\n",
        "auth.authenticate_user()\n",
        "gauth = GoogleAuth()\n",
        "gauth.credentials = GoogleCredentials.get_application_default()\n",
        "drive = GoogleDrive(gauth)\n",
        "\n",
        "#get the data from the drive https://drive.google.com/file/d/1YiX2r2glQ4r1hiy7BqAkSRyGvuPqBcne/view?usp=share_link\n",
        "id = '1YiX2r2glQ4r1hiy7BqAkSRyGvuPqBcne'\n",
        "downloaded = drive.CreateFile({'id':id}) \n",
        "downloaded.GetContentFile('LINUX.zip')\n",
        "!ls\n"
      ],
      "metadata": {
        "id": "jfzq4svIer8D",
        "colab": {
          "base_uri": "https://localhost:8080/"
        },
        "outputId": "c0cd81fa-07d1-46e0-f865-37b1c74db34e"
      },
      "execution_count": null,
      "outputs": [
        {
          "output_type": "stream",
          "name": "stdout",
          "text": [
            "LINUXFull  LINUX.zip  sample_data\n"
          ]
        }
      ]
    },
    {
      "cell_type": "code",
      "source": [
        "\n",
        "!unzip /content/LINUX.zip"
      ],
      "metadata": {
        "id": "AYkVphOh09RQ"
      },
      "execution_count": null,
      "outputs": []
    },
    {
      "cell_type": "code",
      "source": [
        "import random\n",
        "import signal\n",
        "\n",
        "import os\n",
        "import random\n",
        "import matplotlib.pyplot as plt\n",
        "import networkx as nx\n",
        "import random\n",
        "import pandas as pd\n",
        "\n",
        "def handler(signum, frame):\n",
        "  print(\"Forever is over!\")\n",
        "  raise Exception(\"end of time\")\n",
        "testIndex=[]\n",
        "df = pd.DataFrame(columns = [\"G1\", \"G2\", \"gt_ged\" ])\n",
        "j=0\n",
        "optIndex=[]\n",
        "dirName='test/'\n",
        "dirNameNew='test_gen/'\n",
        "test_df=pd.read_csv('testing_pairs.csv')\n",
        "for k in range(7):\n",
        "  for i in range(10):\n",
        "    index=random.randrange(len(test_df))\n",
        "    pair_1=test_df.iloc[index]['G1']\n",
        "    graph1 = nx.read_gexf(dirName+pair_1) #updated_train\n",
        "    while len(list(graph1.nodes))>10:\n",
        "      index=random.randrange(len(test_df))\n",
        "      pair_1=test_df.iloc[index]['G1']\n",
        "      graph1 = nx.read_gexf(dirName+pair_1) #updated_train\n",
        "\n",
        "\n",
        "    index2=random.randrange(len(test_df))\n",
        "    pair_2=test_df.iloc[index2]['G1']\n",
        "    graph2 = nx.read_gexf(dirName+pair_2) #updated_train\n",
        "    while len(list(graph2.nodes))>10:\n",
        "      index2=random.randrange(len(test_df))\n",
        "      pair_2=test_df.iloc[index2]['G1']\n",
        "      graph2 = nx.read_gexf(dirName+pair_2) #updated_train\n",
        "    try:\n",
        "      signal.signal(signal.SIGALRM, handler)\n",
        "      signal.alarm(600)\n",
        "      paths, cost =nx.optimal_edit_paths(graph1,graph2)\n",
        "      gev=cost\n",
        "    except Exception : \n",
        "      print('timeout try another')\n",
        "      print('-----------------------------------------')\n",
        "      continue\n",
        "    \n",
        "    print(pair_1,'  ',pair_2,'  ',str(gev))\n",
        "    print('-----------------------------------------')\n",
        "    new_row = pd.Series({\"G1\":pair_1, \"G2\":pair_2, \"gt_ged\":gev })\n",
        "    df.loc[j] = new_row\n",
        "    j=j+1\n",
        "\n",
        "  df.to_csv(str(k)+'OptData.csv',index = False) \n",
        "  print('export csv')"
      ],
      "metadata": {
        "colab": {
          "base_uri": "https://localhost:8080/"
        },
        "id": "ZYpfAsbd1rYI",
        "outputId": "f2f35287-d9ca-4579-cfdd-0b2d7f87f52f"
      },
      "execution_count": null,
      "outputs": [
        {
          "output_type": "stream",
          "name": "stdout",
          "text": [
            "01096.gexf    00188.gexf    11.0\n",
            "-----------------------------------------\n",
            "00198.gexf    00710.gexf    0.0\n",
            "-----------------------------------------\n",
            "00732.gexf    00540.gexf    10.0\n",
            "-----------------------------------------\n",
            "00476.gexf    00975.gexf    4.0\n",
            "-----------------------------------------\n",
            "01096.gexf    01096.gexf    0.0\n",
            "-----------------------------------------\n",
            "00975.gexf    00073.gexf    4.0\n",
            "-----------------------------------------\n",
            "00338.gexf    01102.gexf    4.0\n",
            "-----------------------------------------\n",
            "01296.gexf    01772.gexf    4.0\n",
            "-----------------------------------------\n",
            "00619.gexf    00819.gexf    7.0\n",
            "-----------------------------------------\n",
            "01195.gexf    01121.gexf    4.0\n",
            "-----------------------------------------\n",
            "export csv\n",
            "00476.gexf    02140.gexf    4.0\n",
            "-----------------------------------------\n",
            "02024.gexf    00104.gexf    8.0\n",
            "-----------------------------------------\n",
            "00449.gexf    01285.gexf    4.0\n",
            "-----------------------------------------\n",
            "00188.gexf    01133.gexf    5.0\n",
            "-----------------------------------------\n",
            "01854.gexf    00518.gexf    4.0\n",
            "-----------------------------------------\n",
            "01160.gexf    01295.gexf    4.0\n",
            "-----------------------------------------\n",
            "01296.gexf    00819.gexf    4.0\n",
            "-----------------------------------------\n",
            "00476.gexf    01121.gexf    4.0\n",
            "-----------------------------------------\n",
            "01774.gexf    00732.gexf    2.0\n",
            "-----------------------------------------\n",
            "00290.gexf    00338.gexf    2.0\n",
            "-----------------------------------------\n",
            "export csv\n",
            "01121.gexf    01324.gexf    5.0\n",
            "-----------------------------------------\n",
            "00104.gexf    00170.gexf    7.0\n",
            "-----------------------------------------\n",
            "01150.gexf    00337.gexf    2.0\n",
            "-----------------------------------------\n",
            "00710.gexf    00449.gexf    3.0\n",
            "-----------------------------------------\n",
            "00383.gexf    00518.gexf    2.0\n",
            "-----------------------------------------\n",
            "01295.gexf    01324.gexf    2.0\n",
            "-----------------------------------------\n",
            "00508.gexf    01160.gexf    4.0\n",
            "-----------------------------------------\n",
            "02022.gexf    01854.gexf    4.0\n",
            "-----------------------------------------\n",
            "01392.gexf    01295.gexf    6.0\n",
            "-----------------------------------------\n",
            "01016.gexf    01195.gexf    6.0\n",
            "-----------------------------------------\n",
            "export csv\n",
            "00130.gexf    01285.gexf    7.0\n",
            "-----------------------------------------\n",
            "00039.gexf    00248.gexf    5.0\n",
            "-----------------------------------------\n",
            "00619.gexf    01150.gexf    3.0\n",
            "-----------------------------------------\n",
            "00508.gexf    01392.gexf    10.0\n",
            "-----------------------------------------\n",
            "00710.gexf    01295.gexf    4.0\n",
            "-----------------------------------------\n",
            "01836.gexf    01285.gexf    4.0\n",
            "-----------------------------------------\n",
            "01195.gexf    01121.gexf    4.0\n",
            "-----------------------------------------\n",
            "01121.gexf    00975.gexf    0.0\n",
            "-----------------------------------------\n",
            "00073.gexf    01392.gexf    3.0\n",
            "-----------------------------------------\n",
            "00338.gexf    00710.gexf    1.0\n",
            "-----------------------------------------\n",
            "export csv\n",
            "00130.gexf    00073.gexf    9.0\n",
            "-----------------------------------------\n",
            "01133.gexf    02140.gexf    4.0\n",
            "-----------------------------------------\n",
            "02024.gexf    00518.gexf    3.0\n",
            "-----------------------------------------\n",
            "01854.gexf    01774.gexf    4.0\n",
            "-----------------------------------------\n",
            "02024.gexf    00518.gexf    3.0\n",
            "-----------------------------------------\n",
            "01285.gexf    00224.gexf    7.0\n",
            "-----------------------------------------\n",
            "01150.gexf    00039.gexf    7.0\n",
            "-----------------------------------------\n",
            "01392.gexf    01285.gexf    3.0\n",
            "-----------------------------------------\n",
            "00476.gexf    00188.gexf    5.0\n",
            "-----------------------------------------\n",
            "01392.gexf    00518.gexf    3.0\n",
            "-----------------------------------------\n",
            "export csv\n",
            "01324.gexf    02066.gexf    3.0\n",
            "-----------------------------------------\n",
            "00975.gexf    00073.gexf    4.0\n",
            "-----------------------------------------\n",
            "01772.gexf    00337.gexf    4.0\n",
            "-----------------------------------------\n",
            "00170.gexf    00290.gexf    6.0\n",
            "-----------------------------------------\n",
            "01713.gexf    00479.gexf    9.0\n",
            "-----------------------------------------\n",
            "00338.gexf    02140.gexf    4.0\n",
            "-----------------------------------------\n",
            "00170.gexf    01015.gexf    4.0\n",
            "-----------------------------------------\n",
            "01296.gexf    00073.gexf    4.0\n",
            "-----------------------------------------\n",
            "00819.gexf    02022.gexf    2.0\n",
            "-----------------------------------------\n",
            "01324.gexf    01102.gexf    7.0\n",
            "-----------------------------------------\n",
            "export csv\n",
            "00449.gexf    01096.gexf    8.0\n",
            "-----------------------------------------\n",
            "00449.gexf    00383.gexf    6.0\n",
            "-----------------------------------------\n",
            "00819.gexf    02140.gexf    8.0\n",
            "-----------------------------------------\n",
            "01295.gexf    00248.gexf    3.0\n",
            "-----------------------------------------\n",
            "00170.gexf    00619.gexf    5.0\n",
            "-----------------------------------------\n",
            "01015.gexf    00224.gexf    5.0\n",
            "-----------------------------------------\n",
            "01160.gexf    01150.gexf    5.0\n",
            "-----------------------------------------\n",
            "01102.gexf    00248.gexf    4.0\n",
            "-----------------------------------------\n",
            "01295.gexf    02066.gexf    5.0\n",
            "-----------------------------------------\n",
            "00508.gexf    00198.gexf    4.0\n",
            "-----------------------------------------\n",
            "export csv\n"
          ]
        }
      ]
    },
    {
      "cell_type": "code",
      "source": [
        "\n",
        "\n",
        "df.to_csv('OptData.csv',index = False) \n",
        "print('OptData.csv')"
      ],
      "metadata": {
        "colab": {
          "base_uri": "https://localhost:8080/"
        },
        "id": "MkHpJyH-KJrf",
        "outputId": "f3b49fa5-394d-4a61-b577-4a2b2ad10bed"
      },
      "execution_count": null,
      "outputs": [
        {
          "output_type": "stream",
          "name": "stdout",
          "text": [
            "OptData.csv\n"
          ]
        }
      ]
    },
    {
      "cell_type": "code",
      "source": [
        "signal.alarm(0)"
      ],
      "metadata": {
        "id": "FyV9jgQ5fjQX"
      },
      "execution_count": null,
      "outputs": []
    },
    {
      "cell_type": "code",
      "source": [
        "dirName='LINUX/test/'\n",
        "import networkx as nx\n",
        "graph1 = nx.read_gexf(dirName+'00010.gexf') #updated_train\n",
        "graph2 = nx.read_gexf(dirNameNew+'00010_NR_0_NID_4_ER_0_EID_4.gexf') #updated_train\n",
        "x=nx.optimize_graph_edit_distance(graph1,graph2)\n",
        "\n",
        "for v in x:\n",
        "  gev=v\n",
        "print(gev)"
      ],
      "metadata": {
        "colab": {
          "base_uri": "https://localhost:8080/",
          "height": 395
        },
        "id": "0VHuzdpF3Mzx",
        "outputId": "be6c1bbe-7851-4497-d462-a4a2d6242f06"
      },
      "execution_count": null,
      "outputs": [
        {
          "output_type": "error",
          "ename": "KeyboardInterrupt",
          "evalue": "ignored",
          "traceback": [
            "\u001b[0;31m---------------------------------------------------------------------------\u001b[0m",
            "\u001b[0;31mKeyboardInterrupt\u001b[0m                         Traceback (most recent call last)",
            "\u001b[0;32m<ipython-input-50-e3a7c00d7465>\u001b[0m in \u001b[0;36m<module>\u001b[0;34m\u001b[0m\n\u001b[1;32m      5\u001b[0m \u001b[0mx\u001b[0m\u001b[0;34m=\u001b[0m\u001b[0mnx\u001b[0m\u001b[0;34m.\u001b[0m\u001b[0moptimize_graph_edit_distance\u001b[0m\u001b[0;34m(\u001b[0m\u001b[0mgraph1\u001b[0m\u001b[0;34m,\u001b[0m\u001b[0mgraph2\u001b[0m\u001b[0;34m)\u001b[0m\u001b[0;34m\u001b[0m\u001b[0;34m\u001b[0m\u001b[0m\n\u001b[1;32m      6\u001b[0m \u001b[0;34m\u001b[0m\u001b[0m\n\u001b[0;32m----> 7\u001b[0;31m \u001b[0;32mfor\u001b[0m \u001b[0mv\u001b[0m \u001b[0;32min\u001b[0m \u001b[0mx\u001b[0m\u001b[0;34m:\u001b[0m\u001b[0;34m\u001b[0m\u001b[0;34m\u001b[0m\u001b[0m\n\u001b[0m\u001b[1;32m      8\u001b[0m   \u001b[0mgev\u001b[0m\u001b[0;34m=\u001b[0m\u001b[0mv\u001b[0m\u001b[0;34m\u001b[0m\u001b[0;34m\u001b[0m\u001b[0m\n\u001b[1;32m      9\u001b[0m \u001b[0mprint\u001b[0m\u001b[0;34m(\u001b[0m\u001b[0mgev\u001b[0m\u001b[0;34m)\u001b[0m\u001b[0;34m\u001b[0m\u001b[0;34m\u001b[0m\u001b[0m\n",
            "\u001b[0;32m/usr/local/lib/python3.7/dist-packages/networkx/algorithms/similarity.py\u001b[0m in \u001b[0;36moptimize_graph_edit_distance\u001b[0;34m(G1, G2, node_match, edge_match, node_subst_cost, node_del_cost, node_ins_cost, edge_subst_cost, edge_del_cost, edge_ins_cost, upper_bound)\u001b[0m\n\u001b[1;32m    516\u001b[0m         \u001b[0medge_ins_cost\u001b[0m\u001b[0;34m,\u001b[0m\u001b[0;34m\u001b[0m\u001b[0;34m\u001b[0m\u001b[0m\n\u001b[1;32m    517\u001b[0m         \u001b[0mupper_bound\u001b[0m\u001b[0;34m,\u001b[0m\u001b[0;34m\u001b[0m\u001b[0;34m\u001b[0m\u001b[0m\n\u001b[0;32m--> 518\u001b[0;31m         \u001b[0;32mTrue\u001b[0m\u001b[0;34m,\u001b[0m\u001b[0;34m\u001b[0m\u001b[0;34m\u001b[0m\u001b[0m\n\u001b[0m\u001b[1;32m    519\u001b[0m     ):\n\u001b[1;32m    520\u001b[0m         \u001b[0;32myield\u001b[0m \u001b[0mcost\u001b[0m\u001b[0;34m\u001b[0m\u001b[0;34m\u001b[0m\u001b[0m\n",
            "\u001b[0;32m/usr/local/lib/python3.7/dist-packages/networkx/algorithms/similarity.py\u001b[0m in \u001b[0;36moptimize_edit_paths\u001b[0;34m(G1, G2, node_match, edge_match, node_subst_cost, node_del_cost, node_ins_cost, edge_subst_cost, edge_del_cost, edge_ins_cost, upper_bound, strictly_decreasing, roots, timeout)\u001b[0m\n\u001b[1;32m   1186\u001b[0m \u001b[0;34m\u001b[0m\u001b[0m\n\u001b[1;32m   1187\u001b[0m     for vertex_path, edge_path, cost in get_edit_paths(\n\u001b[0;32m-> 1188\u001b[0;31m         \u001b[0mdone_uv\u001b[0m\u001b[0;34m,\u001b[0m \u001b[0mpending_u\u001b[0m\u001b[0;34m,\u001b[0m \u001b[0mpending_v\u001b[0m\u001b[0;34m,\u001b[0m \u001b[0mCv\u001b[0m\u001b[0;34m,\u001b[0m \u001b[0;34m[\u001b[0m\u001b[0;34m]\u001b[0m\u001b[0;34m,\u001b[0m \u001b[0mpending_g\u001b[0m\u001b[0;34m,\u001b[0m \u001b[0mpending_h\u001b[0m\u001b[0;34m,\u001b[0m \u001b[0mCe\u001b[0m\u001b[0;34m,\u001b[0m \u001b[0minitial_cost\u001b[0m\u001b[0;34m\u001b[0m\u001b[0;34m\u001b[0m\u001b[0m\n\u001b[0m\u001b[1;32m   1189\u001b[0m     ):\n\u001b[1;32m   1190\u001b[0m         \u001b[0;31m# assert sorted(G1.nodes) == sorted(u for u, v in vertex_path if u is not None)\u001b[0m\u001b[0;34m\u001b[0m\u001b[0;34m\u001b[0m\u001b[0;34m\u001b[0m\u001b[0m\n",
            "\u001b[0;32m/usr/local/lib/python3.7/dist-packages/networkx/algorithms/similarity.py\u001b[0m in \u001b[0;36mget_edit_paths\u001b[0;34m(matched_uv, pending_u, pending_v, Cv, matched_gh, pending_g, pending_h, Ce, matched_cost)\u001b[0m\n\u001b[1;32m   1025\u001b[0m                     \u001b[0mpending_h\u001b[0m\u001b[0;34m,\u001b[0m\u001b[0;34m\u001b[0m\u001b[0;34m\u001b[0m\u001b[0m\n\u001b[1;32m   1026\u001b[0m                     \u001b[0mCe_xy\u001b[0m\u001b[0;34m,\u001b[0m\u001b[0;34m\u001b[0m\u001b[0;34m\u001b[0m\u001b[0m\n\u001b[0;32m-> 1027\u001b[0;31m                     \u001b[0mmatched_cost\u001b[0m \u001b[0;34m+\u001b[0m \u001b[0medit_cost\u001b[0m\u001b[0;34m,\u001b[0m\u001b[0;34m\u001b[0m\u001b[0;34m\u001b[0m\u001b[0m\n\u001b[0m\u001b[1;32m   1028\u001b[0m                 )\n\u001b[1;32m   1029\u001b[0m \u001b[0;34m\u001b[0m\u001b[0m\n",
            "\u001b[0;32m/usr/local/lib/python3.7/dist-packages/networkx/algorithms/similarity.py\u001b[0m in \u001b[0;36mget_edit_paths\u001b[0;34m(matched_uv, pending_u, pending_v, Cv, matched_gh, pending_g, pending_h, Ce, matched_cost)\u001b[0m\n\u001b[1;32m   1025\u001b[0m                     \u001b[0mpending_h\u001b[0m\u001b[0;34m,\u001b[0m\u001b[0;34m\u001b[0m\u001b[0;34m\u001b[0m\u001b[0m\n\u001b[1;32m   1026\u001b[0m                     \u001b[0mCe_xy\u001b[0m\u001b[0;34m,\u001b[0m\u001b[0;34m\u001b[0m\u001b[0;34m\u001b[0m\u001b[0m\n\u001b[0;32m-> 1027\u001b[0;31m                     \u001b[0mmatched_cost\u001b[0m \u001b[0;34m+\u001b[0m \u001b[0medit_cost\u001b[0m\u001b[0;34m,\u001b[0m\u001b[0;34m\u001b[0m\u001b[0;34m\u001b[0m\u001b[0m\n\u001b[0m\u001b[1;32m   1028\u001b[0m                 )\n\u001b[1;32m   1029\u001b[0m \u001b[0;34m\u001b[0m\u001b[0m\n",
            "\u001b[0;32m/usr/local/lib/python3.7/dist-packages/networkx/algorithms/similarity.py\u001b[0m in \u001b[0;36mget_edit_paths\u001b[0;34m(matched_uv, pending_u, pending_v, Cv, matched_gh, pending_g, pending_h, Ce, matched_cost)\u001b[0m\n\u001b[1;32m   1025\u001b[0m                     \u001b[0mpending_h\u001b[0m\u001b[0;34m,\u001b[0m\u001b[0;34m\u001b[0m\u001b[0;34m\u001b[0m\u001b[0m\n\u001b[1;32m   1026\u001b[0m                     \u001b[0mCe_xy\u001b[0m\u001b[0;34m,\u001b[0m\u001b[0;34m\u001b[0m\u001b[0;34m\u001b[0m\u001b[0m\n\u001b[0;32m-> 1027\u001b[0;31m                     \u001b[0mmatched_cost\u001b[0m \u001b[0;34m+\u001b[0m \u001b[0medit_cost\u001b[0m\u001b[0;34m,\u001b[0m\u001b[0;34m\u001b[0m\u001b[0;34m\u001b[0m\u001b[0m\n\u001b[0m\u001b[1;32m   1028\u001b[0m                 )\n\u001b[1;32m   1029\u001b[0m \u001b[0;34m\u001b[0m\u001b[0m\n",
            "\u001b[0;32m/usr/local/lib/python3.7/dist-packages/networkx/algorithms/similarity.py\u001b[0m in \u001b[0;36mget_edit_paths\u001b[0;34m(matched_uv, pending_u, pending_v, Cv, matched_gh, pending_g, pending_h, Ce, matched_cost)\u001b[0m\n\u001b[1;32m   1025\u001b[0m                     \u001b[0mpending_h\u001b[0m\u001b[0;34m,\u001b[0m\u001b[0;34m\u001b[0m\u001b[0;34m\u001b[0m\u001b[0m\n\u001b[1;32m   1026\u001b[0m                     \u001b[0mCe_xy\u001b[0m\u001b[0;34m,\u001b[0m\u001b[0;34m\u001b[0m\u001b[0;34m\u001b[0m\u001b[0m\n\u001b[0;32m-> 1027\u001b[0;31m                     \u001b[0mmatched_cost\u001b[0m \u001b[0;34m+\u001b[0m \u001b[0medit_cost\u001b[0m\u001b[0;34m,\u001b[0m\u001b[0;34m\u001b[0m\u001b[0;34m\u001b[0m\u001b[0m\n\u001b[0m\u001b[1;32m   1028\u001b[0m                 )\n\u001b[1;32m   1029\u001b[0m \u001b[0;34m\u001b[0m\u001b[0m\n",
            "\u001b[0;32m/usr/local/lib/python3.7/dist-packages/networkx/algorithms/similarity.py\u001b[0m in \u001b[0;36mget_edit_paths\u001b[0;34m(matched_uv, pending_u, pending_v, Cv, matched_gh, pending_g, pending_h, Ce, matched_cost)\u001b[0m\n\u001b[1;32m   1025\u001b[0m                     \u001b[0mpending_h\u001b[0m\u001b[0;34m,\u001b[0m\u001b[0;34m\u001b[0m\u001b[0;34m\u001b[0m\u001b[0m\n\u001b[1;32m   1026\u001b[0m                     \u001b[0mCe_xy\u001b[0m\u001b[0;34m,\u001b[0m\u001b[0;34m\u001b[0m\u001b[0;34m\u001b[0m\u001b[0m\n\u001b[0;32m-> 1027\u001b[0;31m                     \u001b[0mmatched_cost\u001b[0m \u001b[0;34m+\u001b[0m \u001b[0medit_cost\u001b[0m\u001b[0;34m,\u001b[0m\u001b[0;34m\u001b[0m\u001b[0;34m\u001b[0m\u001b[0m\n\u001b[0m\u001b[1;32m   1028\u001b[0m                 )\n\u001b[1;32m   1029\u001b[0m \u001b[0;34m\u001b[0m\u001b[0m\n",
            "\u001b[0;32m/usr/local/lib/python3.7/dist-packages/networkx/algorithms/similarity.py\u001b[0m in \u001b[0;36mget_edit_paths\u001b[0;34m(matched_uv, pending_u, pending_v, Cv, matched_gh, pending_g, pending_h, Ce, matched_cost)\u001b[0m\n\u001b[1;32m   1025\u001b[0m                     \u001b[0mpending_h\u001b[0m\u001b[0;34m,\u001b[0m\u001b[0;34m\u001b[0m\u001b[0;34m\u001b[0m\u001b[0m\n\u001b[1;32m   1026\u001b[0m                     \u001b[0mCe_xy\u001b[0m\u001b[0;34m,\u001b[0m\u001b[0;34m\u001b[0m\u001b[0;34m\u001b[0m\u001b[0m\n\u001b[0;32m-> 1027\u001b[0;31m                     \u001b[0mmatched_cost\u001b[0m \u001b[0;34m+\u001b[0m \u001b[0medit_cost\u001b[0m\u001b[0;34m,\u001b[0m\u001b[0;34m\u001b[0m\u001b[0;34m\u001b[0m\u001b[0m\n\u001b[0m\u001b[1;32m   1028\u001b[0m                 )\n\u001b[1;32m   1029\u001b[0m \u001b[0;34m\u001b[0m\u001b[0m\n",
            "\u001b[0;32m/usr/local/lib/python3.7/dist-packages/networkx/algorithms/similarity.py\u001b[0m in \u001b[0;36mget_edit_paths\u001b[0;34m(matched_uv, pending_u, pending_v, Cv, matched_gh, pending_g, pending_h, Ce, matched_cost)\u001b[0m\n\u001b[1;32m   1025\u001b[0m                     \u001b[0mpending_h\u001b[0m\u001b[0;34m,\u001b[0m\u001b[0;34m\u001b[0m\u001b[0;34m\u001b[0m\u001b[0m\n\u001b[1;32m   1026\u001b[0m                     \u001b[0mCe_xy\u001b[0m\u001b[0;34m,\u001b[0m\u001b[0;34m\u001b[0m\u001b[0;34m\u001b[0m\u001b[0m\n\u001b[0;32m-> 1027\u001b[0;31m                     \u001b[0mmatched_cost\u001b[0m \u001b[0;34m+\u001b[0m \u001b[0medit_cost\u001b[0m\u001b[0;34m,\u001b[0m\u001b[0;34m\u001b[0m\u001b[0;34m\u001b[0m\u001b[0m\n\u001b[0m\u001b[1;32m   1028\u001b[0m                 )\n\u001b[1;32m   1029\u001b[0m \u001b[0;34m\u001b[0m\u001b[0m\n",
            "\u001b[0;32m/usr/local/lib/python3.7/dist-packages/networkx/algorithms/similarity.py\u001b[0m in \u001b[0;36mget_edit_paths\u001b[0;34m(matched_uv, pending_u, pending_v, Cv, matched_gh, pending_g, pending_h, Ce, matched_cost)\u001b[0m\n\u001b[1;32m   1025\u001b[0m                     \u001b[0mpending_h\u001b[0m\u001b[0;34m,\u001b[0m\u001b[0;34m\u001b[0m\u001b[0;34m\u001b[0m\u001b[0m\n\u001b[1;32m   1026\u001b[0m                     \u001b[0mCe_xy\u001b[0m\u001b[0;34m,\u001b[0m\u001b[0;34m\u001b[0m\u001b[0;34m\u001b[0m\u001b[0m\n\u001b[0;32m-> 1027\u001b[0;31m                     \u001b[0mmatched_cost\u001b[0m \u001b[0;34m+\u001b[0m \u001b[0medit_cost\u001b[0m\u001b[0;34m,\u001b[0m\u001b[0;34m\u001b[0m\u001b[0;34m\u001b[0m\u001b[0m\n\u001b[0m\u001b[1;32m   1028\u001b[0m                 )\n\u001b[1;32m   1029\u001b[0m \u001b[0;34m\u001b[0m\u001b[0m\n",
            "\u001b[0;32m/usr/local/lib/python3.7/dist-packages/networkx/algorithms/similarity.py\u001b[0m in \u001b[0;36mget_edit_paths\u001b[0;34m(matched_uv, pending_u, pending_v, Cv, matched_gh, pending_g, pending_h, Ce, matched_cost)\u001b[0m\n\u001b[1;32m   1025\u001b[0m                     \u001b[0mpending_h\u001b[0m\u001b[0;34m,\u001b[0m\u001b[0;34m\u001b[0m\u001b[0;34m\u001b[0m\u001b[0m\n\u001b[1;32m   1026\u001b[0m                     \u001b[0mCe_xy\u001b[0m\u001b[0;34m,\u001b[0m\u001b[0;34m\u001b[0m\u001b[0;34m\u001b[0m\u001b[0m\n\u001b[0;32m-> 1027\u001b[0;31m                     \u001b[0mmatched_cost\u001b[0m \u001b[0;34m+\u001b[0m \u001b[0medit_cost\u001b[0m\u001b[0;34m,\u001b[0m\u001b[0;34m\u001b[0m\u001b[0;34m\u001b[0m\u001b[0m\n\u001b[0m\u001b[1;32m   1028\u001b[0m                 )\n\u001b[1;32m   1029\u001b[0m \u001b[0;34m\u001b[0m\u001b[0m\n",
            "\u001b[0;32m/usr/local/lib/python3.7/dist-packages/networkx/algorithms/similarity.py\u001b[0m in \u001b[0;36mget_edit_paths\u001b[0;34m(matched_uv, pending_u, pending_v, Cv, matched_gh, pending_g, pending_h, Ce, matched_cost)\u001b[0m\n\u001b[1;32m   1025\u001b[0m                     \u001b[0mpending_h\u001b[0m\u001b[0;34m,\u001b[0m\u001b[0;34m\u001b[0m\u001b[0;34m\u001b[0m\u001b[0m\n\u001b[1;32m   1026\u001b[0m                     \u001b[0mCe_xy\u001b[0m\u001b[0;34m,\u001b[0m\u001b[0;34m\u001b[0m\u001b[0;34m\u001b[0m\u001b[0m\n\u001b[0;32m-> 1027\u001b[0;31m                     \u001b[0mmatched_cost\u001b[0m \u001b[0;34m+\u001b[0m \u001b[0medit_cost\u001b[0m\u001b[0;34m,\u001b[0m\u001b[0;34m\u001b[0m\u001b[0;34m\u001b[0m\u001b[0m\n\u001b[0m\u001b[1;32m   1028\u001b[0m                 )\n\u001b[1;32m   1029\u001b[0m \u001b[0;34m\u001b[0m\u001b[0m\n",
            "\u001b[0;32m/usr/local/lib/python3.7/dist-packages/networkx/algorithms/similarity.py\u001b[0m in \u001b[0;36mget_edit_paths\u001b[0;34m(matched_uv, pending_u, pending_v, Cv, matched_gh, pending_g, pending_h, Ce, matched_cost)\u001b[0m\n\u001b[1;32m   1025\u001b[0m                     \u001b[0mpending_h\u001b[0m\u001b[0;34m,\u001b[0m\u001b[0;34m\u001b[0m\u001b[0;34m\u001b[0m\u001b[0m\n\u001b[1;32m   1026\u001b[0m                     \u001b[0mCe_xy\u001b[0m\u001b[0;34m,\u001b[0m\u001b[0;34m\u001b[0m\u001b[0;34m\u001b[0m\u001b[0m\n\u001b[0;32m-> 1027\u001b[0;31m                     \u001b[0mmatched_cost\u001b[0m \u001b[0;34m+\u001b[0m \u001b[0medit_cost\u001b[0m\u001b[0;34m,\u001b[0m\u001b[0;34m\u001b[0m\u001b[0;34m\u001b[0m\u001b[0m\n\u001b[0m\u001b[1;32m   1028\u001b[0m                 )\n\u001b[1;32m   1029\u001b[0m \u001b[0;34m\u001b[0m\u001b[0m\n",
            "\u001b[0;32m/usr/local/lib/python3.7/dist-packages/networkx/algorithms/similarity.py\u001b[0m in \u001b[0;36mget_edit_paths\u001b[0;34m(matched_uv, pending_u, pending_v, Cv, matched_gh, pending_g, pending_h, Ce, matched_cost)\u001b[0m\n\u001b[1;32m    986\u001b[0m                 \u001b[0mmatched_cost\u001b[0m\u001b[0;34m,\u001b[0m\u001b[0;34m\u001b[0m\u001b[0;34m\u001b[0m\u001b[0m\n\u001b[1;32m    987\u001b[0m             )\n\u001b[0;32m--> 988\u001b[0;31m             \u001b[0;32mfor\u001b[0m \u001b[0mij\u001b[0m\u001b[0;34m,\u001b[0m \u001b[0mCv_ij\u001b[0m\u001b[0;34m,\u001b[0m \u001b[0mxy\u001b[0m\u001b[0;34m,\u001b[0m \u001b[0mCe_xy\u001b[0m\u001b[0;34m,\u001b[0m \u001b[0medit_cost\u001b[0m \u001b[0;32min\u001b[0m \u001b[0medit_ops\u001b[0m\u001b[0;34m:\u001b[0m\u001b[0;34m\u001b[0m\u001b[0;34m\u001b[0m\u001b[0m\n\u001b[0m\u001b[1;32m    989\u001b[0m                 \u001b[0mi\u001b[0m\u001b[0;34m,\u001b[0m \u001b[0mj\u001b[0m \u001b[0;34m=\u001b[0m \u001b[0mij\u001b[0m\u001b[0;34m\u001b[0m\u001b[0;34m\u001b[0m\u001b[0m\n\u001b[1;32m    990\u001b[0m                 \u001b[0;31m# assert Cv.C[i, j] + sum(Ce.C[t] for t in xy) == edit_cost\u001b[0m\u001b[0;34m\u001b[0m\u001b[0;34m\u001b[0m\u001b[0;34m\u001b[0m\u001b[0m\n",
            "\u001b[0;32m/usr/local/lib/python3.7/dist-packages/networkx/algorithms/similarity.py\u001b[0m in \u001b[0;36mget_edit_ops\u001b[0;34m(matched_uv, pending_u, pending_v, Cv, pending_g, pending_h, Ce, matched_cost)\u001b[0m\n\u001b[1;32m    901\u001b[0m                 \u001b[0mpending_h\u001b[0m\u001b[0;34m,\u001b[0m\u001b[0;34m\u001b[0m\u001b[0;34m\u001b[0m\u001b[0m\n\u001b[1;32m    902\u001b[0m                 \u001b[0mCe\u001b[0m\u001b[0;34m,\u001b[0m\u001b[0;34m\u001b[0m\u001b[0;34m\u001b[0m\u001b[0m\n\u001b[0;32m--> 903\u001b[0;31m                 \u001b[0mmatched_uv\u001b[0m\u001b[0;34m,\u001b[0m\u001b[0;34m\u001b[0m\u001b[0;34m\u001b[0m\u001b[0m\n\u001b[0m\u001b[1;32m    904\u001b[0m             )\n\u001b[1;32m    905\u001b[0m             \u001b[0;32mif\u001b[0m \u001b[0mprune\u001b[0m\u001b[0;34m(\u001b[0m\u001b[0mmatched_cost\u001b[0m \u001b[0;34m+\u001b[0m \u001b[0mCv\u001b[0m\u001b[0;34m.\u001b[0m\u001b[0mC\u001b[0m\u001b[0;34m[\u001b[0m\u001b[0mi\u001b[0m\u001b[0;34m,\u001b[0m \u001b[0mj\u001b[0m\u001b[0;34m]\u001b[0m \u001b[0;34m+\u001b[0m \u001b[0mCv_ij\u001b[0m\u001b[0;34m.\u001b[0m\u001b[0mls\u001b[0m \u001b[0;34m+\u001b[0m \u001b[0mlocalCe\u001b[0m\u001b[0;34m.\u001b[0m\u001b[0mls\u001b[0m\u001b[0;34m)\u001b[0m\u001b[0;34m:\u001b[0m\u001b[0;34m\u001b[0m\u001b[0;34m\u001b[0m\u001b[0m\n",
            "\u001b[0;32m/usr/local/lib/python3.7/dist-packages/networkx/algorithms/similarity.py\u001b[0m in \u001b[0;36mmatch_edges\u001b[0;34m(u, v, pending_g, pending_h, Ce, matched_uv)\u001b[0m\n\u001b[1;32m    762\u001b[0m \u001b[0;34m\u001b[0m\u001b[0m\n\u001b[1;32m    763\u001b[0m         \u001b[0;32mif\u001b[0m \u001b[0mm\u001b[0m \u001b[0;32mor\u001b[0m \u001b[0mn\u001b[0m\u001b[0;34m:\u001b[0m\u001b[0;34m\u001b[0m\u001b[0;34m\u001b[0m\u001b[0m\n\u001b[0;32m--> 764\u001b[0;31m             \u001b[0mC\u001b[0m \u001b[0;34m=\u001b[0m \u001b[0mextract_C\u001b[0m\u001b[0;34m(\u001b[0m\u001b[0mCe\u001b[0m\u001b[0;34m.\u001b[0m\u001b[0mC\u001b[0m\u001b[0;34m,\u001b[0m \u001b[0mg_ind\u001b[0m\u001b[0;34m,\u001b[0m \u001b[0mh_ind\u001b[0m\u001b[0;34m,\u001b[0m \u001b[0mM\u001b[0m\u001b[0;34m,\u001b[0m \u001b[0mN\u001b[0m\u001b[0;34m)\u001b[0m\u001b[0;34m\u001b[0m\u001b[0;34m\u001b[0m\u001b[0m\n\u001b[0m\u001b[1;32m    765\u001b[0m             \u001b[0;31m# assert C.shape == (m + n, m + n)\u001b[0m\u001b[0;34m\u001b[0m\u001b[0;34m\u001b[0m\u001b[0;34m\u001b[0m\u001b[0m\n\u001b[1;32m    766\u001b[0m \u001b[0;34m\u001b[0m\u001b[0m\n",
            "\u001b[0;32m/usr/local/lib/python3.7/dist-packages/networkx/algorithms/similarity.py\u001b[0m in \u001b[0;36mextract_C\u001b[0;34m(C, i, j, m, n)\u001b[0m\n\u001b[1;32m    710\u001b[0m         \u001b[0mrow_ind\u001b[0m \u001b[0;34m=\u001b[0m \u001b[0;34m[\u001b[0m\u001b[0mk\u001b[0m \u001b[0;32min\u001b[0m \u001b[0mi\u001b[0m \u001b[0;32mor\u001b[0m \u001b[0mk\u001b[0m \u001b[0;34m-\u001b[0m \u001b[0mm\u001b[0m \u001b[0;32min\u001b[0m \u001b[0mj\u001b[0m \u001b[0;32mfor\u001b[0m \u001b[0mk\u001b[0m \u001b[0;32min\u001b[0m \u001b[0mrange\u001b[0m\u001b[0;34m(\u001b[0m\u001b[0mm\u001b[0m \u001b[0;34m+\u001b[0m \u001b[0mn\u001b[0m\u001b[0;34m)\u001b[0m\u001b[0;34m]\u001b[0m\u001b[0;34m\u001b[0m\u001b[0;34m\u001b[0m\u001b[0m\n\u001b[1;32m    711\u001b[0m         \u001b[0mcol_ind\u001b[0m \u001b[0;34m=\u001b[0m \u001b[0;34m[\u001b[0m\u001b[0mk\u001b[0m \u001b[0;32min\u001b[0m \u001b[0mj\u001b[0m \u001b[0;32mor\u001b[0m \u001b[0mk\u001b[0m \u001b[0;34m-\u001b[0m \u001b[0mn\u001b[0m \u001b[0;32min\u001b[0m \u001b[0mi\u001b[0m \u001b[0;32mfor\u001b[0m \u001b[0mk\u001b[0m \u001b[0;32min\u001b[0m \u001b[0mrange\u001b[0m\u001b[0;34m(\u001b[0m\u001b[0mm\u001b[0m \u001b[0;34m+\u001b[0m \u001b[0mn\u001b[0m\u001b[0;34m)\u001b[0m\u001b[0;34m]\u001b[0m\u001b[0;34m\u001b[0m\u001b[0;34m\u001b[0m\u001b[0m\n\u001b[0;32m--> 712\u001b[0;31m         \u001b[0;32mreturn\u001b[0m \u001b[0mC\u001b[0m\u001b[0;34m[\u001b[0m\u001b[0mrow_ind\u001b[0m\u001b[0;34m,\u001b[0m \u001b[0;34m:\u001b[0m\u001b[0;34m]\u001b[0m\u001b[0;34m[\u001b[0m\u001b[0;34m:\u001b[0m\u001b[0;34m,\u001b[0m \u001b[0mcol_ind\u001b[0m\u001b[0;34m]\u001b[0m\u001b[0;34m\u001b[0m\u001b[0;34m\u001b[0m\u001b[0m\n\u001b[0m\u001b[1;32m    713\u001b[0m \u001b[0;34m\u001b[0m\u001b[0m\n\u001b[1;32m    714\u001b[0m     \u001b[0;32mdef\u001b[0m \u001b[0mreduce_C\u001b[0m\u001b[0;34m(\u001b[0m\u001b[0mC\u001b[0m\u001b[0;34m,\u001b[0m \u001b[0mi\u001b[0m\u001b[0;34m,\u001b[0m \u001b[0mj\u001b[0m\u001b[0;34m,\u001b[0m \u001b[0mm\u001b[0m\u001b[0;34m,\u001b[0m \u001b[0mn\u001b[0m\u001b[0;34m)\u001b[0m\u001b[0;34m:\u001b[0m\u001b[0;34m\u001b[0m\u001b[0;34m\u001b[0m\u001b[0m\n",
            "\u001b[0;31mKeyboardInterrupt\u001b[0m: "
          ]
        }
      ]
    },
    {
      "cell_type": "code",
      "source": [
        "\n",
        "draw_graph(graph1)"
      ],
      "metadata": {
        "colab": {
          "base_uri": "https://localhost:8080/",
          "height": 248
        },
        "id": "FNjF_lp333Y9",
        "outputId": "673b73ec-6978-460f-dd3b-fd762e5e4802"
      },
      "execution_count": null,
      "outputs": [
        {
          "output_type": "display_data",
          "data": {
            "text/plain": [
              "<Figure size 432x288 with 1 Axes>"
            ],
            "image/png": "[encoded data removed]"
          },
          "metadata": {}
        }
      ]
    },
    {
      "cell_type": "code",
      "source": [
        "dirName='train/'\n",
        "graph2 = nx.read_gexf(dirName+'10124.gexf') #updated_train\n",
        "draw_graph(graph2)"
      ],
      "metadata": {
        "colab": {
          "base_uri": "https://localhost:8080/",
          "height": 248
        },
        "id": "7-umlfNj33d-",
        "outputId": "4f1a3552-c37e-4379-b42a-f01c25636627"
      },
      "execution_count": null,
      "outputs": [
        {
          "output_type": "display_data",
          "data": {
            "text/plain": [
              "<Figure size 432x288 with 1 Axes>"
            ],
            "image/png": "[encoded data removed]"
          },
          "metadata": {}
        }
      ]
    },
    {
      "cell_type": "code",
      "source": [
        "test_df"
      ],
      "metadata": {
        "colab": {
          "base_uri": "https://localhost:8080/",
          "height": 424
        },
        "id": "pH4DH_Wv7tPs",
        "outputId": "ac324db8-e694-44b6-e483-704f3857e3cb"
      },
      "execution_count": null,
      "outputs": [
        {
          "output_type": "execute_result",
          "data": {
            "text/plain": [
              "     index    oldGraph        newGraph  GEVSum  NR  NID  ER  EID  networkX_DEG\n",
              "0        0   4488.gexf   4488_new.gexf       8   0    2   0    6             0\n",
              "1        1  29272.gexf  29272_new.gexf       8   0    7   0    1             0\n",
              "2        2    382.gexf    382_new.gexf       8   0    1   0    7             5\n",
              "3        3  21659.gexf  21659_new.gexf       8   0    3   0    5             0\n",
              "4        4  24295.gexf  24295_new.gexf       8   0    4   0    4             0\n",
              "..     ...         ...             ...     ...  ..  ...  ..  ...           ...\n",
              "195    195  28948.gexf  28948_new.gexf       8   0    5   0    3             0\n",
              "196    196  27028.gexf  27028_new.gexf       8   0    5   0    3             8\n",
              "197    197  43642.gexf  43642_new.gexf       8   0    5   0    3             8\n",
              "198    198  39541.gexf  39541_new.gexf       8   0    2   0    6             0\n",
              "199    199  18266.gexf  18266_new.gexf       8   0    1   0    7             0\n",
              "\n",
              "[200 rows x 9 columns]"
            ],
            "text/html": [
              "\n",
              "  <div id=\"df-49c78432-9556-4693-a5d4-7f457505e85b\">\n",
              "    <div class=\"colab-df-container\">\n",
              "      <div>\n",
              "<style scoped>\n",
              "    .dataframe tbody tr th:only-of-type {\n",
              "        vertical-align: middle;\n",
              "    }\n",
              "\n",
              "    .dataframe tbody tr th {\n",
              "        vertical-align: top;\n",
              "    }\n",
              "\n",
              "    .dataframe thead th {\n",
              "        text-align: right;\n",
              "    }\n",
              "</style>\n",
              "<table border=\"1\" class=\"dataframe\">\n",
              "  <thead>\n",
              "    <tr style=\"text-align: right;\">\n",
              "      <th></th>\n",
              "      <th>index</th>\n",
              "      <th>oldGraph</th>\n",
              "      <th>newGraph</th>\n",
              "      <th>GEVSum</th>\n",
              "      <th>NR</th>\n",
              "      <th>NID</th>\n",
              "      <th>ER</th>\n",
              "      <th>EID</th>\n",
              "      <th>networkX_DEG</th>\n",
              "    </tr>\n",
              "  </thead>\n",
              "  <tbody>\n",
              "    <tr>\n",
              "      <th>0</th>\n",
              "      <td>0</td>\n",
              "      <td>4488.gexf</td>\n",
              "      <td>4488_new.gexf</td>\n",
              "      <td>8</td>\n",
              "      <td>0</td>\n",
              "      <td>2</td>\n",
              "      <td>0</td>\n",
              "      <td>6</td>\n",
              "      <td>0</td>\n",
              "    </tr>\n",
              "    <tr>\n",
              "      <th>1</th>\n",
              "      <td>1</td>\n",
              "      <td>29272.gexf</td>\n",
              "      <td>29272_new.gexf</td>\n",
              "      <td>8</td>\n",
              "      <td>0</td>\n",
              "      <td>7</td>\n",
              "      <td>0</td>\n",
              "      <td>1</td>\n",
              "      <td>0</td>\n",
              "    </tr>\n",
              "    <tr>\n",
              "      <th>2</th>\n",
              "      <td>2</td>\n",
              "      <td>382.gexf</td>\n",
              "      <td>382_new.gexf</td>\n",
              "      <td>8</td>\n",
              "      <td>0</td>\n",
              "      <td>1</td>\n",
              "      <td>0</td>\n",
              "      <td>7</td>\n",
              "      <td>5</td>\n",
              "    </tr>\n",
              "    <tr>\n",
              "      <th>3</th>\n",
              "      <td>3</td>\n",
              "      <td>21659.gexf</td>\n",
              "      <td>21659_new.gexf</td>\n",
              "      <td>8</td>\n",
              "      <td>0</td>\n",
              "      <td>3</td>\n",
              "      <td>0</td>\n",
              "      <td>5</td>\n",
              "      <td>0</td>\n",
              "    </tr>\n",
              "    <tr>\n",
              "      <th>4</th>\n",
              "      <td>4</td>\n",
              "      <td>24295.gexf</td>\n",
              "      <td>24295_new.gexf</td>\n",
              "      <td>8</td>\n",
              "      <td>0</td>\n",
              "      <td>4</td>\n",
              "      <td>0</td>\n",
              "      <td>4</td>\n",
              "      <td>0</td>\n",
              "    </tr>\n",
              "    <tr>\n",
              "      <th>...</th>\n",
              "      <td>...</td>\n",
              "      <td>...</td>\n",
              "      <td>...</td>\n",
              "      <td>...</td>\n",
              "      <td>...</td>\n",
              "      <td>...</td>\n",
              "      <td>...</td>\n",
              "      <td>...</td>\n",
              "      <td>...</td>\n",
              "    </tr>\n",
              "    <tr>\n",
              "      <th>195</th>\n",
              "      <td>195</td>\n",
              "      <td>28948.gexf</td>\n",
              "      <td>28948_new.gexf</td>\n",
              "      <td>8</td>\n",
              "      <td>0</td>\n",
              "      <td>5</td>\n",
              "      <td>0</td>\n",
              "      <td>3</td>\n",
              "      <td>0</td>\n",
              "    </tr>\n",
              "    <tr>\n",
              "      <th>196</th>\n",
              "      <td>196</td>\n",
              "      <td>27028.gexf</td>\n",
              "      <td>27028_new.gexf</td>\n",
              "      <td>8</td>\n",
              "      <td>0</td>\n",
              "      <td>5</td>\n",
              "      <td>0</td>\n",
              "      <td>3</td>\n",
              "      <td>8</td>\n",
              "    </tr>\n",
              "    <tr>\n",
              "      <th>197</th>\n",
              "      <td>197</td>\n",
              "      <td>43642.gexf</td>\n",
              "      <td>43642_new.gexf</td>\n",
              "      <td>8</td>\n",
              "      <td>0</td>\n",
              "      <td>5</td>\n",
              "      <td>0</td>\n",
              "      <td>3</td>\n",
              "      <td>8</td>\n",
              "    </tr>\n",
              "    <tr>\n",
              "      <th>198</th>\n",
              "      <td>198</td>\n",
              "      <td>39541.gexf</td>\n",
              "      <td>39541_new.gexf</td>\n",
              "      <td>8</td>\n",
              "      <td>0</td>\n",
              "      <td>2</td>\n",
              "      <td>0</td>\n",
              "      <td>6</td>\n",
              "      <td>0</td>\n",
              "    </tr>\n",
              "    <tr>\n",
              "      <th>199</th>\n",
              "      <td>199</td>\n",
              "      <td>18266.gexf</td>\n",
              "      <td>18266_new.gexf</td>\n",
              "      <td>8</td>\n",
              "      <td>0</td>\n",
              "      <td>1</td>\n",
              "      <td>0</td>\n",
              "      <td>7</td>\n",
              "      <td>0</td>\n",
              "    </tr>\n",
              "  </tbody>\n",
              "</table>\n",
              "<p>200 rows × 9 columns</p>\n",
              "</div>\n",
              "      <button class=\"colab-df-convert\" onclick=\"convertToInteractive('df-49c78432-9556-4693-a5d4-7f457505e85b')\"\n",
              "              title=\"Convert this dataframe to an interactive table.\"\n",
              "              style=\"display:none;\">\n",
              "        \n",
              "  <svg xmlns=\"http://www.w3.org/2000/svg\" height=\"24px\"viewBox=\"0 0 24 24\"\n",
              "       width=\"24px\">\n",
              "    <path d=\"M0 0h24v24H0V0z\" fill=\"none\"/>\n",
              "    <path d=\"M18.56 5.44l.94 2.06.94-2.06 2.06-.94-2.06-.94-.94-2.06-.94 2.06-2.06.94zm-11 1L8.5 8.5l.94-2.06 2.06-.94-2.06-.94L8.5 2.5l-.94 2.06-2.06.94zm10 10l.94 2.06.94-2.06 2.06-.94-2.06-.94-.94-2.06-.94 2.06-2.06.94z\"/><path d=\"M17.41 7.96l-1.37-1.37c-.4-.4-.92-.59-1.43-.59-.52 0-1.04.2-1.43.59L10.3 9.45l-7.72 7.72c-.78.78-.78 2.05 0 2.83L4 21.41c.39.39.9.59 1.41.59.51 0 1.02-.2 1.41-.59l7.78-7.78 2.81-2.81c.8-.78.8-2.07 0-2.86zM5.41 20L4 18.59l7.72-7.72 1.47 1.35L5.41 20z\"/>\n",
              "  </svg>\n",
              "      </button>\n",
              "      \n",
              "  <style>\n",
              "    .colab-df-container {\n",
              "      display:flex;\n",
              "      flex-wrap:wrap;\n",
              "      gap: 12px;\n",
              "    }\n",
              "\n",
              "    .colab-df-convert {\n",
              "      background-color: #E8F0FE;\n",
              "      border: none;\n",
              "      border-radius: 50%;\n",
              "      cursor: pointer;\n",
              "      display: none;\n",
              "      fill: #1967D2;\n",
              "      height: 32px;\n",
              "      padding: 0 0 0 0;\n",
              "      width: 32px;\n",
              "    }\n",
              "\n",
              "    .colab-df-convert:hover {\n",
              "      background-color: #E2EBFA;\n",
              "      box-shadow: 0px 1px 2px rgba(60, 64, 67, 0.3), 0px 1px 3px 1px rgba(60, 64, 67, 0.15);\n",
              "      fill: #174EA6;\n",
              "    }\n",
              "\n",
              "    [theme=dark] .colab-df-convert {\n",
              "      background-color: #3B4455;\n",
              "      fill: #D2E3FC;\n",
              "    }\n",
              "\n",
              "    [theme=dark] .colab-df-convert:hover {\n",
              "      background-color: #434B5C;\n",
              "      box-shadow: 0px 1px 3px 1px rgba(0, 0, 0, 0.15);\n",
              "      filter: drop-shadow(0px 1px 2px rgba(0, 0, 0, 0.3));\n",
              "      fill: #FFFFFF;\n",
              "    }\n",
              "  </style>\n",
              "\n",
              "      <script>\n",
              "        const buttonEl =\n",
              "          document.querySelector('#df-49c78432-9556-4693-a5d4-7f457505e85b button.colab-df-convert');\n",
              "        buttonEl.style.display =\n",
              "          google.colab.kernel.accessAllowed ? 'block' : 'none';\n",
              "\n",
              "        async function convertToInteractive(key) {\n",
              "          const element = document.querySelector('#df-49c78432-9556-4693-a5d4-7f457505e85b');\n",
              "          const dataTable =\n",
              "            await google.colab.kernel.invokeFunction('convertToInteractive',\n",
              "                                                     [key], {});\n",
              "          if (!dataTable) return;\n",
              "\n",
              "          const docLinkHtml = 'Like what you see? Visit the ' +\n",
              "            '<a target=\"_blank\" href=https://colab.research.google.com/notebooks/data_table.ipynb>data table notebook</a>'\n",
              "            + ' to learn more about interactive tables.';\n",
              "          element.innerHTML = '';\n",
              "          dataTable['output_type'] = 'display_data';\n",
              "          await google.colab.output.renderOutput(dataTable, element);\n",
              "          const docLink = document.createElement('div');\n",
              "          docLink.innerHTML = docLinkHtml;\n",
              "          element.appendChild(docLink);\n",
              "        }\n",
              "      </script>\n",
              "    </div>\n",
              "  </div>\n",
              "  "
            ]
          },
          "metadata": {},
          "execution_count": 41
        }
      ]
    },
    {
      "cell_type": "markdown",
      "source": [
        "FUCK\n"
      ],
      "metadata": {
        "id": "Mv8F_ika_OEI"
      }
    },
    {
      "cell_type": "code",
      "source": [
        "with open('LINUXFull') as f:\n",
        "  anyG=False\n",
        "  for line in f.readlines():\n",
        "    nodeList=[]\n",
        "    edgeList=[()]\n",
        "\n",
        "    nodeCount=0\n",
        "    if 't # ' == line[0:4]:\n",
        "      if anyG:\n",
        "        break\n",
        "      G = nx.Graph()\n",
        "      print(line)\n",
        "      anyG=True\n",
        "      #break \n",
        "    if 'v ' == line[0:2]:\n",
        "      node=line.split()\n",
        "      nodeID=node[1]\n",
        "      G.add_node(nodeID)\n",
        "    if 'e ' == line[0:2]:\n",
        "      edge=line.split()\n",
        "      eNode1=edge[1]\n",
        "      eNode2=edge[2]\n",
        "      G.add_edge(eNode1, eNode2)\n",
        "\n",
        "draw_graph(G)"
      ],
      "metadata": {
        "colab": {
          "base_uri": "https://localhost:8080/",
          "height": 284
        },
        "id": "fevrds-a_qG9",
        "outputId": "a831626f-383f-494a-e9a5-d070f323c991"
      },
      "execution_count": null,
      "outputs": [
        {
          "output_type": "stream",
          "name": "stdout",
          "text": [
            "t # 0\n",
            "\n"
          ]
        },
        {
          "output_type": "display_data",
          "data": {
            "text/plain": [
              "<Figure size 432x288 with 1 Axes>"
            ],
            "image/png": "[encoded data removed]"
          },
          "metadata": {}
        }
      ]
    }
  ],
  "metadata": {
    "colab": {
      "collapsed_sections": [],
      "provenance": [],
      "include_colab_link": true
    },
    "kernelspec": {
      "display_name": "Python 3",
      "name": "python3"
    },
    "language_info": {
      "name": "python"
    }
  },
  "nbformat": 4,
  "nbformat_minor": 0
}