{
  "cells": [
    {
      "cell_type": "markdown",
      "metadata": {
        "id": "view-in-github",
        "colab_type": "text"
      },
      "source": [
        "<a href=\"https://colab.research.google.com/github/neuralresearch/CS39-6/blob/keyuanren/HenryTaGSim.ipynb\" target=\"_parent\"><img src=\"https://colab.research.google.com/assets/colab-badge.svg\" alt=\"Open In Colab\"/></a>"
      ]
    },
    {
      "cell_type": "markdown",
      "metadata": {
        "id": "jRRSjhuZSmgD"
      },
      "source": [
        "##Data Preparation"
      ]
    },
    {
      "cell_type": "markdown",
      "metadata": {
        "id": "ZS4-44nXSegf"
      },
      "source": [
        "###Data Loading and observation"
      ]
    },
    {
      "cell_type": "code",
      "execution_count": 1,
      "metadata": {
        "colab": {
          "base_uri": "https://localhost:8080/"
        },
        "id": "WjTxrSZ2wvrS",
        "outputId": "45d8e1cd-0ef6-4a5f-cb81-fff245cc36e1"
      },
      "outputs": [
        {
          "output_type": "stream",
          "name": "stdout",
          "text": [
            "LINUX.zip  sample_data\n"
          ]
        }
      ],
      "source": [
        "# Code to download file into Colaboratory:\n",
        "!pip install -U -q PyDrive\n",
        "from pydrive.auth import GoogleAuth\n",
        "from pydrive.drive import GoogleDrive\n",
        "from google.colab import auth\n",
        "from oauth2client.client import GoogleCredentials\n",
        "# Authenticate and create the PyDrive client.\n",
        "auth.authenticate_user()\n",
        "gauth = GoogleAuth()\n",
        "gauth.credentials = GoogleCredentials.get_application_default()\n",
        "drive = GoogleDrive(gauth)\n",
        "\n",
        "#get the data from the drive\n",
        "id = '1RRhSLOuRe0RCtBu-nzX32Bkaa23SYEFQ'\n",
        "downloaded = drive.CreateFile({'id':id}) \n",
        "downloaded.GetContentFile('LINUX.zip')\n",
        "!ls"
      ]
    },
    {
      "cell_type": "code",
      "execution_count": 2,
      "metadata": {
        "id": "netxDcJYTc4W"
      },
      "outputs": [],
      "source": [
        "#if AIDS700nef exist do not run this part\n",
        "#removing the dialog\n",
        "%%capture\n",
        "#unzip the file\n",
        "!unzip LINUX.zip"
      ]
    },
    {
      "cell_type": "code",
      "source": [
        "import networkx as nx\n",
        "import matplotlib.pyplot as plt\n",
        "import random\n",
        "Graph = nx.read_gexf('475.gexf',version='1.2draft')\n",
        "Graph.nodes.data()"
      ],
      "metadata": {
        "id": "YjFBUfyvaHor",
        "colab": {
          "base_uri": "https://localhost:8080/"
        },
        "outputId": "d3da245a-df05-4adf-aa34-b5e60a754c34"
      },
      "execution_count": null,
      "outputs": [
        {
          "output_type": "execute_result",
          "data": {
            "text/plain": [
              "NodeDataView({'0': {'label': '0'}, '1': {'label': '1'}, '2': {'label': '2'}, '3': {'label': '3'}, '4': {'label': '4'}, '5': {'label': '5'}})"
            ]
          },
          "metadata": {},
          "execution_count": 5
        }
      ]
    },
    {
      "cell_type": "code",
      "source": [],
      "metadata": {
        "id": "trsi9aizaHtr"
      },
      "execution_count": null,
      "outputs": []
    },
    {
      "cell_type": "code",
      "execution_count": 3,
      "metadata": {
        "id": "07srOEuJUbaH"
      },
      "outputs": [],
      "source": [
        "#visualise the first network data: 1011.gexf\n",
        "import networkx as nx\n",
        "import matplotlib.pyplot as plt\n",
        "import random\n",
        "\n",
        "#read the 1011.gexf\n",
        "Graph = nx.read_gexf('LINUX/train/1002.gexf',version='1.2draft')\n"
      ]
    },
    {
      "cell_type": "code",
      "source": [
        "Graph.edges.data()\n",
        "edgesdict={}\n",
        "for n1,n2,attr in Graph.edges.data():\n",
        "  edgesdict[(n1,n2)]=attr['valence']\n",
        "edgesdict"
      ],
      "metadata": {
        "colab": {
          "base_uri": "https://localhost:8080/",
          "height": 230
        },
        "id": "kk6JGQbRvXo6",
        "outputId": "fb1a97ad-4dbb-4696-ba2a-8f46952fe18b"
      },
      "execution_count": 11,
      "outputs": [
        {
          "output_type": "error",
          "ename": "KeyError",
          "evalue": "ignored",
          "traceback": [
            "\u001b[0;31m---------------------------------------------------------------------------\u001b[0m",
            "\u001b[0;31mKeyError\u001b[0m                                  Traceback (most recent call last)",
            "\u001b[0;32m<ipython-input-11-934c4611f65f>\u001b[0m in \u001b[0;36m<module>\u001b[0;34m\u001b[0m\n\u001b[1;32m      2\u001b[0m \u001b[0medgesdict\u001b[0m\u001b[0;34m=\u001b[0m\u001b[0;34m{\u001b[0m\u001b[0;34m}\u001b[0m\u001b[0;34m\u001b[0m\u001b[0;34m\u001b[0m\u001b[0m\n\u001b[1;32m      3\u001b[0m \u001b[0;32mfor\u001b[0m \u001b[0mn1\u001b[0m\u001b[0;34m,\u001b[0m\u001b[0mn2\u001b[0m\u001b[0;34m,\u001b[0m\u001b[0mattr\u001b[0m \u001b[0;32min\u001b[0m \u001b[0mGraph\u001b[0m\u001b[0;34m.\u001b[0m\u001b[0medges\u001b[0m\u001b[0;34m.\u001b[0m\u001b[0mdata\u001b[0m\u001b[0;34m(\u001b[0m\u001b[0;34m)\u001b[0m\u001b[0;34m:\u001b[0m\u001b[0;34m\u001b[0m\u001b[0;34m\u001b[0m\u001b[0m\n\u001b[0;32m----> 4\u001b[0;31m   \u001b[0medgesdict\u001b[0m\u001b[0;34m[\u001b[0m\u001b[0;34m(\u001b[0m\u001b[0mn1\u001b[0m\u001b[0;34m,\u001b[0m\u001b[0mn2\u001b[0m\u001b[0;34m)\u001b[0m\u001b[0;34m]\u001b[0m\u001b[0;34m=\u001b[0m\u001b[0mattr\u001b[0m\u001b[0;34m[\u001b[0m\u001b[0;34m'valence'\u001b[0m\u001b[0;34m]\u001b[0m\u001b[0;34m\u001b[0m\u001b[0;34m\u001b[0m\u001b[0m\n\u001b[0m\u001b[1;32m      5\u001b[0m \u001b[0medgesdict\u001b[0m\u001b[0;34m\u001b[0m\u001b[0;34m\u001b[0m\u001b[0m\n",
            "\u001b[0;31mKeyError\u001b[0m: 'valence'"
          ]
        }
      ]
    },
    {
      "cell_type": "code",
      "source": [
        "import matplotlib.pyplot as plt\n",
        "import networkx as nx\n",
        "\n",
        "G=Graph\n",
        "def draw_graph(G):\n",
        "  pos=nx.spring_layout(G ,seed=42,scale=2)\n",
        "  edgelist=G.edges\n",
        "  edge_labels = nx.get_edge_attributes(G, \"valence\")\n",
        "  node_labels = nx.get_node_attributes(G, \"type\")\n",
        "\n",
        "  nx.draw_networkx_nodes(G, pos, node_size=700)\n",
        "  nx.draw_networkx_edges(G, pos, edgelist=edgelist, width=6)\n",
        "  nx.draw_networkx_labels(G, pos,labels=node_labels, font_size=20, font_family=\"sans-serif\")\n",
        "  nx.draw_networkx_edge_labels(G, pos, edge_labels)\n",
        "def draw_graph_id(G):\n",
        "  pos=nx.spring_layout(G ,seed=42,scale=2)\n",
        "  edgelist=G.edges\n",
        "  edge_labels = nx.get_edge_attributes(G, \"valence\")\n",
        "\n",
        "  nx.draw_networkx_nodes(G, pos, node_size=700)\n",
        "  nx.draw_networkx_edges(G, pos, edgelist=edgelist, width=6)\n",
        "  nx.draw_networkx_labels(G, pos,  font_size=20, font_family=\"sans-serif\")\n",
        "  nx.draw_networkx_edge_labels(G, pos, edge_labels)\n",
        "\n",
        "G=Graph\n",
        "def assignNodeLabel(G):\n",
        "  nodeLabels=['a','b','c','d','e']\n",
        "  relabelDict={}\n",
        "  for nodeToBeRebel in G.nodes:\n",
        "    relabelDict[nodeToBeRebel]={}\n",
        "    newLabel=random.choice(list(nodeLabels))\n",
        "    relabelDict[nodeToBeRebel]['type']=newLabel\n",
        "  nx.set_node_attributes(G, relabelDict)\n",
        "  return G\n",
        "\n",
        "\n",
        "def assignEdgeLabel(G):\n",
        "  edgeLabels=['1','2','3']\n",
        "  relabelDict={}\n",
        "  for edgeToBeRebel in G.edges:\n",
        "    relabelDict[edgeToBeRebel]={}\n",
        "    newLabel=random.choice(list(edgeLabels))\n",
        "    relabelDict[edgeToBeRebel]['valence']=newLabel\n",
        "  nx.set_edge_attributes(G, relabelDict)\n",
        "  return G\n",
        "G=assignNodeLabel(G)\n",
        "G=assignEdgeLabel(G)\n",
        "\n",
        "\n",
        "\n",
        "draw_graph(G)"
      ],
      "metadata": {
        "id": "BLh7VuZxv2yO",
        "colab": {
          "base_uri": "https://localhost:8080/",
          "height": 248
        },
        "outputId": "2b7222c8-387a-421e-c48d-4d25ea39277f"
      },
      "execution_count": 4,
      "outputs": [
        {
          "output_type": "display_data",
          "data": {
            "text/plain": [
              "<Figure size 432x288 with 1 Axes>"
            ],
            "image/png": "[encoded data removed]"
          },
          "metadata": {}
        }
      ]
    },
    {
      "cell_type": "code",
      "source": [
        "draw_graph(G)"
      ],
      "metadata": {
        "colab": {
          "base_uri": "https://localhost:8080/",
          "height": 248
        },
        "id": "Xrw9STJoPef4",
        "outputId": "1035b7fd-351e-4a5f-bd28-6c08e2fa7964"
      },
      "execution_count": 13,
      "outputs": [
        {
          "output_type": "display_data",
          "data": {
            "text/plain": [
              "<Figure size 432x288 with 1 Axes>"
            ],
            "image/png": "[encoded data removed]"
          },
          "metadata": {}
        }
      ]
    },
    {
      "cell_type": "code",
      "source": [
        "draw_graph_id(G)"
      ],
      "metadata": {
        "colab": {
          "base_uri": "https://localhost:8080/",
          "height": 248
        },
        "id": "YCkZH46z2Igo",
        "outputId": "b7545552-4baa-45ef-fcf9-992138dee92c"
      },
      "execution_count": null,
      "outputs": [
        {
          "output_type": "display_data",
          "data": {
            "text/plain": [
              "<Figure size 432x288 with 1 Axes>"
            ],
            "image/png": "[encoded data removed]"
          },
          "metadata": {}
        }
      ]
    },
    {
      "cell_type": "markdown",
      "metadata": {
        "id": "rX-L6lKloVqk"
      },
      "source": [
        "### Graph Pair Generator"
      ]
    },
    {
      "cell_type": "code",
      "execution_count": 5,
      "metadata": {
        "id": "1CZylsUiogGj"
      },
      "outputs": [],
      "source": [
        "\n",
        "\n",
        "def graphPairGenerator(Graph,targetGEV):\n",
        "  NR=targetGEV['NR']\n",
        "  NID=targetGEV['NID']\n",
        "  ER=targetGEV['ER']\n",
        "  EID=targetGEV['EID']\n",
        "  \n",
        "  GEVsum=NR+NID+ER+EID\n",
        "\n",
        "  def assignNodeLabel(G):\n",
        "    nodeLabels=['a','b','c','d','e']\n",
        "    relabelDict={}\n",
        "    for nodeToBeRebel in G.nodes:\n",
        "      relabelDict[nodeToBeRebel]={}\n",
        "      newLabel=random.choice(list(nodeLabels))\n",
        "      relabelDict[nodeToBeRebel]['type']=newLabel\n",
        "    nx.set_node_attributes(G, relabelDict)\n",
        "    return G\n",
        "\n",
        "\n",
        "  def assignEdgeLabel(G):\n",
        "    edgeLabels=['1','2','3']\n",
        "    relabelDict={}\n",
        "    for edgeToBeRebel in G.edges:\n",
        "      relabelDict[edgeToBeRebel]={}\n",
        "      newLabel=random.choice(list(edgeLabels))\n",
        "      relabelDict[edgeToBeRebel]['valence']=newLabel\n",
        "    nx.set_edge_attributes(G, relabelDict)\n",
        "    return G\n",
        "  \n",
        "  nodeLabels=set(nx.get_node_attributes(Graph, \"type\").values())\n",
        "  if len(nodeLabels)==0:\n",
        "    Graph=assignNodeLabel(G)\n",
        "  edgeLabels=set(nx.get_edge_attributes(Graph, \"valence\").values())\n",
        "  if len(edgeLabels)==0:\n",
        "    Graph=assignEdgeLabel(G)\n",
        "\n",
        "  nodeList= list(Graph.nodes)\n",
        "  edgeList= list(Graph.edges)\n",
        "\n",
        "  # set limit of relabeling\n",
        "  NodeDataView=Graph.nodes.data()\n",
        "  if NR>len(nodeList):\n",
        "    NR=len(nodeList)\n",
        "  EdgeView=Graph.edges \n",
        "  if ER>len(edgeList):\n",
        "    ER=len(edgeList)\n",
        "\n",
        "\n",
        "\n",
        "\n",
        "  newGraph=Graph.copy()\n",
        "\n",
        "  nodeLabels=set(nx.get_node_attributes(newGraph, \"type\").values())\n",
        "  if len(nodeLabels)==1:\n",
        "    nodeLabels.add('C')\n",
        "    nodeLabels.add('S')\n",
        "\n",
        "\n",
        "  edgeLabels=set(nx.get_edge_attributes(newGraph, \"valence\").values())\n",
        "  if len(edgeLabels)==1:\n",
        "    edgeLabels.add('1')\n",
        "    edgeLabels.add('2')\n",
        "  retryLimit=100\n",
        "  def NodeRelabel(newGraph,NR):\n",
        "    relabedNode=[]\n",
        "\n",
        "    relabelDict={}\n",
        "\n",
        "    if len(list(newGraph.nodes))==0:\n",
        "      return newGraph,0\n",
        "\n",
        "    for i in range(NR):\n",
        "      nodeToBeRebel=random.choice(list(newGraph.nodes))\n",
        "      retry=0\n",
        "      while(nodeToBeRebel in relabedNode ):\n",
        "        nodeToBeRebel=random.choice(list(newGraph.nodes))\n",
        "        retry=retry+1\n",
        "        if (retry>retryLimit):\n",
        "          return  newGraph,i\n",
        "      relabedNode.append(nodeToBeRebel)\n",
        "\n",
        "      relabelDict[nodeToBeRebel]={}\n",
        "      newLabel=random.choice(list(nodeLabels))\n",
        "      retry=0\n",
        "      while(newLabel ==NodeDataView[nodeToBeRebel][\"type\"] ):\n",
        "        newLabel=random.choice(list(nodeLabels))\n",
        "        retry=retry+1\n",
        "        if (retry>retryLimit):\n",
        "          return  newGraph,i\n",
        "      relabelDict[nodeToBeRebel]['type']=newLabel\n",
        "    nx.set_node_attributes(newGraph, relabelDict)\n",
        "    #print('Relabel node list:',relabelDict)\n",
        "    return newGraph,NR\n",
        "\n",
        "  def NodeInserted(newGraph,NID):\n",
        "    newNode=[]\n",
        "    for i in range(NID):\n",
        "      label=random.choice(list(nodeLabels))\n",
        "      newGraph.add_node(i+len(nodeList),type=label)\n",
        "      newNode.append(i+len(nodeList))\n",
        "    #print(newNode)\n",
        "    return newGraph,NID\n",
        "\n",
        "  def EdgeDelete(newGraph,EID):\n",
        "    toDel=0\n",
        "    if EID>0:\n",
        "      toDel=random.choice(list(range(EID)))\n",
        "    if EID>len(list(newGraph.edges)):\n",
        "      toDel=len(list(newGraph.edges))\n",
        "    deletedEdge=[]\n",
        "    for i in range(toDel):\n",
        "      e=random.choice(list(newGraph.edges))\n",
        "      newGraph.remove_edge(*e)\n",
        "      deletedEdge.append(e)\n",
        "    #print('Delete edge:',deletedEdge)\n",
        "    return newGraph,deletedEdge,toDel\n",
        "\n",
        "  def EdgeRelabel(newGraph,ER):\n",
        "    relabedEdge=[]\n",
        "\n",
        "    relabelDict={}\n",
        "    if len(list(newGraph.edges))==0:\n",
        "      return newGraph,0\n",
        "\n",
        "    for i in range(ER):\n",
        "      edgeToBeRebel=random.choice(list(newGraph.edges))\n",
        "      retry=0\n",
        "      while(edgeToBeRebel in relabedEdge ):\n",
        "        edgeToBeRebel=random.choice(list(newGraph.edges))\n",
        "        retry=retry+1\n",
        "        if (retry>retryLimit):\n",
        "          return  newGraph,i\n",
        "      relabedEdge.append(edgeToBeRebel)\n",
        "\n",
        "      relabelDict[edgeToBeRebel]={}\n",
        "      newLabel=random.choice(list(edgeLabels)) \n",
        "      retry=0\n",
        "      while(newLabel ==nx.get_edge_attributes(newGraph,'valence')[edgeToBeRebel] ):\n",
        "        newLabel=random.choice(list(edgeLabels))\n",
        "        retry=retry+1\n",
        "        if (retry>retryLimit):\n",
        "          return  newGraph,i\n",
        "      relabelDict[edgeToBeRebel]['valence']=newLabel\n",
        "    nx.set_edge_attributes(newGraph, relabelDict)\n",
        "    #print('Relable edge:',relabelDict)\n",
        "    return newGraph,ER\n",
        "\n",
        "  def EdgeInsert(newGraph,EID,toDel,deletedEdge): \n",
        "    newEdges=[]\n",
        "    toInsert=EID-toDel\n",
        "    for i in range(toInsert):\n",
        "\n",
        "      n1,n2=random.choice(list(newGraph.nodes)),random.choice(list(newGraph.nodes))\n",
        "\n",
        "      \n",
        "      retry=0\n",
        "      #random select 2 node agian if edge has already existed/the edge is deleted in delete rpocess\n",
        "      while(n1==n2 or (n1,n2) in list(Graph.edges) or (n2,n1) in list(Graph.edges)or (n1,n2) in deletedEdge or (n2,n1) in deletedEdge):\n",
        "        n1,n2=random.choice(list(newGraph.nodes)),random.choice(list(newGraph.nodes))\n",
        "        retry=retry+1\n",
        "        if (retry>retryLimit):\n",
        "          return  newGraph,i\n",
        "      newGraph.add_edge(n1,n2,valence=random.choice(list(edgeLabels)))\n",
        "      newEdges.append((n1,n2))\n",
        "    #print('Add edge:',newEdges)\n",
        "    return newGraph \n",
        "\n",
        "  newGraph,NR = NodeRelabel(newGraph,NR)\n",
        "  newGraph,NID = NodeInserted(newGraph,NID)\n",
        "  newGraph,deletedEdge,toDel = EdgeDelete(newGraph,EID) \n",
        "  newGraph,ER = EdgeRelabel(newGraph,ER) \n",
        "  newGraph = EdgeInsert(newGraph,EID,toDel,deletedEdge) \n",
        "\n",
        "  #make the sum of operation fill the target\n",
        "  moreNID=GEVsum-(NR+NID+ER+EID)\n",
        "  if moreNID>0:\n",
        "    newGraph,moreNID = NodeInserted(newGraph,moreNID)\n",
        "    NID=NID+moreNID\n",
        "  finalGEV={'NR':NR,'NID':NID,'ER':ER,'EID':EID}\n",
        "  return Graph,newGraph,finalGEV\n",
        "  "
      ]
    },
    {
      "cell_type": "code",
      "source": [
        "\n",
        "import os\n",
        "import random\n",
        "import matplotlib.pyplot as plt\n",
        "import networkx as nx\n",
        "import random\n",
        "import pandas as pd\n",
        "def constrained_sum_sample_pos(n, total):\n",
        "    \"\"\"Return a randomly chosen list of n positive integers summing to total.\n",
        "    Each such list is equally likely to occur.\"\"\"\n",
        "\n",
        "    dividers = sorted(random.sample(range(1, total), n - 1))\n",
        "    return [a - b for a, b in zip(dividers + [total], [0] + dividers)]\n",
        "\n",
        "\n",
        "maxNodeLabelList=[]\n",
        "maxEdgeLabelList=[]\n",
        "\n",
        "dirNameTrain = 'LINUX/train/'\n",
        "dirNameTest = 'LINUX/test/'\n",
        "trainSet=[]\n",
        "testSet=[]\n",
        "dirName=dirNameTrain\n",
        "filenames = os.listdir(dirName)\n",
        "df = pd.DataFrame(columns = [\"oldGraph\", \"newGraph\", \"GEVSum\",\"NR\",'NID','ER','EID'])\n",
        "j=0\n",
        "for file in filenames:\n",
        "  if not file.split('.')[1] =='gexf':\n",
        "    continue\n",
        "  Graph = nx.read_gexf(dirName+file,version='1.2draft')\n",
        "  GEVtargetsum=random.randrange(4,16)\n",
        "  GEVList=constrained_sum_sample_pos(4,GEVtargetsum)\n",
        "  targetGEV={'NR':GEVList[0],'NID':GEVList[1],'ER':GEVList[2],'EID':GEVList[3]}\n",
        "  (Graph,newGraph,GEV)=graphPairGenerator(Graph,targetGEV)\n",
        "\n",
        "  fileName=file\n",
        "  nx.write_gexf(Graph ,dirName+ fileName )\n",
        "\n",
        "\n",
        "  fileName=file.split('.')[0]+'_new.'+file.split('.')[1]\n",
        "  nx.write_gexf(newGraph ,dirName+ fileName )\n",
        "  new_row = pd.Series({\"oldGraph\":file, \"newGraph\":fileName, \"GEVSum\":GEV['NR']+GEV['NID']+GEV['ER']+GEV['EID'],\"NR\":GEV['NR'],'NID':GEV['NID'],'ER':GEV['ER'],'EID':GEV['EID']})\n",
        "  df.loc[j] = new_row\n",
        "  j=j+1\n",
        "df.to_csv(dirName+'Data.csv',index = False) \n",
        "print(dirName+'Data.csv')\n",
        "\n",
        "\n",
        "\n",
        "dirName=dirNameTest\n",
        "filenames = os.listdir(dirName)\n",
        "df = pd.DataFrame(columns = [\"oldGraph\", \"newGraph\", \"GEVSum\",\"NR\",'NID','ER','EID'])\n",
        "j=0\n",
        "for file in filenames:\n",
        "  if not file.split('.')[1] =='gexf':\n",
        "    continue\n",
        "  Graph = nx.read_gexf(dirName+file,version='1.2draft')\n",
        "  GEVtargetsum=random.randrange(4,16)\n",
        "  GEVList=constrained_sum_sample_pos(4,GEVtargetsum)\n",
        "  targetGEV={'NR':GEVList[0],'NID':GEVList[1],'ER':GEVList[2],'EID':GEVList[3]}\n",
        "  (Graph,newGraph,GEV)=graphPairGenerator(Graph,targetGEV)\n",
        "  \n",
        "  fileName=file\n",
        "  nx.write_gexf(Graph ,dirName+ fileName )\n",
        "\n",
        "  fileName=file.split('.')[0]+'_new.'+file.split('.')[1]\n",
        "  nx.write_gexf(newGraph , dirName+fileName )\n",
        "  new_row = pd.Series({\"oldGraph\":file, \"newGraph\":fileName, \"GEVSum\":GEV['NR']+GEV['NID']+GEV['ER']+GEV['EID'],\"NR\":GEV['NR'],'NID':GEV['NID'],'ER':GEV['ER'],'EID':GEV['EID']})\n",
        "  df.loc[j] = new_row\n",
        "  j=j+1\n",
        "df.to_csv(dirName+'Data.csv',index = False) \n",
        "print(dirName+'Data.csv')\n",
        "\n",
        "\n",
        "import shutil\n",
        "shutil.make_archive('NEW_LINUX', 'zip', 'LINUX')"
      ],
      "metadata": {
        "colab": {
          "base_uri": "https://localhost:8080/",
          "height": 74
        },
        "id": "vf9B7viQaHpg",
        "outputId": "cd3db583-6a28-40d7-e6f6-2b9102c16525"
      },
      "execution_count": 6,
      "outputs": [
        {
          "output_type": "stream",
          "name": "stdout",
          "text": [
            "LINUX/train/Data.csv\n",
            "LINUX/test/Data.csv\n"
          ]
        },
        {
          "output_type": "execute_result",
          "data": {
            "text/plain": [
              "'/content/NEW_LINUX.zip'"
            ],
            "application/vnd.google.colaboratory.intrinsic+json": {
              "type": "string"
            }
          },
          "metadata": {},
          "execution_count": 6
        }
      ]
    },
    {
      "cell_type": "code",
      "source": [
        "\n",
        "import shutil\n",
        "shutil.make_archive('NEW_LINUX', 'zip', 'LINUX')"
      ],
      "metadata": {
        "colab": {
          "base_uri": "https://localhost:8080/",
          "height": 36
        },
        "id": "fVimaqRJbdbA",
        "outputId": "c246d693-c659-43bd-80da-86ce130f4bb9"
      },
      "execution_count": 29,
      "outputs": [
        {
          "output_type": "execute_result",
          "data": {
            "text/plain": [
              "'/content/NEW_LINUX.zip'"
            ],
            "application/vnd.google.colaboratory.intrinsic+json": {
              "type": "string"
            }
          },
          "metadata": {},
          "execution_count": 29
        }
      ]
    },
    {
      "cell_type": "code",
      "source": [
        "\n",
        "Graph = nx.read_gexf('LINUX/test/29178.gexf',version='1.2draft')\n",
        "draw_graph(Graph)"
      ],
      "metadata": {
        "id": "RZDtbHXWlkB5",
        "colab": {
          "base_uri": "https://localhost:8080/",
          "height": 248
        },
        "outputId": "fcf3bded-fcce-458c-e6bd-096a0a15afed"
      },
      "execution_count": 12,
      "outputs": [
        {
          "output_type": "display_data",
          "data": {
            "text/plain": [
              "<Figure size 432x288 with 1 Axes>"
            ],
            "image/png": "[encoded data removed]"
          },
          "metadata": {}
        }
      ]
    },
    {
      "cell_type": "code",
      "source": [
        "\n",
        "Graph = nx.read_gexf('LINUX/test/29178_new.gexf',version='1.2draft')\n",
        "draw_graph(Graph)"
      ],
      "metadata": {
        "colab": {
          "base_uri": "https://localhost:8080/",
          "height": 248
        },
        "id": "yYmmNlS4qUB5",
        "outputId": "bf66a6b3-13d2-4f77-d46b-a3e9ad42a695"
      },
      "execution_count": 13,
      "outputs": [
        {
          "output_type": "display_data",
          "data": {
            "text/plain": [
              "<Figure size 432x288 with 1 Axes>"
            ],
            "image/png": "[encoded data removed]"
          },
          "metadata": {}
        }
      ]
    },
    {
      "cell_type": "code",
      "source": [],
      "metadata": {
        "id": "b3z7eJ65qqCq"
      },
      "execution_count": null,
      "outputs": []
    }
  ],
  "metadata": {
    "colab": {
      "collapsed_sections": [],
      "provenance": [],
      "include_colab_link": true
    },
    "kernelspec": {
      "display_name": "Python 3",
      "name": "python3"
    },
    "language_info": {
      "name": "python"
    }
  },
  "nbformat": 4,
  "nbformat_minor": 0
}