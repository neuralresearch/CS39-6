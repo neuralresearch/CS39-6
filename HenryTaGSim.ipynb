{
  "cells": [
    {
      "cell_type": "markdown",
      "metadata": {
        "id": "view-in-github",
        "colab_type": "text"
      },
      "source": [
        "<a href=\"https://colab.research.google.com/github/neuralresearch/CS39-6/blob/keyuanren/HenryTaGSim.ipynb\" target=\"_parent\"><img src=\"https://colab.research.google.com/assets/colab-badge.svg\" alt=\"Open In Colab\"/></a>"
      ]
    },
    {
      "cell_type": "markdown",
      "metadata": {
        "id": "jRRSjhuZSmgD"
      },
      "source": [
        "##Data Preparation"
      ]
    },
    {
      "cell_type": "markdown",
      "metadata": {
        "id": "ZS4-44nXSegf"
      },
      "source": [
        "###Data Loading and observation"
      ]
    },
    {
      "cell_type": "code",
      "execution_count": null,
      "metadata": {
        "colab": {
          "base_uri": "https://localhost:8080/"
        },
        "id": "WjTxrSZ2wvrS",
        "outputId": "4f4b51ea-eeef-47ac-e201-fa2d8e7283b7"
      },
      "outputs": [
        {
          "output_type": "stream",
          "name": "stdout",
          "text": [
            "AIDS700.zip  sample_data\n"
          ]
        }
      ],
      "source": [
        "# Code to download file into Colaboratory:\n",
        "!pip install -U -q PyDrive\n",
        "from pydrive.auth import GoogleAuth\n",
        "from pydrive.drive import GoogleDrive\n",
        "from google.colab import auth\n",
        "from oauth2client.client import GoogleCredentials\n",
        "# Authenticate and create the PyDrive client.\n",
        "auth.authenticate_user()\n",
        "gauth = GoogleAuth()\n",
        "gauth.credentials = GoogleCredentials.get_application_default()\n",
        "drive = GoogleDrive(gauth)\n",
        "\n",
        "#get the data from the drive\n",
        "id = '1E07PMf68jMo-rULzHfE_q7chqgaYGsXp'\n",
        "downloaded = drive.CreateFile({'id':id}) \n",
        "downloaded.GetContentFile('AIDS700.zip')\n",
        "!ls"
      ]
    },
    {
      "cell_type": "code",
      "execution_count": null,
      "metadata": {
        "id": "netxDcJYTc4W"
      },
      "outputs": [],
      "source": [
        "#if AIDS700nef exist do not run this part\n",
        "#removing the dialog\n",
        "%%capture\n",
        "#unzip the file\n",
        "!unzip AIDS700.zip"
      ]
    },
    {
      "cell_type": "code",
      "execution_count": null,
      "metadata": {
        "id": "07srOEuJUbaH"
      },
      "outputs": [],
      "source": [
        "#visualise the first network data: 1011.gexf\n",
        "import networkx as nx\n",
        "import matplotlib.pyplot as plt\n",
        "import random\n",
        "\n",
        "#read the 1011.gexf\n",
        "Graph = nx.read_gexf('AIDS700nef/train/4.gexf',version='1.2draft')\n"
      ]
    },
    {
      "cell_type": "code",
      "source": [
        "Graph.edges.data()\n",
        "edgesdict={}\n",
        "for n1,n2,attr in Graph.edges.data():\n",
        "  edgesdict[(n1,n2)]=attr['valence']\n",
        "edgesdict"
      ],
      "metadata": {
        "colab": {
          "base_uri": "https://localhost:8080/"
        },
        "id": "kk6JGQbRvXo6",
        "outputId": "2de1edd4-54b4-427b-fc81-1c18a6ee9f15"
      },
      "execution_count": null,
      "outputs": [
        {
          "output_type": "execute_result",
          "data": {
            "text/plain": [
              "{('7', '3'): 2,\n",
              " ('3', '1'): 1,\n",
              " ('3', '8'): 2,\n",
              " ('3', '9'): 1,\n",
              " ('5', '2'): 2,\n",
              " ('6', '2'): 1,\n",
              " ('1', '0'): 1,\n",
              " ('0', '2'): 1,\n",
              " ('4', '2'): 2}"
            ]
          },
          "metadata": {},
          "execution_count": 4
        }
      ]
    },
    {
      "cell_type": "code",
      "source": [
        "import matplotlib.pyplot as plt\n",
        "import networkx as nx\n",
        "\n",
        "G=Graph\n",
        "def draw_graph(G):\n",
        "  pos=nx.spring_layout(G ,seed=42,scale=2)\n",
        "  edgelist=G.edges\n",
        "  edge_labels = nx.get_edge_attributes(G, \"valence\")\n",
        "  node_labels = nx.get_node_attributes(G, \"type\")\n",
        "\n",
        "  nx.draw_networkx_nodes(G, pos, node_size=700)\n",
        "  nx.draw_networkx_edges(G, pos, edgelist=edgelist, width=6)\n",
        "  nx.draw_networkx_labels(G, pos,labels=node_labels, font_size=20, font_family=\"sans-serif\")\n",
        "  nx.draw_networkx_edge_labels(G, pos, edge_labels)\n",
        "def draw_graph_id(G):\n",
        "  pos=nx.spring_layout(G ,seed=42,scale=2)\n",
        "  edgelist=G.edges\n",
        "  edge_labels = nx.get_edge_attributes(G, \"valence\")\n",
        "\n",
        "  nx.draw_networkx_nodes(G, pos, node_size=700)\n",
        "  nx.draw_networkx_edges(G, pos, edgelist=edgelist, width=6)\n",
        "  nx.draw_networkx_labels(G, pos,  font_size=20, font_family=\"sans-serif\")\n",
        "  nx.draw_networkx_edge_labels(G, pos, edge_labels)\n"
      ],
      "metadata": {
        "id": "BLh7VuZxv2yO"
      },
      "execution_count": null,
      "outputs": []
    },
    {
      "cell_type": "code",
      "source": [
        "draw_graph(G)"
      ],
      "metadata": {
        "colab": {
          "base_uri": "https://localhost:8080/",
          "height": 248
        },
        "id": "Xrw9STJoPef4",
        "outputId": "5b40b1aa-d896-4118-8aef-40c856b26f20"
      },
      "execution_count": null,
      "outputs": [
        {
          "output_type": "display_data",
          "data": {
            "text/plain": [
              "<Figure size 432x288 with 1 Axes>"
            ],
            "image/png": "[encoded data removed]"
          },
          "metadata": {}
        }
      ]
    },
    {
      "cell_type": "code",
      "source": [
        "draw_graph_id(G)"
      ],
      "metadata": {
        "colab": {
          "base_uri": "https://localhost:8080/",
          "height": 248
        },
        "id": "YCkZH46z2Igo",
        "outputId": "b7545552-4baa-45ef-fcf9-992138dee92c"
      },
      "execution_count": null,
      "outputs": [
        {
          "output_type": "display_data",
          "data": {
            "text/plain": [
              "<Figure size 432x288 with 1 Axes>"
            ],
            "image/png": "[encoded data removed]"
          },
          "metadata": {}
        }
      ]
    },
    {
      "cell_type": "markdown",
      "metadata": {
        "id": "rX-L6lKloVqk"
      },
      "source": [
        "### Graph Pair Generator"
      ]
    },
    {
      "cell_type": "code",
      "execution_count": null,
      "metadata": {
        "colab": {
          "base_uri": "https://localhost:8080/",
          "height": 267
        },
        "id": "1CZylsUiogGj",
        "outputId": "f4fbb4d8-a129-4c43-c9ef-b4e6a9b643b0"
      },
      "outputs": [
        {
          "output_type": "stream",
          "name": "stdout",
          "text": [
            "{'NR': 1, 'NID': 1, 'ER': 1, 'EID': 3}\n"
          ]
        },
        {
          "output_type": "display_data",
          "data": {
            "text/plain": [
              "<Figure size 432x288 with 1 Axes>"
            ],
            "image/png": "[encoded data removed]"
          },
          "metadata": {}
        }
      ],
      "source": [
        "\n",
        "\n",
        "def graphPairGenerator(Graph,targetGEV):\n",
        "  NR=targetGEV['NR']\n",
        "  NID=targetGEV['NID']\n",
        "  ER=targetGEV['ER']\n",
        "  EID=targetGEV['EID']\n",
        "  \n",
        "  GEVsum=NR+NID+ER+EID\n",
        "\n",
        "  nodeList= list(Graph.nodes)\n",
        "  edgeList= list(Graph.edges)\n",
        "\n",
        "  # set limit of relabeling\n",
        "  NodeDataView=Graph.nodes.data()\n",
        "  if NR>len(nodeList):\n",
        "    NR=len(nodeList)\n",
        "  EdgeView=Graph.edges \n",
        "  if ER>len(edgeList):\n",
        "    ER=len(edgeList)\n",
        "\n",
        "\n",
        "  newGraph=Graph.copy()\n",
        "  nodeLabels=set(nx.get_node_attributes(newGraph, \"type\").values())\n",
        "  #print(nodeLabels)\n",
        "  if len(nodeLabels)==1:\n",
        "    nodeLabels.add('C')\n",
        "    nodeLabels.add('S')\n",
        "  #print(nodeLabels)\n",
        "  edgeLabels=set(nx.get_edge_attributes(newGraph, \"valence\").values())\n",
        "  if len(edgeLabels)==1:\n",
        "    edgeLabels.add('1')\n",
        "    edgeLabels.add('2')\n",
        "  retryLimit=100\n",
        "  def NodeRelabel(newGraph,NR):\n",
        "    relabedNode=[]\n",
        "\n",
        "    relabelDict={}\n",
        "\n",
        "    if len(list(newGraph.nodes))==0:\n",
        "      return newGraph,0\n",
        "\n",
        "    for i in range(NR):\n",
        "      nodeToBeRebel=random.choice(list(newGraph.nodes))\n",
        "      retry=0\n",
        "      while(nodeToBeRebel in relabedNode ):\n",
        "        nodeToBeRebel=random.choice(list(newGraph.nodes))\n",
        "        retry=retry+1\n",
        "        if (retry>retryLimit):\n",
        "          return  newGraph,i\n",
        "      relabedNode.append(nodeToBeRebel)\n",
        "\n",
        "      relabelDict[nodeToBeRebel]={}\n",
        "      newLabel=random.choice(list(nodeLabels))\n",
        "      retry=0\n",
        "      while(newLabel ==NodeDataView[nodeToBeRebel][\"type\"] ):\n",
        "        newLabel=random.choice(list(nodeLabels))\n",
        "        retry=retry+1\n",
        "        if (retry>retryLimit):\n",
        "          return  newGraph,i\n",
        "      relabelDict[nodeToBeRebel]['type']=newLabel\n",
        "    nx.set_node_attributes(newGraph, relabelDict)\n",
        "    #print('Relabel node list:',relabelDict)\n",
        "    return newGraph,NR\n",
        "\n",
        "  def NodeInserted(newGraph,NID):\n",
        "    newNode=[]\n",
        "    for i in range(NID):\n",
        "      label=random.choice(list(nodeLabels))\n",
        "      newGraph.add_node(i+len(nodeList),type=label)\n",
        "      newNode.append(i+len(nodeList))\n",
        "    #print(newNode)\n",
        "    return newGraph,NID\n",
        "\n",
        "  def EdgeDelete(newGraph,EID):\n",
        "    toDel=0\n",
        "    if EID>0:\n",
        "      toDel=random.choice(list(range(EID)))\n",
        "    if EID>len(list(newGraph.edges)):\n",
        "      toDel=len(list(newGraph.edges))\n",
        "    deletedEdge=[]\n",
        "    for i in range(toDel):\n",
        "      e=random.choice(list(newGraph.edges))\n",
        "      newGraph.remove_edge(*e)\n",
        "      deletedEdge.append(e)\n",
        "    #print('Delete edge:',deletedEdge)\n",
        "    return newGraph,deletedEdge,toDel\n",
        "\n",
        "  def EdgeRelabel(newGraph,ER):\n",
        "    relabedEdge=[]\n",
        "\n",
        "    relabelDict={}\n",
        "    if len(list(newGraph.edges))==0:\n",
        "      return newGraph,0\n",
        "\n",
        "    for i in range(ER):\n",
        "      edgeToBeRebel=random.choice(list(newGraph.edges))\n",
        "      retry=0\n",
        "      while(edgeToBeRebel in relabedEdge ):\n",
        "        edgeToBeRebel=random.choice(list(newGraph.edges))\n",
        "        retry=retry+1\n",
        "        if (retry>retryLimit):\n",
        "          return  newGraph,i\n",
        "      relabedEdge.append(edgeToBeRebel)\n",
        "\n",
        "      relabelDict[edgeToBeRebel]={}\n",
        "      newLabel=random.choice(list(edgeLabels)) \n",
        "      retry=0\n",
        "      while(newLabel ==nx.get_edge_attributes(newGraph,'valence')[edgeToBeRebel] ):\n",
        "        newLabel=random.choice(list(edgeLabels))\n",
        "        retry=retry+1\n",
        "        if (retry>retryLimit):\n",
        "          return  newGraph,i\n",
        "      relabelDict[edgeToBeRebel]['valence']=newLabel\n",
        "    nx.set_edge_attributes(newGraph, relabelDict)\n",
        "    #print('Relable edge:',relabelDict)\n",
        "    return newGraph,ER\n",
        "\n",
        "  def EdgeInsert(newGraph,EID,toDel,deletedEdge): \n",
        "    newEdges=[]\n",
        "    toInsert=EID-toDel\n",
        "    for i in range(toInsert):\n",
        "\n",
        "      n1,n2=random.choice(list(newGraph.nodes)),random.choice(list(newGraph.nodes))\n",
        "\n",
        "      \n",
        "      retry=0\n",
        "      #random select 2 node agian if edge has already existed/the edge is deleted in delete rpocess\n",
        "      while(n1==n2 or (n1,n2) in list(Graph.edges) or (n2,n1) in list(Graph.edges)or (n1,n2) in deletedEdge or (n2,n1) in deletedEdge):\n",
        "        n1,n2=random.choice(list(newGraph.nodes)),random.choice(list(newGraph.nodes))\n",
        "        retry=retry+1\n",
        "        if (retry>retryLimit):\n",
        "          return  newGraph,i\n",
        "      newGraph.add_edge(n1,n2,valence=random.choice(list(edgeLabels)))\n",
        "      newEdges.append((n1,n2))\n",
        "    #print('Add edge:',newEdges)\n",
        "    return newGraph \n",
        "\n",
        "  newGraph,NR = NodeRelabel(newGraph,NR)\n",
        "  newGraph,NID = NodeInserted(newGraph,NID)\n",
        "  newGraph,deletedEdge,toDel = EdgeDelete(newGraph,EID) \n",
        "  newGraph,ER = EdgeRelabel(newGraph,ER) \n",
        "  newGraph = EdgeInsert(newGraph,EID,toDel,deletedEdge) \n",
        "\n",
        "  #make the sum of operation fill the target\n",
        "  moreNID=GEVsum-(NR+NID+ER+EID)\n",
        "  if moreNID>0:\n",
        "    newGraph,moreNID = NodeInserted(newGraph,moreNID)\n",
        "    NID=NID+moreNID\n",
        "  finalGEV={'NR':NR,'NID':NID,'ER':ER,'EID':EID}\n",
        "  return Graph,newGraph,finalGEV\n",
        "targetGEV={'NR':1,'NID':1,'ER':1,'EID':3}\n",
        "\n",
        "(Graph,newGraph,GEV)=graphPairGenerator(Graph,targetGEV)\n",
        "print(GEV)\n",
        "draw_graph(newGraph)"
      ]
    },
    {
      "cell_type": "code",
      "source": [
        "\n",
        "import os\n",
        "import random\n",
        "import matplotlib.pyplot as plt\n",
        "import networkx as nx\n",
        "import random\n",
        "import pandas as pd\n",
        "def constrained_sum_sample_pos(n, total):\n",
        "    \"\"\"Return a randomly chosen list of n positive integers summing to total.\n",
        "    Each such list is equally likely to occur.\"\"\"\n",
        "\n",
        "    dividers = sorted(random.sample(range(1, total), n - 1))\n",
        "    return [a - b for a, b in zip(dividers + [total], [0] + dividers)]\n",
        "\n",
        "GEVtargetsum=12\n",
        "\n",
        "maxNodeLabelList=[]\n",
        "maxEdgeLabelList=[]\n",
        "\n",
        "dirNameTrain = 'AIDS700nef/train/'\n",
        "dirNameTest = 'AIDS700nef/test/'\n",
        "trainSet=[]\n",
        "testSet=[]\n",
        "dirName=dirNameTrain\n",
        "filenames = os.listdir(dirName)\n",
        "df = pd.DataFrame(columns = [\"oldGraph\", \"newGraph\", \"GEVSum\",\"NR\",'NID','ER','EID'])\n",
        "j=0\n",
        "for file in filenames:\n",
        "  if not file.split('.')[1] =='gexf':\n",
        "    continue\n",
        "  Graph = nx.read_gexf(dirName+file,version='1.2draft')\n",
        "  GEVList=constrained_sum_sample_pos(4,GEVtargetsum)\n",
        "  targetGEV={'NR':GEVList[0],'NID':GEVList[1],'ER':GEVList[2],'EID':GEVList[3]}\n",
        "  (Graph,newGraph,GEV)=graphPairGenerator(Graph,targetGEV)\n",
        "  fileName=file.split('.')[0]+'_new.'+file.split('.')[1]\n",
        "  nx.write_gexf(newGraph ,dirName+ fileName )\n",
        "  new_row = pd.Series({\"oldGraph\":file, \"newGraph\":fileName, \"GEVSum\":GEV['NR']+GEV['NID']+GEV['ER']+GEV['EID'],\"NR\":GEV['NR'],'NID':GEV['NID'],'ER':GEV['ER'],'EID':GEV['EID']})\n",
        "  df.loc[j] = new_row\n",
        "  j=j+1\n",
        "df.to_csv(dirName+'Data.csv',index = False) \n",
        "print(dirName+'Data.csv')\n",
        "\n",
        "\n",
        "\n",
        "dirName=dirNameTest\n",
        "filenames = os.listdir(dirName)\n",
        "df = pd.DataFrame(columns = [\"oldGraph\", \"newGraph\", \"GEVSum\",\"NR\",'NID','ER','EID'])\n",
        "j=0\n",
        "for file in filenames:\n",
        "  if not file.split('.')[1] =='gexf':\n",
        "    continue\n",
        "  Graph = nx.read_gexf(dirName+file,version='1.2draft')\n",
        "  GEVList=constrained_sum_sample_pos(4,GEVtargetsum)\n",
        "  targetGEV={'NR':GEVList[0],'NID':GEVList[1],'ER':GEVList[2],'EID':GEVList[3]}\n",
        "  (Graph,newGraph,GEV)=graphPairGenerator(Graph,targetGEV)\n",
        "  fileName=file.split('.')[0]+'_new.'+file.split('.')[1]\n",
        "  nx.write_gexf(newGraph , dirName+fileName )\n",
        "  new_row = pd.Series({\"oldGraph\":file, \"newGraph\":fileName, \"GEVSum\":GEV['NR']+GEV['NID']+GEV['ER']+GEV['EID'],\"NR\":GEV['NR'],'NID':GEV['NID'],'ER':GEV['ER'],'EID':GEV['EID']})\n",
        "  df.loc[j] = new_row\n",
        "  j=j+1\n",
        "df.to_csv(dirName+'Data.csv',index = False) \n",
        "print(dirName+'Data.csv')\n",
        "\n",
        "import shutil\n",
        "dir_name='AIDS700nef'\n",
        "shutil.make_archive('AIDS700nef_GEV'+str(GEVtargetsum), 'zip', dir_name)"
      ],
      "metadata": {
        "colab": {
          "base_uri": "https://localhost:8080/",
          "height": 74
        },
        "id": "vf9B7viQaHpg",
        "outputId": "5ef456bf-f217-4647-e443-14d4af599cc4"
      },
      "execution_count": null,
      "outputs": [
        {
          "output_type": "stream",
          "name": "stdout",
          "text": [
            "AIDS700nef/train/Data.csv\n",
            "AIDS700nef/test/Data.csv\n"
          ]
        },
        {
          "output_type": "execute_result",
          "data": {
            "text/plain": [
              "'/content/AIDS700nef_GEV12.zip'"
            ],
            "application/vnd.google.colaboratory.intrinsic+json": {
              "type": "string"
            }
          },
          "metadata": {},
          "execution_count": 9
        }
      ]
    },
    {
      "cell_type": "code",
      "source": [
        "\n",
        "Graph = nx.read_gexf('AIDS700nef/test/1011.gexf',version='1.2draft')\n",
        "draw_graph(Graph)"
      ],
      "metadata": {
        "id": "RZDtbHXWlkB5",
        "colab": {
          "base_uri": "https://localhost:8080/",
          "height": 248
        },
        "outputId": "bb713dfd-a0fa-4aa0-9b15-456a6483c734"
      },
      "execution_count": null,
      "outputs": [
        {
          "output_type": "display_data",
          "data": {
            "text/plain": [
              "<Figure size 432x288 with 1 Axes>"
            ],
            "image/png": "[encoded data removed]"
          },
          "metadata": {}
        }
      ]
    },
    {
      "cell_type": "code",
      "source": [
        "\n",
        "Graph = nx.read_gexf('AIDS700nef/test/1011_new.gexf',version='1.2draft')\n",
        "draw_graph(Graph)"
      ],
      "metadata": {
        "colab": {
          "base_uri": "https://localhost:8080/",
          "height": 248
        },
        "id": "yYmmNlS4qUB5",
        "outputId": "7a716ca2-5461-4998-8fbd-e18b2d494b8a"
      },
      "execution_count": null,
      "outputs": [
        {
          "output_type": "display_data",
          "data": {
            "text/plain": [
              "<Figure size 432x288 with 1 Axes>"
            ],
            "image/png": "[encoded data removed]"
          },
          "metadata": {}
        }
      ]
    },
    {
      "cell_type": "code",
      "source": [],
      "metadata": {
        "id": "b3z7eJ65qqCq"
      },
      "execution_count": null,
      "outputs": []
    }
  ],
  "metadata": {
    "colab": {
      "collapsed_sections": [],
      "provenance": [],
      "include_colab_link": true
    },
    "kernelspec": {
      "display_name": "Python 3",
      "name": "python3"
    },
    "language_info": {
      "name": "python"
    }
  },
  "nbformat": 4,
  "nbformat_minor": 0
}