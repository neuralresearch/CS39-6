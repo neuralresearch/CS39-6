{
  "cells": [
    {
      "cell_type": "markdown",
      "metadata": {
        "id": "view-in-github",
        "colab_type": "text"
      },
      "source": [
        "<a href=\"https://colab.research.google.com/github/neuralresearch/CS39-6/blob/keyuanren/RenTaGSim.ipynb\" target=\"_parent\"><img src=\"https://colab.research.google.com/assets/colab-badge.svg\" alt=\"Open In Colab\"/></a>"
      ]
    },
    {
      "cell_type": "markdown",
      "metadata": {
        "id": "jRRSjhuZSmgD"
      },
      "source": [
        "##Data Preparation"
      ]
    },
    {
      "cell_type": "markdown",
      "metadata": {
        "id": "ZS4-44nXSegf"
      },
      "source": [
        "###Data Loading and observation"
      ]
    },
    {
      "cell_type": "code",
      "execution_count": null,
      "metadata": {
        "colab": {
          "base_uri": "https://localhost:8080/"
        },
        "id": "WjTxrSZ2wvrS",
        "outputId": "6db61986-d878-4761-9fa0-5f5fe58e0438"
      },
      "outputs": [
        {
          "output_type": "stream",
          "name": "stdout",
          "text": [
            "AIDS700nef  AIDS700.zip  __MACOSX  sample_data\n"
          ]
        }
      ],
      "source": [
        "# Code to download file into Colaboratory:\n",
        "!pip install -U -q PyDrive\n",
        "from pydrive.auth import GoogleAuth\n",
        "from pydrive.drive import GoogleDrive\n",
        "from google.colab import auth\n",
        "from oauth2client.client import GoogleCredentials\n",
        "# Authenticate and create the PyDrive client.\n",
        "auth.authenticate_user()\n",
        "gauth = GoogleAuth()\n",
        "gauth.credentials = GoogleCredentials.get_application_default()\n",
        "drive = GoogleDrive(gauth)\n",
        "\n",
        "#get the data from the drive\n",
        "id = '1E07PMf68jMo-rULzHfE_q7chqgaYGsXp'\n",
        "downloaded = drive.CreateFile({'id':id}) \n",
        "downloaded.GetContentFile('AIDS700.zip')\n",
        "!ls"
      ]
    },
    {
      "cell_type": "code",
      "execution_count": null,
      "metadata": {
        "id": "netxDcJYTc4W"
      },
      "outputs": [],
      "source": [
        "#if AIDS700nef exist do not run this part\n",
        "#removing the dialog\n",
        "%%capture\n",
        "#unzip the file\n",
        "!unzip AIDS700.zip"
      ]
    },
    {
      "cell_type": "code",
      "source": [
        "# collecting all the Node types and Edge types from entire AIDS700 dataset\n",
        "import os\n",
        "import networkx as nx\n",
        "\n",
        "dirName = 'AIDS700nef/train/'\n",
        "filenames = os.listdir(dirName)\n",
        "Node_Types = []\n",
        "Edge_Types = []\n",
        "for filename in filenames:\n",
        "    if filename.endswith(\".gexf\"):\n",
        "        #print(filename)\n",
        "        temp =  nx.read_gexf(path=dirName+\"/\"+filename)\n",
        "        for node in temp.nodes:\n",
        "            temp_type = temp.nodes[node]['type']\n",
        "            if temp_type not in Node_Types:\n",
        "                Node_Types.append(temp_type)\n",
        "        for edge in temp.edges:\n",
        "            temp_type = temp.edges[edge]['valence']\n",
        "            if temp_type not in Edge_Types:\n",
        "                Edge_Types.append(temp_type)\n",
        "\n",
        "print(Node_Types)\n",
        "print(Edge_Types)"
      ],
      "metadata": {
        "colab": {
          "base_uri": "https://localhost:8080/"
        },
        "id": "Hu9tOdm_Ztn-",
        "outputId": "1c3e7376-470a-4958-c7ba-b62c7b7961d9"
      },
      "execution_count": null,
      "outputs": [
        {
          "output_type": "stream",
          "name": "stdout",
          "text": [
            "['O', 'C', 'N', 'S', 'Cl', 'Br', 'Bi', 'P', 'Hg', 'F', 'I', 'Si', 'Co', 'B', 'Sb', 'Sn', 'Pd', 'Cu', 'Pt', 'Tb', 'As', 'Ho', 'Ga', 'Ru', 'Li', 'Pb']\n",
            "[1, 3, 2]\n"
          ]
        }
      ]
    },
    {
      "cell_type": "code",
      "execution_count": null,
      "metadata": {
        "colab": {
          "base_uri": "https://localhost:8080/",
          "height": 985
        },
        "id": "07srOEuJUbaH",
        "outputId": "8b633e8b-dabc-4f48-e187-7b6dfce1ec2c"
      },
      "outputs": [
        {
          "output_type": "display_data",
          "data": {
            "text/plain": [
              "<Figure size 720x720 with 1 Axes>"
            ],
            "image/png": "[encoded data removed]"
          },
          "metadata": {}
        },
        {
          "output_type": "stream",
          "name": "stdout",
          "text": [
            "Node Info:  {'7': 'O', '3': 'S', '5': 'O', '8': 'O', '6': 'O', '1': 'C', '9': 'O', '0': 'C', '4': 'O', '2': 'S'}\n",
            "Edge Info:  {('7', '3'): 2, ('3', '1'): 1, ('3', '8'): 2, ('3', '9'): 1, ('5', '2'): 2, ('6', '2'): 1, ('1', '0'): 1, ('0', '2'): 1, ('4', '2'): 2}\n",
            "7  :  {'3': {'valence': 2, 'id': '6'}}\n",
            "3  :  {'7': {'valence': 2, 'id': '6'}, '1': {'valence': 1, 'id': '2'}, '8': {'valence': 2, 'id': '7'}, '9': {'valence': 1, 'id': '8'}}\n",
            "5  :  {'2': {'valence': 2, 'id': '4'}}\n",
            "8  :  {'3': {'valence': 2, 'id': '7'}}\n",
            "6  :  {'2': {'valence': 1, 'id': '5'}}\n",
            "1  :  {'3': {'valence': 1, 'id': '2'}, '0': {'valence': 1, 'id': '0'}}\n",
            "9  :  {'3': {'valence': 1, 'id': '8'}}\n",
            "0  :  {'1': {'valence': 1, 'id': '0'}, '2': {'valence': 1, 'id': '1'}}\n",
            "4  :  {'2': {'valence': 2, 'id': '3'}}\n",
            "2  :  {'5': {'valence': 2, 'id': '4'}, '6': {'valence': 1, 'id': '5'}, '0': {'valence': 1, 'id': '1'}, '4': {'valence': 2, 'id': '3'}}\n"
          ]
        }
      ],
      "source": [
        "#visualise the first network data: 1011.gexf\n",
        "import matplotlib.pyplot as plt\n",
        "\n",
        "#read the 1011.gexf\n",
        "Graph = nx.read_gexf('AIDS700nef/train/4.gexf',version='1.2draft')\n",
        "\n",
        "node_info = nx.get_node_attributes(Graph, 'type')\n",
        "edge_info = dict([((n1, n2), d['valence']) for n1, n2, d in Graph.edges(data=True)])\n",
        "\n",
        "#graph display\n",
        "pos = nx.spring_layout(Graph, scale=1.5)  \n",
        "plt.figure(1,figsize=(10,10)) \n",
        "nx.draw(Graph, pos, labels=node_info, font_color=\"white\")\n",
        "nx.draw_networkx_edge_labels(Graph, pos, edge_labels=edge_info, font_color=\"red\")\n",
        "plt.show()\n",
        "\n",
        "#info display\n",
        "print(\"Node Info: \",node_info)\n",
        "print(\"Edge Info: \",edge_info)\n",
        "# numpy_graph = nx.to_numpy_array(Graph, nodelist = node_info)\n",
        "# print(numpy_graph)\n",
        "# adjacency representation of graph as a dictionary of dictionaries\n",
        "adj_graph = nx.to_dict_of_dicts(Graph)\n",
        "for key, value in adj_graph.items():\n",
        "    print(key, ' : ', value)"
      ]
    },
    {
      "cell_type": "markdown",
      "metadata": {
        "id": "rX-L6lKloVqk"
      },
      "source": [
        "### Graph Pair Generator"
      ]
    },
    {
      "cell_type": "code",
      "execution_count": null,
      "metadata": {
        "colab": {
          "base_uri": "https://localhost:8080/",
          "height": 1000
        },
        "id": "1CZylsUiogGj",
        "outputId": "b9dadc4e-21cd-4a6d-fc27-d72a98abb5a7"
      },
      "outputs": [
        {
          "output_type": "stream",
          "name": "stdout",
          "text": [
            "['7', '3', '5', '8', '6', '1', '9', '0', '4', '2']\n",
            "Node info:  {'7': 'O', '3': 'S', '5': 'O', '8': 'O', '6': 'O', '1': 'C', '9': 'O', '0': 'C', '4': 'O', '2': 'S'}\n",
            "Edge info:  {('7', '3'): 2, ('3', '1'): 1, ('3', '8'): 2, ('3', '9'): 1, ('5', '2'): 2, ('6', '2'): 1, ('1', '0'): 1, ('0', '2'): 1, ('4', '2'): 2}\n",
            "The GEV:  [3, 1, 3, 4, 1]\n",
            "Select Edge(3, 9) and its label 1 to relabel with 2\n",
            "Select Node 0 and its label C to relabel with Si\n",
            "Select Edge(0, 2) and its label 1 to relabel with 2\n",
            "Edge between label 1 and label 0 is removed\n",
            "[('1', '0')]\n",
            "Select Node 3 and Node 2 for new Edge\n",
            "Select Node 8 and its label O to relabel with B\n",
            "Graph display after the transformation:\n",
            "Transformed Node info:  {'7': 'O', '3': 'S', '5': 'O', '8': 'B', '6': 'O', '1': 'C', '9': 'O', '0': 'Si', '4': 'O', '2': 'S'}\n",
            "Transformed Edge info:  {('7', '3'): 2, ('3', '1'): 1, ('3', '8'): 2, ('3', '9'): 2, ('3', '2'): 1, ('5', '2'): 2, ('6', '2'): 1, ('0', '2'): 2, ('4', '2'): 2}\n",
            "Transformed GEV:  [3, 1, 3, 4, 1]\n"
          ]
        },
        {
          "output_type": "display_data",
          "data": {
            "text/plain": [
              "<Figure size 720x720 with 1 Axes>"
            ],
            "image/png": "[encoded data removed]"
          },
          "metadata": {}
        },
        {
          "output_type": "stream",
          "name": "stdout",
          "text": [
            "7  :  {'3': {'valence': 2, 'id': '6'}}\n",
            "3  :  {'7': {'valence': 2, 'id': '6'}, '1': {'valence': 1, 'id': '2'}, '8': {'valence': 2, 'id': '7'}, '9': {'valence': 2, 'id': '8'}, '2': {'valence': 1, 'id': '9'}}\n",
            "5  :  {'2': {'valence': 2, 'id': '4'}}\n",
            "8  :  {'3': {'valence': 2, 'id': '7'}}\n",
            "6  :  {'2': {'valence': 1, 'id': '5'}}\n",
            "1  :  {'3': {'valence': 1, 'id': '2'}}\n",
            "9  :  {'3': {'valence': 2, 'id': '8'}}\n",
            "0  :  {'2': {'valence': 2, 'id': '1'}}\n",
            "4  :  {'2': {'valence': 2, 'id': '3'}}\n",
            "2  :  {'5': {'valence': 2, 'id': '4'}, '6': {'valence': 1, 'id': '5'}, '0': {'valence': 2, 'id': '1'}, '4': {'valence': 2, 'id': '3'}, '3': {'valence': 1, 'id': '9'}}\n"
          ]
        }
      ],
      "source": [
        "#input of the generator contains origial Graph and target GEV(four types)\n",
        "#testing one graph first: 1011.gexf\n",
        "import random\n",
        "import numpy as np\n",
        "\n",
        "def graph_pair_generator(graph, ground_GEV):\n",
        "  target_graph = graph\n",
        "  node_id = list(target_graph.nodes)\n",
        "  edge_id = list(target_graph.edges)\n",
        "  print(node_id)\n",
        "\n",
        "  node_info = nx.get_node_attributes(target_graph, 'type')\n",
        "  edge_info = dict([((n1, n2), d['valence']) for n1, n2, d in target_graph.edges(data=True)])\n",
        "\n",
        "  print(\"Node info: \", node_info)\n",
        "  print(\"Edge info: \", edge_info)\n",
        "  print(\"The GEV: \",ground_GEV)\n",
        "  \n",
        "  #index of the ground GEV in for loop\n",
        "  gev_index = 0\n",
        "  #make sure not to relabel the relabeled node\n",
        "  relabel_node = []\n",
        "  #make sure not to relabel the relabeled edge\n",
        "  relabel_edge = []\n",
        "  #store the delete edge\n",
        "  delete_edge = []\n",
        "  #for fixing the GEV if all nodes or edges are relabeled\n",
        "  relabel_fix_gev = []\n",
        "\n",
        "  for edit_type in ground_GEV:\n",
        "    # print(\"Relabeled node: \",relabel_node)\n",
        "    \n",
        "    node_id = list(target_graph.nodes)\n",
        "    edge_id = list(target_graph.edges)\n",
        "\n",
        "    node_info = nx.get_node_attributes(target_graph, 'type')\n",
        "    edge_info = dict([((n1, n2), d['valence']) for n1, n2, d in target_graph.edges(data=True)])\n",
        "\n",
        "    if edit_type == 1: #Node Relabeling\n",
        "      if len(relabel_node) == len(node_id):#when all the nodes are relabeled\n",
        "        #add another edit operation or remove the edit operation\n",
        "        new_operation_type = random.choice([2,3,4])\n",
        "        ground_GEV.append(new_operation_type)\n",
        "        print(\"Add new operation type: \",new_operation_type)\n",
        "        relabel_fix_gev.append(gev_index)\n",
        "        gev_index += 1\n",
        "        pass\n",
        "      else:\n",
        "        #not choosing the relabed nodes\n",
        "        random_node = random.choice(node_id)\n",
        "        while random_node in relabel_node:\n",
        "          node_id.remove(random_node)\n",
        "          random_node = random.choice(node_id)\n",
        "        relabel_node.append(str(random_node))\n",
        "        # update with the selected node and make sure not the same type\n",
        "        remove_self_type = node_info[str(random_node)]\n",
        "        Node_Types.remove(remove_self_type)\n",
        "        new_node_attr = random.choice(Node_Types)\n",
        "        Node_Types.append(remove_self_type)\n",
        "        print(\"Select Node \"+random_node+\" and its label \"+remove_self_type+\" to relabel with \"+new_node_attr)\n",
        "        nx.set_node_attributes(target_graph, {str(random_node): {'type': new_node_attr, 'label': str(random_node)}})\n",
        "        gev_index += 1\n",
        "\n",
        "    elif edit_type == 2: #Node Insertion\n",
        "      new_node_type = random.choice(Node_Types)\n",
        "      new_node_id = str(len(node_id)) #increametal 1 from original ID list\n",
        "      print(\"Adding a new node ID: \"+new_node_id+\" and Type: \"+ new_node_type)\n",
        "      target_graph.add_node(new_node_id, type = new_node_type, label = new_node_id)\n",
        "      # nx.set_node_attributes(target_graph, {new_node_id: {'type': new_node_type, 'label': new_node_id}})\n",
        "      gev_index += 1\n",
        "\n",
        "    elif edit_type == 3: #Edege Relabeling\n",
        "      if len(relabel_edge) == len(edge_id):#when all the edges are relabeled\n",
        "        #add another edit operation or remove the edit operation\n",
        "        new_operation_type = random.choice([1,2,4])\n",
        "        ground_GEV.append(new_operation_type)\n",
        "        print(\"Add new operation type: \",new_operation_type)\n",
        "        relabel_fix_gev.append(gev_index)\n",
        "        gev_index += 1\n",
        "        pass\n",
        "      else:\n",
        "        #not choosing the relabed nodes\n",
        "        random_edge = random.choice(edge_id)\n",
        "        while random_edge in relabel_edge:\n",
        "          edge_id.remove(random_edge)\n",
        "          random_edge = random.choice(edge_id)\n",
        "        relabel_edge.append(random_edge)\n",
        "        # update with the selected edge and make sure not the same type\n",
        "        remove_self_type = edge_info[random_edge]\n",
        "        Edge_Types.remove(remove_self_type)\n",
        "        new_edge_attr = random.choice(Edge_Types)\n",
        "        Edge_Types.append(remove_self_type)\n",
        "        selected_edge_id = target_graph.edges[random_edge]['id']\n",
        "        print(\"Select Edge(\"+random_edge[0]+\", \"+random_edge[1]\n",
        "              +\") and its label \"+str(remove_self_type)+\" to relabel with \"+str(new_edge_attr))\n",
        "        nx.set_edge_attributes(target_graph, {random_edge: {'valence': new_edge_attr, 'id': selected_edge_id}})\n",
        "        gev_index += 1\n",
        "\n",
        "    elif edit_type == 4: #Edge Deletion / Insertion\n",
        "      #Edge Deletion\n",
        "      random_edge = random.choice(edge_id)\n",
        "      delete_edge.append(random_edge) #store the delete edge\n",
        "      target_graph.remove_edge(random_edge[0], random_edge[1])\n",
        "      print(\"Edge between label \"+random_edge[0]+\" and label \"+random_edge[1]+\" is removed\")\n",
        "      print(delete_edge)\n",
        "\n",
        "      #Edge Insertion\n",
        "      #inserting new edge can be happend between existing & existing or existing & new node\n",
        "      ram_node1 = str(random.choice(node_id))\n",
        "      ram_node2 = str(random.choice(node_id))\n",
        "      print(\"Select Node \"+ram_node1+\" and Node \"+ ram_node2+\" for new Edge\")\n",
        "      #making sure two nodes does not have existing connection and not existing in delete edge list\n",
        "      while (ram_node1,ram_node2) in edge_info or (ram_node1,ram_node2) in delete_edge:\n",
        "        print(\"Connecting exist or it is remove edge before, picking a new set!\")\n",
        "        ram_node1 = random.choice(node_id)\n",
        "        ram_node2 = random.choice(node_id)\n",
        "        print(\"Select Node \"+ram_node1+\" and Node \"+ ram_node2+\" for new Edge\")\n",
        "      target_graph.add_edge(ram_node1, ram_node2)\n",
        "      #assigned edge label\n",
        "      new_edge_type = random.choice(Edge_Types)\n",
        "      new_edge_id = str(len(edge_id))\n",
        "      edge_label = {'valence': new_edge_type, 'id':new_edge_id}\n",
        "      nx.set_edge_attributes(target_graph, {(ram_node1, ram_node2) : edge_label})\n",
        "      gev_index += 1\n",
        "\n",
        "  #fixing gev from over relabel after all nodes or edges are relabeled\n",
        "  counter_node = 1\n",
        "  for x in relabel_fix_gev:\n",
        "    del ground_GEV[x-counter_node]\n",
        "    counter_node += 1\n",
        "    print(\"Delete :\",x)\n",
        "    print(ground_GEV)\n",
        "\n",
        "  print(\"Graph display after the transformation:\")\n",
        "  node_info = nx.get_node_attributes(target_graph, 'type')\n",
        "  edge_info = dict([((n1, n2), d['valence']) for n1, n2, d in target_graph.edges(data=True)])\n",
        "  print(\"Transformed Node info: \", node_info)\n",
        "  print(\"Transformed Edge info: \", edge_info)\n",
        "  print(\"Transformed GEV: \", ground_GEV)\n",
        "  pos = nx.spring_layout(target_graph, scale=1.5)  \n",
        "  plt.figure(1,figsize=(10,10)) \n",
        "  nx.draw(target_graph, pos, labels=node_info, font_color=\"white\")\n",
        "  nx.draw_networkx_edge_labels(target_graph, pos, edge_labels=edge_info, font_color=\"red\")\n",
        "  plt.show()\n",
        "\n",
        "  return graph, target_graph, ground_GEV\n",
        "\n",
        "#randomly form the gev\n",
        "#first ram the number of edit operation between 5 to 10\n",
        "num_operation = random.choice(range(5,11))\n",
        "GEV = []\n",
        "for i in range(num_operation):\n",
        "  #ram the opreation type NR:1, NID:2, ER:3, EID:4\n",
        "  GEV.append(random.choice(range(1,5)))\n",
        "\n",
        "# call the graph_pair_generator function with testing graph 4.gexf\n",
        "# [3,3,3,3,3,3,3,3,3 ,1,1,1,1,1,1,1,1,1,1 ,3,3,1,1,2]\n",
        "graph, target_graph, GEV =graph_pair_generator(Graph, GEV)\n",
        "# adjacency representation of graph as a dictionary of dictionaries\n",
        "adj_graph = nx.to_dict_of_dicts(target_graph)\n",
        "for key, value in adj_graph.items():\n",
        "    print(key, ' : ', value)"
      ]
    },
    {
      "cell_type": "code",
      "source": [
        "node_id = list(Graph.nodes)\n",
        "print(node_id)\n",
        "relabel_node=['7', '3', '5', '8', '6']\n",
        "random_node = random.choice(node_id)\n",
        "while random_node in relabel_node:\n",
        "  print(random_node)\n",
        "  print(\"pick another node\")\n",
        "  random_node = random.choice(node_id)\n",
        "print(random_node)\n",
        "relabel_node.append(random_node)\n",
        "print(Graph.nodes(data= True))\n",
        "print(Graph.edges(data = True))\n",
        "edge_id = str(Graph.edges[('7','3')]['id'])\n",
        "print(edge_id)"
      ],
      "metadata": {
        "colab": {
          "base_uri": "https://localhost:8080/"
        },
        "id": "g9IKVtVknUi3",
        "outputId": "4dfeb769-0e33-4fa2-9dc6-06a14bff418c"
      },
      "execution_count": null,
      "outputs": [
        {
          "output_type": "stream",
          "name": "stdout",
          "text": [
            "['7', '3', '5', '8', '6', '1', '9', '0', '4', '2', '10', '11', '12', '13', '14', '15', '16', '17', '18', '19', '20', '21', '22', '23', '24', '25', '26', '27', '28', '29']\n",
            "9\n",
            "[('7', {'type': 'Tb', 'label': '7'}), ('3', {'type': 'I', 'label': '3'}), ('5', {'type': 'As', 'label': '5'}), ('8', {'type': 'O', 'label': '8'}), ('6', {'type': 'Cu', 'label': '6'}), ('1', {'type': 'Sn', 'label': '1'}), ('9', {'type': 'Tb', 'label': '9'}), ('0', {'type': 'S', 'label': '0'}), ('4', {'type': 'F', 'label': '4'}), ('2', {'type': 'Ga', 'label': '2'}), ('10', {'type': 'O', 'label': '10'}), ('11', {'type': 'Ho', 'label': '11'}), ('12', {'type': 'S', 'label': '12'}), ('13', {'type': 'Sb', 'label': '13'}), ('14', {'type': 'P', 'label': '14'}), ('15', {'type': 'Pt', 'label': '15'}), ('16', {'type': 'Pt', 'label': '16'}), ('17', {'type': 'F', 'label': '17'}), ('18', {'type': 'O', 'label': '18'}), ('19', {'type': 'C', 'label': '19'}), ('20', {'type': 'Cl', 'label': '20'}), ('21', {'type': 'Pb', 'label': '21'}), ('22', {'type': 'Sn', 'label': '22'}), ('23', {'type': 'Ho', 'label': '23'}), ('24', {'type': 'Sn', 'label': '24'}), ('25', {'type': 'N', 'label': '25'}), ('26', {'type': 'Ru', 'label': '26'}), ('27', {'type': 'Tb', 'label': '27'}), ('28', {'type': 'Co', 'label': '28'}), ('29', {'type': 'Tb', 'label': '29'})]\n",
            "[('7', '3', {'valence': 2, 'id': '6'}), ('3', '1', {'valence': 1, 'id': '2'}), ('3', '8', {'valence': 2, 'id': '7'}), ('3', '9', {'valence': 1, 'id': '8'}), ('5', '2', {'valence': 2, 'id': '4'}), ('6', '2', {'valence': 1, 'id': '5'}), ('1', '0', {'valence': 1, 'id': '0'}), ('0', '2', {'valence': 1, 'id': '1'}), ('4', '2', {'valence': 2, 'id': '3'})]\n",
            "6\n"
          ]
        }
      ]
    },
    {
      "cell_type": "code",
      "source": [
        "import random\n",
        "#randomly form the gev\n",
        "#first ram the number of edit operation between 5 to 10\n",
        "num_operation = random.choice(range(5,11))\n",
        "GEV = []\n",
        "print(num_operation)\n",
        "for i in range(num_operation):\n",
        "  #ram the opreation type NR:1, NID:2, ER:3, EID:4\n",
        "  GEV.append(random.choice(range(1,5)))\n",
        "\n",
        "print(GEV)"
      ],
      "metadata": {
        "colab": {
          "base_uri": "https://localhost:8080/"
        },
        "id": "Ufv1JPZ1e-f6",
        "outputId": "30ee582e-3fcd-4aa0-9cbc-d14d1e8f3ee1"
      },
      "execution_count": null,
      "outputs": [
        {
          "output_type": "stream",
          "name": "stdout",
          "text": [
            "6\n",
            "[4, 1, 1, 4, 4, 1]\n"
          ]
        }
      ]
    }
  ],
  "metadata": {
    "colab": {
      "collapsed_sections": [],
      "provenance": [],
      "authorship_tag": "ABX9TyN8khVoro5wjR1mfjrgeSZa",
      "include_colab_link": true
    },
    "kernelspec": {
      "display_name": "Python 3",
      "name": "python3"
    },
    "language_info": {
      "name": "python"
    }
  },
  "nbformat": 4,
  "nbformat_minor": 0
}